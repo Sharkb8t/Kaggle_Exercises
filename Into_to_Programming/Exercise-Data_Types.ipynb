{
 "cells": [
  {
   "cell_type": "markdown",
   "id": "368608d9",
   "metadata": {
    "papermill": {
     "duration": 0.005954,
     "end_time": "2025-05-22T18:50:54.374823",
     "exception": false,
     "start_time": "2025-05-22T18:50:54.368869",
     "status": "completed"
    },
    "tags": []
   },
   "source": [
    "**This notebook is an exercise in the [Intro to Programming](https://www.kaggle.com/learn/intro-to-programming) course.  You can reference the tutorial at [this link](https://www.kaggle.com/alexisbcook/data-types).**\n",
    "\n",
    "---\n"
   ]
  },
  {
   "cell_type": "markdown",
   "id": "dada853e",
   "metadata": {
    "papermill": {
     "duration": 0.004588,
     "end_time": "2025-05-22T18:50:54.384717",
     "exception": false,
     "start_time": "2025-05-22T18:50:54.380129",
     "status": "completed"
    },
    "tags": []
   },
   "source": [
    "In the tutorial, you learned about four different data types: floats, integers, strings, and booleans.  In this exercise, you'll experiment with them.\n",
    "\n",
    "# Set up the notebook\n",
    "\n",
    "Run the next code cell without changes to set up the notebook."
   ]
  },
  {
   "cell_type": "code",
   "execution_count": 1,
   "id": "9e88d944",
   "metadata": {
    "execution": {
     "iopub.execute_input": "2025-05-22T18:50:54.396072Z",
     "iopub.status.busy": "2025-05-22T18:50:54.395658Z",
     "iopub.status.idle": "2025-05-22T18:50:56.716745Z",
     "shell.execute_reply": "2025-05-22T18:50:56.715799Z"
    },
    "papermill": {
     "duration": 2.3288,
     "end_time": "2025-05-22T18:50:56.718420",
     "exception": false,
     "start_time": "2025-05-22T18:50:54.389620",
     "status": "completed"
    },
    "tags": []
   },
   "outputs": [
    {
     "name": "stdout",
     "output_type": "stream",
     "text": [
      "Setup complete.\n"
     ]
    }
   ],
   "source": [
    "# Set up the exercise\n",
    "from learntools.core import binder\n",
    "binder.bind(globals())\n",
    "from learntools.intro_to_programming.ex3 import *\n",
    "print('Setup complete.')"
   ]
  },
  {
   "cell_type": "markdown",
   "id": "1c249c5d",
   "metadata": {
    "papermill": {
     "duration": 0.004231,
     "end_time": "2025-05-22T18:50:56.727724",
     "exception": false,
     "start_time": "2025-05-22T18:50:56.723493",
     "status": "completed"
    },
    "tags": []
   },
   "source": [
    "# Question 1\n",
    "\n",
    "You have seen how to convert a float to an integer with the `int` function.  Try this out yourself by running the code cell below."
   ]
  },
  {
   "cell_type": "code",
   "execution_count": 2,
   "id": "64498398",
   "metadata": {
    "execution": {
     "iopub.execute_input": "2025-05-22T18:50:56.738068Z",
     "iopub.status.busy": "2025-05-22T18:50:56.737656Z",
     "iopub.status.idle": "2025-05-22T18:50:56.743493Z",
     "shell.execute_reply": "2025-05-22T18:50:56.742514Z"
    },
    "papermill": {
     "duration": 0.012782,
     "end_time": "2025-05-22T18:50:56.744969",
     "exception": false,
     "start_time": "2025-05-22T18:50:56.732187",
     "status": "completed"
    },
    "tags": []
   },
   "outputs": [
    {
     "name": "stdout",
     "output_type": "stream",
     "text": [
      "1.0\n",
      "<class 'float'>\n",
      "1\n",
      "<class 'int'>\n"
     ]
    }
   ],
   "source": [
    "# Define a float\n",
    "y = 1.\n",
    "print(y)\n",
    "print(type(y))\n",
    "\n",
    "# Convert float to integer with the int function\n",
    "z = int(y)\n",
    "print(z)\n",
    "print(type(z))"
   ]
  },
  {
   "cell_type": "markdown",
   "id": "30b977a9",
   "metadata": {
    "papermill": {
     "duration": 0.004368,
     "end_time": "2025-05-22T18:50:56.753991",
     "exception": false,
     "start_time": "2025-05-22T18:50:56.749623",
     "status": "completed"
    },
    "tags": []
   },
   "source": [
    "In this case, the float you are using has no numbers after the decimal.  \n",
    "- But what happens when you try to convert a float with a fractional part to an integer?  \n",
    "- How does the outcome of the `int` function change for positive and negative numbers?\n",
    "\n",
    "Use the next code cell to investigate and answer these questions.  Feel free to add or remove any lines of code -- it is your workspace!"
   ]
  },
  {
   "cell_type": "code",
   "execution_count": 3,
   "id": "42ef98ad",
   "metadata": {
    "execution": {
     "iopub.execute_input": "2025-05-22T18:50:56.764411Z",
     "iopub.status.busy": "2025-05-22T18:50:56.764106Z",
     "iopub.status.idle": "2025-05-22T18:50:56.769510Z",
     "shell.execute_reply": "2025-05-22T18:50:56.768525Z"
    },
    "papermill": {
     "duration": 0.012315,
     "end_time": "2025-05-22T18:50:56.770875",
     "exception": false,
     "start_time": "2025-05-22T18:50:56.758560",
     "status": "completed"
    },
    "tags": []
   },
   "outputs": [
    {
     "name": "stdout",
     "output_type": "stream",
     "text": [
      "1\n",
      "1\n",
      "-3\n",
      "-2\n"
     ]
    }
   ],
   "source": [
    "# Uncomment and run this code to get started!\n",
    "print(int(1.2321))\n",
    "print(int(1.747))\n",
    "print(int(-3.94535))\n",
    "print(int(-2.19774))"
   ]
  },
  {
   "cell_type": "markdown",
   "id": "96267598",
   "metadata": {
    "papermill": {
     "duration": 0.004479,
     "end_time": "2025-05-22T18:50:56.781674",
     "exception": false,
     "start_time": "2025-05-22T18:50:56.777195",
     "status": "completed"
    },
    "tags": []
   },
   "source": [
    "Once you have an answer, run the code cell below to see the solution.  Viewing the solution will give you credit for answering the problem."
   ]
  },
  {
   "cell_type": "code",
   "execution_count": 4,
   "id": "1f4b0b69",
   "metadata": {
    "execution": {
     "iopub.execute_input": "2025-05-22T18:50:56.792029Z",
     "iopub.status.busy": "2025-05-22T18:50:56.791726Z",
     "iopub.status.idle": "2025-05-22T18:50:56.800165Z",
     "shell.execute_reply": "2025-05-22T18:50:56.799224Z"
    },
    "papermill": {
     "duration": 0.015956,
     "end_time": "2025-05-22T18:50:56.802167",
     "exception": false,
     "start_time": "2025-05-22T18:50:56.786211",
     "status": "completed"
    },
    "tags": []
   },
   "outputs": [
    {
     "data": {
      "application/javascript": [
       "parent.postMessage({\"jupyterEvent\": \"custom.exercise_interaction\", \"data\": {\"outcomeType\": 1, \"valueTowardsCompletion\": 0.2, \"interactionType\": 1, \"questionType\": 4, \"questionId\": \"1_FloatToInt\", \"learnToolsVersion\": \"0.3.5\", \"failureMessage\": \"\", \"exceptionClass\": \"\", \"trace\": \"\"}}, \"*\")"
      ],
      "text/plain": [
       "<IPython.core.display.Javascript object>"
      ]
     },
     "metadata": {},
     "output_type": "display_data"
    },
    {
     "data": {
      "text/markdown": [
       "<span style=\"color:#33cc33\">Correct:</span> \n",
       "\n",
       "Negative floats are always rounded UP to the closest integer (for instance, both -1.1 and -1.9 are rounded up to -1). Positive floats are always rounded DOWN to the closest integer (for instance, 2.1 and 2.9 are rounded down to 2)."
      ],
      "text/plain": [
       "Correct: \n",
       "\n",
       "Negative floats are always rounded UP to the closest integer (for instance, both -1.1 and -1.9 are rounded up to -1). Positive floats are always rounded DOWN to the closest integer (for instance, 2.1 and 2.9 are rounded down to 2)."
      ]
     },
     "metadata": {},
     "output_type": "display_data"
    }
   ],
   "source": [
    "# Check your answer (Run this code cell to receive credit!)\n",
    "q1.check()"
   ]
  },
  {
   "cell_type": "markdown",
   "id": "c6034d4d",
   "metadata": {
    "papermill": {
     "duration": 0.004502,
     "end_time": "2025-05-22T18:50:56.811803",
     "exception": false,
     "start_time": "2025-05-22T18:50:56.807301",
     "status": "completed"
    },
    "tags": []
   },
   "source": [
    "# Question 2\n",
    "\n",
    "In the tutorial, you learned about booleans (which can take a value of `True` or `False`), in addition to integers, floats, and strings.  For this question, your goal is to determine what happens when you multiply a boolean by any of these data types.  Specifically, \n",
    "- What happens when you multiply an integer or float by `True`?  What happens when you multiply them by `False`?  How does the answer change if the numbers are positive or negative?\n",
    "- What happens when you multiply a string by `True`?  By `False`?\n",
    "\n",
    "Use the next code cell for your investigation. "
   ]
  },
  {
   "cell_type": "code",
   "execution_count": 5,
   "id": "94c5896e",
   "metadata": {
    "execution": {
     "iopub.execute_input": "2025-05-22T18:50:56.822596Z",
     "iopub.status.busy": "2025-05-22T18:50:56.822253Z",
     "iopub.status.idle": "2025-05-22T18:50:56.828790Z",
     "shell.execute_reply": "2025-05-22T18:50:56.827805Z"
    },
    "papermill": {
     "duration": 0.013921,
     "end_time": "2025-05-22T18:50:56.830483",
     "exception": false,
     "start_time": "2025-05-22T18:50:56.816562",
     "status": "completed"
    },
    "tags": []
   },
   "outputs": [
    {
     "name": "stdout",
     "output_type": "stream",
     "text": [
      "3\n",
      "-3.1\n",
      "\n",
      "<class 'str'>\n",
      "0\n",
      "0\n",
      "-0.0\n",
      "abc\n",
      "<class 'str'>\n",
      "3\n"
     ]
    }
   ],
   "source": [
    "# Uncomment and run this code to get started!\n",
    "print(3 * True)\n",
    "print(-3.1 * True)\n",
    "print(\"abc\" * False)\n",
    "print(type(\"abc\" * False))\n",
    "print(len(\"abc\" * False))\n",
    "print(3 * False)\n",
    "print(-3.1 * False)\n",
    "print(\"abc\" * True)\n",
    "print(type(\"abc\" * True))\n",
    "print(len(\"abc\" * True))"
   ]
  },
  {
   "cell_type": "markdown",
   "id": "181b9b74",
   "metadata": {
    "papermill": {
     "duration": 0.004755,
     "end_time": "2025-05-22T18:50:56.841005",
     "exception": false,
     "start_time": "2025-05-22T18:50:56.836250",
     "status": "completed"
    },
    "tags": []
   },
   "source": [
    "Once you have an answer, run the code cell below to see the solution.  Viewing the solution will give you credit for answering the problem."
   ]
  },
  {
   "cell_type": "code",
   "execution_count": 6,
   "id": "27b602dd",
   "metadata": {
    "execution": {
     "iopub.execute_input": "2025-05-22T18:50:56.852504Z",
     "iopub.status.busy": "2025-05-22T18:50:56.851558Z",
     "iopub.status.idle": "2025-05-22T18:50:56.859572Z",
     "shell.execute_reply": "2025-05-22T18:50:56.858739Z"
    },
    "papermill": {
     "duration": 0.015436,
     "end_time": "2025-05-22T18:50:56.861255",
     "exception": false,
     "start_time": "2025-05-22T18:50:56.845819",
     "status": "completed"
    },
    "tags": []
   },
   "outputs": [
    {
     "data": {
      "application/javascript": [
       "parent.postMessage({\"jupyterEvent\": \"custom.exercise_interaction\", \"data\": {\"outcomeType\": 1, \"valueTowardsCompletion\": 0.2, \"interactionType\": 1, \"questionType\": 4, \"questionId\": \"2_MultiplyBooleans\", \"learnToolsVersion\": \"0.3.5\", \"failureMessage\": \"\", \"exceptionClass\": \"\", \"trace\": \"\"}}, \"*\")"
      ],
      "text/plain": [
       "<IPython.core.display.Javascript object>"
      ]
     },
     "metadata": {},
     "output_type": "display_data"
    },
    {
     "data": {
      "text/markdown": [
       "<span style=\"color:#33cc33\">Correct:</span> \n",
       "\n",
       "When you multiple an integer or float by a boolean with value `True`, it just returns that same integer or float (and is equivalent to multiplying by 1).  If you multiply an integer or float by a boolean with value `False`, it always returns 0.  This is true for both positive and negative numbers.  If you multiply a string by a boolean with value `True`, it just returns that same string.  And if you multiply a string by a boolean with value `False`, it returns an empty string (or a string with length zero)."
      ],
      "text/plain": [
       "Correct: \n",
       "\n",
       "When you multiple an integer or float by a boolean with value `True`, it just returns that same integer or float (and is equivalent to multiplying by 1).  If you multiply an integer or float by a boolean with value `False`, it always returns 0.  This is true for both positive and negative numbers.  If you multiply a string by a boolean with value `True`, it just returns that same string.  And if you multiply a string by a boolean with value `False`, it returns an empty string (or a string with length zero)."
      ]
     },
     "metadata": {},
     "output_type": "display_data"
    }
   ],
   "source": [
    "# Check your answer (Run this code cell to receive credit!)\n",
    "q2.check()"
   ]
  },
  {
   "cell_type": "markdown",
   "id": "96d73932",
   "metadata": {
    "papermill": {
     "duration": 0.004796,
     "end_time": "2025-05-22T18:50:56.871704",
     "exception": false,
     "start_time": "2025-05-22T18:50:56.866908",
     "status": "completed"
    },
    "tags": []
   },
   "source": [
    "# Question 3\n",
    "\n",
    "In this question, you will build off your work from the previous exercise to write a function that estimates the value of a house.\n",
    "\n",
    "Use the next code cell to create a function `get_expected_cost` that takes as input three variables:\n",
    "- `beds` - number of bedrooms (data type float)\n",
    "- `baths` - number of bathrooms (data type float)\n",
    "- `has_basement` - whether or not the house has a basement (data type boolean)\n",
    "\n",
    "It should return the expected cost of a house with those characteristics. Assume that:\n",
    "- the expected cost for a house with 0 bedrooms and 0 bathrooms, and no basement is 80000, \n",
    "- each bedroom adds 30000 to the expected cost,\n",
    "- each bathroom adds 10000 to the expected cost, and\n",
    "- a basement adds 40000 to the expected cost.\n",
    "\n",
    "For instance,\n",
    "- a house with 1 bedroom, 1 bathroom, and no basement has an expected cost of 80000 + 30000 + 10000 = 120000.  This value will be calculated with `get_expected_cost(1, 1, False)`.\n",
    "- a house with 2 bedrooms, 1 bathroom, and a basement has an expected cost of 80000 + 2*30000 + 10000 + 40000 = 190000.  This value will be calculated with `get_expected_cost(2, 1, True)`.\n",
    "\n",
    "Remember you can always get a hint by uncommenting `q3.hint()` in the code cell following the next!"
   ]
  },
  {
   "cell_type": "code",
   "execution_count": 7,
   "id": "b95302dd",
   "metadata": {
    "execution": {
     "iopub.execute_input": "2025-05-22T18:50:56.883233Z",
     "iopub.status.busy": "2025-05-22T18:50:56.882901Z",
     "iopub.status.idle": "2025-05-22T18:50:56.890553Z",
     "shell.execute_reply": "2025-05-22T18:50:56.889653Z"
    },
    "papermill": {
     "duration": 0.015377,
     "end_time": "2025-05-22T18:50:56.892168",
     "exception": false,
     "start_time": "2025-05-22T18:50:56.876791",
     "status": "completed"
    },
    "tags": []
   },
   "outputs": [
    {
     "data": {
      "application/javascript": [
       "parent.postMessage({\"jupyterEvent\": \"custom.exercise_interaction\", \"data\": {\"outcomeType\": 1, \"valueTowardsCompletion\": 0.2, \"interactionType\": 1, \"questionType\": 2, \"questionId\": \"3_EstimateHouseValueBool\", \"learnToolsVersion\": \"0.3.5\", \"failureMessage\": \"\", \"exceptionClass\": \"\", \"trace\": \"\"}}, \"*\")"
      ],
      "text/plain": [
       "<IPython.core.display.Javascript object>"
      ]
     },
     "metadata": {},
     "output_type": "display_data"
    },
    {
     "data": {
      "text/markdown": [
       "<span style=\"color:#33cc33\">Correct</span>"
      ],
      "text/plain": [
       "Correct"
      ]
     },
     "metadata": {},
     "output_type": "display_data"
    }
   ],
   "source": [
    "# TODO: Complete the function\n",
    "def get_expected_cost(beds, baths, has_basement):\n",
    "    value = 80000 + (beds * 30000) + (baths * 10000) + ((has_basement==True) * 40000)\n",
    "    return value\n",
    "\n",
    "# Check your answer \n",
    "q3.check()"
   ]
  },
  {
   "cell_type": "code",
   "execution_count": 8,
   "id": "62b02b50",
   "metadata": {
    "execution": {
     "iopub.execute_input": "2025-05-22T18:50:56.904984Z",
     "iopub.status.busy": "2025-05-22T18:50:56.904639Z",
     "iopub.status.idle": "2025-05-22T18:50:56.916156Z",
     "shell.execute_reply": "2025-05-22T18:50:56.915330Z"
    },
    "papermill": {
     "duration": 0.019853,
     "end_time": "2025-05-22T18:50:56.917567",
     "exception": false,
     "start_time": "2025-05-22T18:50:56.897714",
     "status": "completed"
    },
    "tags": []
   },
   "outputs": [
    {
     "data": {
      "application/javascript": [
       "parent.postMessage({\"jupyterEvent\": \"custom.exercise_interaction\", \"data\": {\"interactionType\": 2, \"questionType\": 2, \"questionId\": \"3_EstimateHouseValueBool\", \"learnToolsVersion\": \"0.3.5\", \"valueTowardsCompletion\": 0.0, \"failureMessage\": \"\", \"exceptionClass\": \"\", \"trace\": \"\", \"outcomeType\": 4}}, \"*\")"
      ],
      "text/plain": [
       "<IPython.core.display.Javascript object>"
      ]
     },
     "metadata": {},
     "output_type": "display_data"
    },
    {
     "data": {
      "text/markdown": [
       "<span style=\"color:#3366cc\">Hint:</span> The variable `has_basement` is either `True` or `False`.  What happens when you multiply it by 40000 (the value of a basement)?  Refer to the previous question if you are unsure."
      ],
      "text/plain": [
       "Hint: The variable `has_basement` is either `True` or `False`.  What happens when you multiply it by 40000 (the value of a basement)?  Refer to the previous question if you are unsure."
      ]
     },
     "metadata": {},
     "output_type": "display_data"
    },
    {
     "data": {
      "application/javascript": [
       "parent.postMessage({\"jupyterEvent\": \"custom.exercise_interaction\", \"data\": {\"interactionType\": 3, \"questionType\": 2, \"questionId\": \"3_EstimateHouseValueBool\", \"learnToolsVersion\": \"0.3.5\", \"valueTowardsCompletion\": 0.0, \"failureMessage\": \"\", \"exceptionClass\": \"\", \"trace\": \"\", \"outcomeType\": 4}}, \"*\")"
      ],
      "text/plain": [
       "<IPython.core.display.Javascript object>"
      ]
     },
     "metadata": {},
     "output_type": "display_data"
    },
    {
     "data": {
      "text/markdown": [
       "<span style=\"color:#33cc99\">Solution:</span> \n",
       "```python\n",
       "def get_expected_cost(beds, baths, has_basement):\n",
       "    value = 80000 + 30000 * beds + 10000 * baths + 40000 * has_basement\n",
       "    return value\n",
       "\n",
       "```"
      ],
      "text/plain": [
       "Solution: \n",
       "```python\n",
       "def get_expected_cost(beds, baths, has_basement):\n",
       "    value = 80000 + 30000 * beds + 10000 * baths + 40000 * has_basement\n",
       "    return value\n",
       "\n",
       "```"
      ]
     },
     "metadata": {},
     "output_type": "display_data"
    }
   ],
   "source": [
    "# Uncomment to see a hint\n",
    "q3.hint()\n",
    "\n",
    "# Uncomment to view the solution\n",
    "q3.solution()"
   ]
  },
  {
   "cell_type": "markdown",
   "id": "d7ede913",
   "metadata": {
    "papermill": {
     "duration": 0.005395,
     "end_time": "2025-05-22T18:50:56.928714",
     "exception": false,
     "start_time": "2025-05-22T18:50:56.923319",
     "status": "completed"
    },
    "tags": []
   },
   "source": [
    "# Question 4\n",
    "\n",
    "We'll continue our study of boolean arithmetic.  For this question, your task is to provide a description of what happpens when you add booleans. \n",
    "\n",
    "Use the next code cell for your investigation.  Feel free to add or remove any lines of code - use it as your workspace!"
   ]
  },
  {
   "cell_type": "code",
   "execution_count": 9,
   "id": "892e9952",
   "metadata": {
    "execution": {
     "iopub.execute_input": "2025-05-22T18:50:56.941536Z",
     "iopub.status.busy": "2025-05-22T18:50:56.941162Z",
     "iopub.status.idle": "2025-05-22T18:50:56.946916Z",
     "shell.execute_reply": "2025-05-22T18:50:56.945834Z"
    },
    "papermill": {
     "duration": 0.014076,
     "end_time": "2025-05-22T18:50:56.948603",
     "exception": false,
     "start_time": "2025-05-22T18:50:56.934527",
     "status": "completed"
    },
    "tags": []
   },
   "outputs": [
    {
     "name": "stdout",
     "output_type": "stream",
     "text": [
      "0\n",
      "1\n",
      "1\n",
      "2\n",
      "3\n"
     ]
    }
   ],
   "source": [
    "print(False + False)\n",
    "print(True + False)\n",
    "print(False + True)\n",
    "print(True + True)\n",
    "print(False + True + True + True)"
   ]
  },
  {
   "cell_type": "markdown",
   "id": "8b33bab3",
   "metadata": {
    "papermill": {
     "duration": 0.005372,
     "end_time": "2025-05-22T18:50:56.960035",
     "exception": false,
     "start_time": "2025-05-22T18:50:56.954663",
     "status": "completed"
    },
    "tags": []
   },
   "source": [
    "Once you have an answer, run the code cell below to see the solution.  Viewing the solution will give you credit for answering the problem."
   ]
  },
  {
   "cell_type": "code",
   "execution_count": 10,
   "id": "063e58c2",
   "metadata": {
    "execution": {
     "iopub.execute_input": "2025-05-22T18:50:56.972979Z",
     "iopub.status.busy": "2025-05-22T18:50:56.972339Z",
     "iopub.status.idle": "2025-05-22T18:50:56.979368Z",
     "shell.execute_reply": "2025-05-22T18:50:56.978614Z"
    },
    "papermill": {
     "duration": 0.015268,
     "end_time": "2025-05-22T18:50:56.980836",
     "exception": false,
     "start_time": "2025-05-22T18:50:56.965568",
     "status": "completed"
    },
    "tags": []
   },
   "outputs": [
    {
     "data": {
      "application/javascript": [
       "parent.postMessage({\"jupyterEvent\": \"custom.exercise_interaction\", \"data\": {\"outcomeType\": 1, \"valueTowardsCompletion\": 0.2, \"interactionType\": 1, \"questionType\": 4, \"questionId\": \"4_AddingBooleans\", \"learnToolsVersion\": \"0.3.5\", \"failureMessage\": \"\", \"exceptionClass\": \"\", \"trace\": \"\"}}, \"*\")"
      ],
      "text/plain": [
       "<IPython.core.display.Javascript object>"
      ]
     },
     "metadata": {},
     "output_type": "display_data"
    },
    {
     "data": {
      "text/markdown": [
       "<span style=\"color:#33cc33\">Correct:</span> \n",
       "\n",
       "When you add booleans, adding `False` is equivalent to adding 0, and adding `True` is equivalent to adding 1."
      ],
      "text/plain": [
       "Correct: \n",
       "\n",
       "When you add booleans, adding `False` is equivalent to adding 0, and adding `True` is equivalent to adding 1."
      ]
     },
     "metadata": {},
     "output_type": "display_data"
    }
   ],
   "source": [
    "# Check your answer (Run this code cell to receive credit!)\n",
    "q4.check()"
   ]
  },
  {
   "cell_type": "markdown",
   "id": "f50891b7",
   "metadata": {
    "papermill": {
     "duration": 0.005931,
     "end_time": "2025-05-22T18:50:56.992802",
     "exception": false,
     "start_time": "2025-05-22T18:50:56.986871",
     "status": "completed"
    },
    "tags": []
   },
   "source": [
    "# 🌶️ Question 5\n",
    "\n",
    "You own an online shop where you sell rings with custom engravings.  You offer both gold plated and solid gold rings.\n",
    "- Gold plated rings have a base cost of \\\\$50, and you charge \\\\$7 per engraved unit.  \n",
    "- Solid gold rings have a base cost of \\\\$100, and you charge \\\\$10 per engraved unit.\n",
    "- Spaces and punctuation are counted as engraved units.\n",
    "\n",
    "Write a function `cost_of_project()` that takes two arguments:\n",
    "- `engraving` - a Python string with the text of the engraving\n",
    "- `solid_gold` - a Boolean that indicates whether the ring is solid gold\n",
    "\n",
    "It should return the cost of the project.  This question should be fairly challenging, and you may need a hint."
   ]
  },
  {
   "cell_type": "code",
   "execution_count": 11,
   "id": "296a683e",
   "metadata": {
    "execution": {
     "iopub.execute_input": "2025-05-22T18:50:57.006051Z",
     "iopub.status.busy": "2025-05-22T18:50:57.005760Z",
     "iopub.status.idle": "2025-05-22T18:50:57.014653Z",
     "shell.execute_reply": "2025-05-22T18:50:57.013711Z"
    },
    "papermill": {
     "duration": 0.017571,
     "end_time": "2025-05-22T18:50:57.016395",
     "exception": false,
     "start_time": "2025-05-22T18:50:56.998824",
     "status": "completed"
    },
    "tags": []
   },
   "outputs": [
    {
     "data": {
      "application/javascript": [
       "parent.postMessage({\"jupyterEvent\": \"custom.exercise_interaction\", \"data\": {\"outcomeType\": 1, \"valueTowardsCompletion\": 0.2, \"interactionType\": 1, \"questionType\": 2, \"questionId\": \"5_CustomEngravings\", \"learnToolsVersion\": \"0.3.5\", \"failureMessage\": \"\", \"exceptionClass\": \"\", \"trace\": \"\"}}, \"*\")"
      ],
      "text/plain": [
       "<IPython.core.display.Javascript object>"
      ]
     },
     "metadata": {},
     "output_type": "display_data"
    },
    {
     "data": {
      "text/markdown": [
       "<span style=\"color:#33cc33\">Correct</span>"
      ],
      "text/plain": [
       "Correct"
      ]
     },
     "metadata": {},
     "output_type": "display_data"
    }
   ],
   "source": [
    "def cost_of_project(engraving, solid_gold):\n",
    "    cost = solid_gold * (100 + 10 * len(engraving)) + (not solid_gold) * (50 + 7 * len(engraving))\n",
    "    return cost\n",
    "\n",
    "# Check your answer\n",
    "q5.check()"
   ]
  },
  {
   "cell_type": "code",
   "execution_count": 12,
   "id": "a06990e1",
   "metadata": {
    "execution": {
     "iopub.execute_input": "2025-05-22T18:50:57.031374Z",
     "iopub.status.busy": "2025-05-22T18:50:57.030580Z",
     "iopub.status.idle": "2025-05-22T18:50:57.041535Z",
     "shell.execute_reply": "2025-05-22T18:50:57.040666Z"
    },
    "papermill": {
     "duration": 0.020379,
     "end_time": "2025-05-22T18:50:57.043063",
     "exception": false,
     "start_time": "2025-05-22T18:50:57.022684",
     "status": "completed"
    },
    "tags": []
   },
   "outputs": [
    {
     "data": {
      "application/javascript": [
       "parent.postMessage({\"jupyterEvent\": \"custom.exercise_interaction\", \"data\": {\"interactionType\": 2, \"questionType\": 2, \"questionId\": \"5_CustomEngravings\", \"learnToolsVersion\": \"0.3.5\", \"valueTowardsCompletion\": 0.0, \"failureMessage\": \"\", \"exceptionClass\": \"\", \"trace\": \"\", \"outcomeType\": 4}}, \"*\")"
      ],
      "text/plain": [
       "<IPython.core.display.Javascript object>"
      ]
     },
     "metadata": {},
     "output_type": "display_data"
    },
    {
     "data": {
      "text/markdown": [
       "<span style=\"color:#3366cc\">Hint:</span> There are two options - either the project uses solid gold or does not.  With this in mind, you can structure your solution like this: `cost = solid_gold * ____ + (not solid_gold) * ____`.  You need to figure out how to fill in the blanks. Also, remember that:\n",
       "- If `solid_gold = True`, then `(not solid_gold) = False`, and if `solid_gold = False`, then `(not solid_gold) = True`.\n",
       "- Multiplying an integer by `True` is equivalent to multiplying it by 1, and multiplying an integer by `False` is equivalent to multiplying it by 0."
      ],
      "text/plain": [
       "Hint: There are two options - either the project uses solid gold or does not.  With this in mind, you can structure your solution like this: `cost = solid_gold * ____ + (not solid_gold) * ____`.  You need to figure out how to fill in the blanks. Also, remember that:\n",
       "- If `solid_gold = True`, then `(not solid_gold) = False`, and if `solid_gold = False`, then `(not solid_gold) = True`.\n",
       "- Multiplying an integer by `True` is equivalent to multiplying it by 1, and multiplying an integer by `False` is equivalent to multiplying it by 0."
      ]
     },
     "metadata": {},
     "output_type": "display_data"
    },
    {
     "data": {
      "application/javascript": [
       "parent.postMessage({\"jupyterEvent\": \"custom.exercise_interaction\", \"data\": {\"interactionType\": 3, \"questionType\": 2, \"questionId\": \"5_CustomEngravings\", \"learnToolsVersion\": \"0.3.5\", \"valueTowardsCompletion\": 0.0, \"failureMessage\": \"\", \"exceptionClass\": \"\", \"trace\": \"\", \"outcomeType\": 4}}, \"*\")"
      ],
      "text/plain": [
       "<IPython.core.display.Javascript object>"
      ]
     },
     "metadata": {},
     "output_type": "display_data"
    },
    {
     "data": {
      "text/markdown": [
       "<span style=\"color:#33cc99\">Solution:</span> \n",
       "```python\n",
       "def cost_of_project(engraving, solid_gold):\n",
       "    cost = solid_gold * (100 + 10 * len(engraving)) + (not solid_gold) * (50 + 7 * len(engraving))\n",
       "    return cost\n",
       "\n",
       "```"
      ],
      "text/plain": [
       "Solution: \n",
       "```python\n",
       "def cost_of_project(engraving, solid_gold):\n",
       "    cost = solid_gold * (100 + 10 * len(engraving)) + (not solid_gold) * (50 + 7 * len(engraving))\n",
       "    return cost\n",
       "\n",
       "```"
      ]
     },
     "metadata": {},
     "output_type": "display_data"
    }
   ],
   "source": [
    "# Uncomment to see a hint\n",
    "q5.hint()\n",
    "\n",
    "# Uncomment to view the solution\n",
    "q5.solution()"
   ]
  },
  {
   "cell_type": "markdown",
   "id": "b9f1445f",
   "metadata": {
    "papermill": {
     "duration": 0.006486,
     "end_time": "2025-05-22T18:50:57.056514",
     "exception": false,
     "start_time": "2025-05-22T18:50:57.050028",
     "status": "completed"
    },
    "tags": []
   },
   "source": [
    "Run the next code cell to calculate the cost of engraving `Charlie+Denver` on a solid gold ring."
   ]
  },
  {
   "cell_type": "code",
   "execution_count": 13,
   "id": "2db24b43",
   "metadata": {
    "execution": {
     "iopub.execute_input": "2025-05-22T18:50:57.071131Z",
     "iopub.status.busy": "2025-05-22T18:50:57.070759Z",
     "iopub.status.idle": "2025-05-22T18:50:57.076395Z",
     "shell.execute_reply": "2025-05-22T18:50:57.075336Z"
    },
    "papermill": {
     "duration": 0.015144,
     "end_time": "2025-05-22T18:50:57.078220",
     "exception": false,
     "start_time": "2025-05-22T18:50:57.063076",
     "status": "completed"
    },
    "tags": []
   },
   "outputs": [
    {
     "name": "stdout",
     "output_type": "stream",
     "text": [
      "240\n"
     ]
    }
   ],
   "source": [
    "project_one = cost_of_project(\"Charlie+Denver\", True)\n",
    "print(project_one)"
   ]
  },
  {
   "cell_type": "markdown",
   "id": "f30e8169",
   "metadata": {
    "papermill": {
     "duration": 0.007047,
     "end_time": "2025-05-22T18:50:57.092281",
     "exception": false,
     "start_time": "2025-05-22T18:50:57.085234",
     "status": "completed"
    },
    "tags": []
   },
   "source": [
    "Use the next code cell to calculate the cost of engraving `08/10/2000` on a gold plated ring."
   ]
  },
  {
   "cell_type": "code",
   "execution_count": 14,
   "id": "6c70caa9",
   "metadata": {
    "execution": {
     "iopub.execute_input": "2025-05-22T18:50:57.107905Z",
     "iopub.status.busy": "2025-05-22T18:50:57.107575Z",
     "iopub.status.idle": "2025-05-22T18:50:57.112726Z",
     "shell.execute_reply": "2025-05-22T18:50:57.111686Z"
    },
    "papermill": {
     "duration": 0.015324,
     "end_time": "2025-05-22T18:50:57.114258",
     "exception": false,
     "start_time": "2025-05-22T18:50:57.098934",
     "status": "completed"
    },
    "tags": []
   },
   "outputs": [
    {
     "name": "stdout",
     "output_type": "stream",
     "text": [
      "120\n"
     ]
    }
   ],
   "source": [
    "project_two = cost_of_project(\"08/10/2000\", False)\n",
    "print(project_two)"
   ]
  },
  {
   "cell_type": "markdown",
   "id": "d54c9b9c",
   "metadata": {
    "papermill": {
     "duration": 0.006281,
     "end_time": "2025-05-22T18:50:57.127354",
     "exception": false,
     "start_time": "2025-05-22T18:50:57.121073",
     "status": "completed"
    },
    "tags": []
   },
   "source": [
    "# Keep going\n",
    "\n",
    "Continue to the next lesson to **[learn about conditions and conditional statements](https://www.kaggle.com/alexisbcook/conditions-and-conditional-statements)**."
   ]
  },
  {
   "cell_type": "markdown",
   "id": "d656e0d7",
   "metadata": {
    "papermill": {
     "duration": 0.006283,
     "end_time": "2025-05-22T18:50:57.140147",
     "exception": false,
     "start_time": "2025-05-22T18:50:57.133864",
     "status": "completed"
    },
    "tags": []
   },
   "source": [
    "---\n",
    "\n",
    "\n",
    "\n",
    "\n",
    "*Have questions or comments? Visit the [course discussion forum](https://www.kaggle.com/learn/intro-to-programming/discussion) to chat with other learners.*"
   ]
  }
 ],
 "metadata": {
  "kaggle": {
   "accelerator": "none",
   "dataSources": [],
   "isGpuEnabled": false,
   "isInternetEnabled": false,
   "language": "python",
   "sourceType": "notebook"
  },
  "kernelspec": {
   "display_name": "Python 3",
   "language": "python",
   "name": "python3"
  },
  "language_info": {
   "codemirror_mode": {
    "name": "ipython",
    "version": 3
   },
   "file_extension": ".py",
   "mimetype": "text/x-python",
   "name": "python",
   "nbconvert_exporter": "python",
   "pygments_lexer": "ipython3",
   "version": "3.11.11"
  },
  "papermill": {
   "default_parameters": {},
   "duration": 8.948623,
   "end_time": "2025-05-22T18:50:57.666888",
   "environment_variables": {},
   "exception": null,
   "input_path": "__notebook__.ipynb",
   "output_path": "__notebook__.ipynb",
   "parameters": {},
   "start_time": "2025-05-22T18:50:48.718265",
   "version": "2.3.3"
  }
 },
 "nbformat": 4,
 "nbformat_minor": 5
}

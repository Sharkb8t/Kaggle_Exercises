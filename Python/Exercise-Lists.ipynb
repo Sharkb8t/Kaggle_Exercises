{
 "cells": [
  {
   "cell_type": "markdown",
   "id": "4b5b3d87",
   "metadata": {
    "papermill": {
     "duration": 0.004669,
     "end_time": "2025-04-22T22:15:21.326002",
     "exception": false,
     "start_time": "2025-04-22T22:15:21.321333",
     "status": "completed"
    },
    "tags": []
   },
   "source": [
    "**This notebook is an exercise in the [Python](https://www.kaggle.com/learn/python) course.  You can reference the tutorial at [this link](https://www.kaggle.com/colinmorris/lists).**\n",
    "\n",
    "---\n"
   ]
  },
  {
   "cell_type": "markdown",
   "id": "c6a16cf2",
   "metadata": {
    "papermill": {
     "duration": 0.002598,
     "end_time": "2025-04-22T22:15:21.332290",
     "exception": false,
     "start_time": "2025-04-22T22:15:21.329692",
     "status": "completed"
    },
    "tags": []
   },
   "source": [
    "Things get more interesting with lists. You'll apply your new knowledge to solve the questions below. Remember to run the following cell first."
   ]
  },
  {
   "cell_type": "code",
   "execution_count": 1,
   "id": "fa8da516",
   "metadata": {
    "execution": {
     "iopub.execute_input": "2025-04-22T22:15:21.338258Z",
     "iopub.status.busy": "2025-04-22T22:15:21.337962Z",
     "iopub.status.idle": "2025-04-22T22:15:22.894716Z",
     "shell.execute_reply": "2025-04-22T22:15:22.893321Z"
    },
    "papermill": {
     "duration": 1.561489,
     "end_time": "2025-04-22T22:15:22.896162",
     "exception": false,
     "start_time": "2025-04-22T22:15:21.334673",
     "status": "completed"
    },
    "tags": []
   },
   "outputs": [
    {
     "name": "stdout",
     "output_type": "stream",
     "text": [
      "Setup complete.\n"
     ]
    }
   ],
   "source": [
    "from learntools.core import binder; binder.bind(globals())\n",
    "from learntools.python.ex4 import *\n",
    "print('Setup complete.')"
   ]
  },
  {
   "cell_type": "markdown",
   "id": "cfe8175c",
   "metadata": {
    "papermill": {
     "duration": 0.002216,
     "end_time": "2025-04-22T22:15:22.901229",
     "exception": false,
     "start_time": "2025-04-22T22:15:22.899013",
     "status": "completed"
    },
    "tags": []
   },
   "source": [
    "# 1.\n",
    "\n",
    "Complete the function below according to its docstring."
   ]
  },
  {
   "cell_type": "code",
   "execution_count": 2,
   "id": "a87e8fee",
   "metadata": {
    "execution": {
     "iopub.execute_input": "2025-04-22T22:15:22.907164Z",
     "iopub.status.busy": "2025-04-22T22:15:22.906761Z",
     "iopub.status.idle": "2025-04-22T22:15:22.914686Z",
     "shell.execute_reply": "2025-04-22T22:15:22.914007Z"
    },
    "papermill": {
     "duration": 0.012029,
     "end_time": "2025-04-22T22:15:22.915697",
     "exception": false,
     "start_time": "2025-04-22T22:15:22.903668",
     "status": "completed"
    },
    "tags": []
   },
   "outputs": [
    {
     "data": {
      "application/javascript": [
       "parent.postMessage({\"jupyterEvent\": \"custom.exercise_interaction\", \"data\": {\"outcomeType\": 1, \"valueTowardsCompletion\": 0.2, \"interactionType\": 1, \"questionType\": 2, \"questionId\": \"1_SelectSecondItem\", \"learnToolsVersion\": \"0.3.5\", \"failureMessage\": \"\", \"exceptionClass\": \"\", \"trace\": \"\"}}, \"*\")"
      ],
      "text/plain": [
       "<IPython.core.display.Javascript object>"
      ]
     },
     "metadata": {},
     "output_type": "display_data"
    },
    {
     "data": {
      "text/markdown": [
       "<span style=\"color:#33cc33\">Correct</span>"
      ],
      "text/plain": [
       "Correct"
      ]
     },
     "metadata": {},
     "output_type": "display_data"
    }
   ],
   "source": [
    "def select_second(L):\n",
    "    \"\"\"Return the second element of the given list. If the list has no second\n",
    "    element, return None.\n",
    "    \"\"\"\n",
    "    return L[1] if len(L) > 1 else None\n",
    "\n",
    "# Check your answer\n",
    "q1.check()"
   ]
  },
  {
   "cell_type": "code",
   "execution_count": 3,
   "id": "89ab231c",
   "metadata": {
    "execution": {
     "iopub.execute_input": "2025-04-22T22:15:22.922591Z",
     "iopub.status.busy": "2025-04-22T22:15:22.922040Z",
     "iopub.status.idle": "2025-04-22T22:15:22.925476Z",
     "shell.execute_reply": "2025-04-22T22:15:22.924742Z"
    },
    "papermill": {
     "duration": 0.00831,
     "end_time": "2025-04-22T22:15:22.926865",
     "exception": false,
     "start_time": "2025-04-22T22:15:22.918555",
     "status": "completed"
    },
    "tags": []
   },
   "outputs": [],
   "source": [
    "#q1.hint()\n",
    "#q1.solution()"
   ]
  },
  {
   "cell_type": "markdown",
   "id": "1e0b22a9",
   "metadata": {
    "papermill": {
     "duration": 0.002314,
     "end_time": "2025-04-22T22:15:22.932260",
     "exception": false,
     "start_time": "2025-04-22T22:15:22.929946",
     "status": "completed"
    },
    "tags": []
   },
   "source": [
    "# 2.\n",
    "\n",
    "You are analyzing sports teams.  Members of each team are stored in a list. The Coach is the first name in the list, the captain is the second name in the list, and other players are listed after that. \n",
    "These lists are stored in another list, which starts with the best team and proceeds through the list to the worst team last.  Complete the function below to select the **captain** of the worst team."
   ]
  },
  {
   "cell_type": "code",
   "execution_count": 4,
   "id": "2406d8b9",
   "metadata": {
    "execution": {
     "iopub.execute_input": "2025-04-22T22:15:22.938299Z",
     "iopub.status.busy": "2025-04-22T22:15:22.938047Z",
     "iopub.status.idle": "2025-04-22T22:15:22.944460Z",
     "shell.execute_reply": "2025-04-22T22:15:22.943732Z"
    },
    "papermill": {
     "duration": 0.011029,
     "end_time": "2025-04-22T22:15:22.945773",
     "exception": false,
     "start_time": "2025-04-22T22:15:22.934744",
     "status": "completed"
    },
    "tags": []
   },
   "outputs": [
    {
     "data": {
      "application/javascript": [
       "parent.postMessage({\"jupyterEvent\": \"custom.exercise_interaction\", \"data\": {\"outcomeType\": 1, \"valueTowardsCompletion\": 0.2, \"interactionType\": 1, \"questionType\": 2, \"questionId\": \"2_LosingTeamCaptain\", \"learnToolsVersion\": \"0.3.5\", \"failureMessage\": \"\", \"exceptionClass\": \"\", \"trace\": \"\"}}, \"*\")"
      ],
      "text/plain": [
       "<IPython.core.display.Javascript object>"
      ]
     },
     "metadata": {},
     "output_type": "display_data"
    },
    {
     "data": {
      "text/markdown": [
       "<span style=\"color:#33cc33\">Correct</span>"
      ],
      "text/plain": [
       "Correct"
      ]
     },
     "metadata": {},
     "output_type": "display_data"
    }
   ],
   "source": [
    "def losing_team_captain(teams):\n",
    "    \"\"\"Given a list of teams, where each team is a list of names, return the 2nd player (captain)\n",
    "    from the last listed team\n",
    "    \"\"\"\n",
    "    return teams[-1][1]\n",
    "\n",
    "# Check your answer\n",
    "q2.check()"
   ]
  },
  {
   "cell_type": "code",
   "execution_count": 5,
   "id": "a10fca7c",
   "metadata": {
    "execution": {
     "iopub.execute_input": "2025-04-22T22:15:22.952932Z",
     "iopub.status.busy": "2025-04-22T22:15:22.952721Z",
     "iopub.status.idle": "2025-04-22T22:15:22.956068Z",
     "shell.execute_reply": "2025-04-22T22:15:22.955245Z"
    },
    "papermill": {
     "duration": 0.008296,
     "end_time": "2025-04-22T22:15:22.957365",
     "exception": false,
     "start_time": "2025-04-22T22:15:22.949069",
     "status": "completed"
    },
    "tags": []
   },
   "outputs": [],
   "source": [
    "#q2.hint()\n",
    "#q2.solution()"
   ]
  },
  {
   "cell_type": "markdown",
   "id": "31486f64",
   "metadata": {
    "papermill": {
     "duration": 0.002536,
     "end_time": "2025-04-22T22:15:22.963022",
     "exception": false,
     "start_time": "2025-04-22T22:15:22.960486",
     "status": "completed"
    },
    "tags": []
   },
   "source": [
    "# 3.\n",
    "\n",
    "The next iteration of Mario Kart will feature an extra-infuriating new item, the *Purple Shell*. When used, it warps the last place racer into first place and the first place racer into last place. Complete the function below to implement the Purple Shell's effect."
   ]
  },
  {
   "cell_type": "code",
   "execution_count": 6,
   "id": "2e775dd4",
   "metadata": {
    "execution": {
     "iopub.execute_input": "2025-04-22T22:15:22.969378Z",
     "iopub.status.busy": "2025-04-22T22:15:22.969122Z",
     "iopub.status.idle": "2025-04-22T22:15:22.975638Z",
     "shell.execute_reply": "2025-04-22T22:15:22.975032Z"
    },
    "papermill": {
     "duration": 0.011045,
     "end_time": "2025-04-22T22:15:22.976647",
     "exception": false,
     "start_time": "2025-04-22T22:15:22.965602",
     "status": "completed"
    },
    "tags": []
   },
   "outputs": [
    {
     "data": {
      "application/javascript": [
       "parent.postMessage({\"jupyterEvent\": \"custom.exercise_interaction\", \"data\": {\"outcomeType\": 1, \"valueTowardsCompletion\": 0.2, \"interactionType\": 1, \"questionType\": 2, \"questionId\": \"3_PurpleShell\", \"learnToolsVersion\": \"0.3.5\", \"failureMessage\": \"\", \"exceptionClass\": \"\", \"trace\": \"\"}}, \"*\")"
      ],
      "text/plain": [
       "<IPython.core.display.Javascript object>"
      ]
     },
     "metadata": {},
     "output_type": "display_data"
    },
    {
     "data": {
      "text/markdown": [
       "<span style=\"color:#33cc33\">Correct</span>"
      ],
      "text/plain": [
       "Correct"
      ]
     },
     "metadata": {},
     "output_type": "display_data"
    }
   ],
   "source": [
    "def purple_shell(racers):\n",
    "    \"\"\"Given a list of racers, set the first place racer (at the front of the list) to last\n",
    "    place and vice versa.\n",
    "    \n",
    "    >>> r = [\"Mario\", \"Bowser\", \"Luigi\"]\n",
    "    >>> purple_shell(r)\n",
    "    >>> r\n",
    "    [\"Luigi\", \"Bowser\", \"Mario\"]\n",
    "    \"\"\"\n",
    "    # Only swap if there are at least two racers\n",
    "    if len(racers) >= 2:\n",
    "        racers[0], racers[-1] = racers[-1], racers[0]\n",
    "\n",
    "# Check your answer\n",
    "q3.check()"
   ]
  },
  {
   "cell_type": "code",
   "execution_count": 7,
   "id": "8e0ed122",
   "metadata": {
    "execution": {
     "iopub.execute_input": "2025-04-22T22:15:22.983457Z",
     "iopub.status.busy": "2025-04-22T22:15:22.983277Z",
     "iopub.status.idle": "2025-04-22T22:15:22.986334Z",
     "shell.execute_reply": "2025-04-22T22:15:22.985682Z"
    },
    "papermill": {
     "duration": 0.007517,
     "end_time": "2025-04-22T22:15:22.987419",
     "exception": false,
     "start_time": "2025-04-22T22:15:22.979902",
     "status": "completed"
    },
    "tags": []
   },
   "outputs": [],
   "source": [
    "#q3.hint()\n",
    "#q3.solution()"
   ]
  },
  {
   "cell_type": "markdown",
   "id": "f33e7825",
   "metadata": {
    "papermill": {
     "duration": 0.002634,
     "end_time": "2025-04-22T22:15:22.993103",
     "exception": false,
     "start_time": "2025-04-22T22:15:22.990469",
     "status": "completed"
    },
    "tags": []
   },
   "source": [
    "# 4.\n",
    "\n",
    "What are the lengths of the following lists? Fill in the variable `lengths` with your predictions. (Try to make a prediction for each list *without* just calling `len()` on it.)"
   ]
  },
  {
   "cell_type": "code",
   "execution_count": 8,
   "id": "8b43baba",
   "metadata": {
    "execution": {
     "iopub.execute_input": "2025-04-22T22:15:22.999711Z",
     "iopub.status.busy": "2025-04-22T22:15:22.999411Z",
     "iopub.status.idle": "2025-04-22T22:15:23.008834Z",
     "shell.execute_reply": "2025-04-22T22:15:23.007987Z"
    },
    "papermill": {
     "duration": 0.014346,
     "end_time": "2025-04-22T22:15:23.010222",
     "exception": false,
     "start_time": "2025-04-22T22:15:22.995876",
     "status": "completed"
    },
    "tags": []
   },
   "outputs": [
    {
     "data": {
      "application/javascript": [
       "parent.postMessage({\"jupyterEvent\": \"custom.exercise_interaction\", \"data\": {\"outcomeType\": 1, \"valueTowardsCompletion\": 0.2, \"interactionType\": 1, \"questionType\": 1, \"questionId\": \"4_UnderstandLen\", \"learnToolsVersion\": \"0.3.5\", \"failureMessage\": \"\", \"exceptionClass\": \"\", \"trace\": \"\"}}, \"*\")"
      ],
      "text/plain": [
       "<IPython.core.display.Javascript object>"
      ]
     },
     "metadata": {},
     "output_type": "display_data"
    },
    {
     "data": {
      "text/markdown": [
       "<span style=\"color:#33cc33\">Correct:</span> \n",
       "\n",
       "\n",
       "- a: There are three items in this list. Nothing tricky yet.\n",
       "- b: The list `[2, 3]` counts as a single item. It has one item before it. So we have 2 items in the list\n",
       "- c: The empty list has 0 items\n",
       "- d: The expression is the same as the list `[2, 3]`, which has length 2."
      ],
      "text/plain": [
       "Correct: \n",
       "\n",
       "\n",
       "- a: There are three items in this list. Nothing tricky yet.\n",
       "- b: The list `[2, 3]` counts as a single item. It has one item before it. So we have 2 items in the list\n",
       "- c: The empty list has 0 items\n",
       "- d: The expression is the same as the list `[2, 3]`, which has length 2."
      ]
     },
     "metadata": {},
     "output_type": "display_data"
    }
   ],
   "source": [
    "a = [1, 2, 3]\n",
    "b = [1, [2, 3]]\n",
    "c = []\n",
    "d = [1, 2, 3][1:]\n",
    "\n",
    "# Put your predictions in the list below. Lengths should contain 4 numbers, the\n",
    "# first being the length of a, the second being the length of b and so on.\n",
    "lengths = [3, 2, 0, 2]\n",
    "\n",
    "# Check your answer\n",
    "q4.check()"
   ]
  },
  {
   "cell_type": "code",
   "execution_count": 9,
   "id": "3d557a9c",
   "metadata": {
    "execution": {
     "iopub.execute_input": "2025-04-22T22:15:23.017755Z",
     "iopub.status.busy": "2025-04-22T22:15:23.017425Z",
     "iopub.status.idle": "2025-04-22T22:15:23.020786Z",
     "shell.execute_reply": "2025-04-22T22:15:23.020145Z"
    },
    "papermill": {
     "duration": 0.008279,
     "end_time": "2025-04-22T22:15:23.022020",
     "exception": false,
     "start_time": "2025-04-22T22:15:23.013741",
     "status": "completed"
    },
    "tags": []
   },
   "outputs": [],
   "source": [
    "# line below provides some explanation\n",
    "#q4.solution()"
   ]
  },
  {
   "cell_type": "markdown",
   "id": "ab5f6dfc",
   "metadata": {
    "papermill": {
     "duration": 0.003164,
     "end_time": "2025-04-22T22:15:23.028894",
     "exception": false,
     "start_time": "2025-04-22T22:15:23.025730",
     "status": "completed"
    },
    "tags": []
   },
   "source": [
    "# 5. <span title=\"A bit spicy\" style=\"color: darkgreen \">🌶️</span>\n",
    "\n",
    "We're using lists to record people who attended our party and what order they arrived in. For example, the following list represents a party with 7 guests, in which Adela showed up first and Ford was the last to arrive:\n",
    "\n",
    "    party_attendees = ['Adela', 'Fleda', 'Owen', 'May', 'Mona', 'Gilbert', 'Ford']\n",
    "\n",
    "A guest is considered 'fashionably late' if they arrived after at least half of the party's guests. However, they must not be the very last guest (that's taking it too far). In the above example, Mona and Gilbert are the only guests who were fashionably late.\n",
    "\n",
    "Complete the function below which takes a list of party attendees as well as a person, and tells us whether that person is fashionably late."
   ]
  },
  {
   "cell_type": "code",
   "execution_count": 10,
   "id": "612e48fd",
   "metadata": {
    "execution": {
     "iopub.execute_input": "2025-04-22T22:15:23.036368Z",
     "iopub.status.busy": "2025-04-22T22:15:23.036118Z",
     "iopub.status.idle": "2025-04-22T22:15:23.042980Z",
     "shell.execute_reply": "2025-04-22T22:15:23.042209Z"
    },
    "papermill": {
     "duration": 0.012283,
     "end_time": "2025-04-22T22:15:23.044292",
     "exception": false,
     "start_time": "2025-04-22T22:15:23.032009",
     "status": "completed"
    },
    "tags": []
   },
   "outputs": [
    {
     "data": {
      "application/javascript": [
       "parent.postMessage({\"jupyterEvent\": \"custom.exercise_interaction\", \"data\": {\"outcomeType\": 1, \"valueTowardsCompletion\": 0.2, \"interactionType\": 1, \"questionType\": 2, \"questionId\": \"5_FashionablyLate\", \"learnToolsVersion\": \"0.3.5\", \"failureMessage\": \"\", \"exceptionClass\": \"\", \"trace\": \"\"}}, \"*\")"
      ],
      "text/plain": [
       "<IPython.core.display.Javascript object>"
      ]
     },
     "metadata": {},
     "output_type": "display_data"
    },
    {
     "data": {
      "text/markdown": [
       "<span style=\"color:#33cc33\">Correct</span>"
      ],
      "text/plain": [
       "Correct"
      ]
     },
     "metadata": {},
     "output_type": "display_data"
    }
   ],
   "source": [
    "def fashionably_late(arrivals, name):\n",
    "    \"\"\"Given an ordered list of arrivals to the party and a name, return whether the guest with that\n",
    "    name was fashionably late.\n",
    "    \"\"\"\n",
    "    idx = arrivals.index(name)\n",
    "    return idx >= len(arrivals) / 2 and idx != len(arrivals) - 1\n",
    "\n",
    "# Check your answer\n",
    "q5.check()"
   ]
  },
  {
   "cell_type": "code",
   "execution_count": 11,
   "id": "66aee3a7",
   "metadata": {
    "execution": {
     "iopub.execute_input": "2025-04-22T22:15:23.052302Z",
     "iopub.status.busy": "2025-04-22T22:15:23.052045Z",
     "iopub.status.idle": "2025-04-22T22:15:23.055488Z",
     "shell.execute_reply": "2025-04-22T22:15:23.054844Z"
    },
    "papermill": {
     "duration": 0.008745,
     "end_time": "2025-04-22T22:15:23.056750",
     "exception": false,
     "start_time": "2025-04-22T22:15:23.048005",
     "status": "completed"
    },
    "tags": []
   },
   "outputs": [],
   "source": [
    "#q5.hint()\n",
    "#q5.solution()"
   ]
  },
  {
   "cell_type": "markdown",
   "id": "c0865124",
   "metadata": {
    "papermill": {
     "duration": 0.003096,
     "end_time": "2025-04-22T22:15:23.063540",
     "exception": false,
     "start_time": "2025-04-22T22:15:23.060444",
     "status": "completed"
    },
    "tags": []
   },
   "source": [
    "# Keep Going\n",
    "\n",
    "That's it for lists and tuples! Now you have the baseline knowledge to **[learn about loops](https://www.kaggle.com/colinmorris/loops-and-list-comprehensions)**, which is where lists and tuples get really interesting. "
   ]
  },
  {
   "cell_type": "markdown",
   "id": "ac79f7b8",
   "metadata": {
    "papermill": {
     "duration": 0.002933,
     "end_time": "2025-04-22T22:15:23.070011",
     "exception": false,
     "start_time": "2025-04-22T22:15:23.067078",
     "status": "completed"
    },
    "tags": []
   },
   "source": [
    "---\n",
    "\n",
    "\n",
    "\n",
    "\n",
    "*Have questions or comments? Visit the [course discussion forum](https://www.kaggle.com/learn/python/discussion) to chat with other learners.*"
   ]
  }
 ],
 "metadata": {
  "kaggle": {
   "accelerator": "none",
   "dataSources": [],
   "isGpuEnabled": false,
   "isInternetEnabled": false,
   "language": "python",
   "sourceType": "notebook"
  },
  "kernelspec": {
   "display_name": "Python 3",
   "language": "python",
   "name": "python3"
  },
  "language_info": {
   "codemirror_mode": {
    "name": "ipython",
    "version": 3
   },
   "file_extension": ".py",
   "mimetype": "text/x-python",
   "name": "python",
   "nbconvert_exporter": "python",
   "pygments_lexer": "ipython3",
   "version": "3.11.11"
  },
  "learntools_metadata": {
   "lesson_index": 3,
   "type": "exercise"
  },
  "papermill": {
   "default_parameters": {},
   "duration": 7.020065,
   "end_time": "2025-04-22T22:15:23.491301",
   "environment_variables": {},
   "exception": null,
   "input_path": "__notebook__.ipynb",
   "output_path": "__notebook__.ipynb",
   "parameters": {},
   "start_time": "2025-04-22T22:15:16.471236",
   "version": "2.6.0"
  }
 },
 "nbformat": 4,
 "nbformat_minor": 5
}

{
 "cells": [
  {
   "cell_type": "markdown",
   "id": "4b5dc166",
   "metadata": {
    "papermill": {
     "duration": 0.005288,
     "end_time": "2025-05-23T15:07:10.390329",
     "exception": false,
     "start_time": "2025-05-23T15:07:10.385041",
     "status": "completed"
    },
    "tags": []
   },
   "source": [
    "**This notebook is an exercise in the [Python](https://www.kaggle.com/learn/python) course.  You can reference the tutorial at [this link](https://www.kaggle.com/colinmorris/lists).**\n",
    "\n",
    "---\n"
   ]
  },
  {
   "cell_type": "markdown",
   "id": "df310da4",
   "metadata": {
    "papermill": {
     "duration": 0.003884,
     "end_time": "2025-05-23T15:07:10.398775",
     "exception": false,
     "start_time": "2025-05-23T15:07:10.394891",
     "status": "completed"
    },
    "tags": []
   },
   "source": [
    "Things get more interesting with lists. You'll apply your new knowledge to solve the questions below. Remember to run the following cell first."
   ]
  },
  {
   "cell_type": "code",
   "execution_count": 1,
   "id": "d52e5575",
   "metadata": {
    "execution": {
     "iopub.execute_input": "2025-05-23T15:07:10.409383Z",
     "iopub.status.busy": "2025-05-23T15:07:10.408839Z",
     "iopub.status.idle": "2025-05-23T15:07:13.151822Z",
     "shell.execute_reply": "2025-05-23T15:07:13.150216Z"
    },
    "papermill": {
     "duration": 2.750967,
     "end_time": "2025-05-23T15:07:13.154216",
     "exception": false,
     "start_time": "2025-05-23T15:07:10.403249",
     "status": "completed"
    },
    "tags": []
   },
   "outputs": [
    {
     "name": "stdout",
     "output_type": "stream",
     "text": [
      "Setup complete.\n"
     ]
    }
   ],
   "source": [
    "from learntools.core import binder; binder.bind(globals())\n",
    "from learntools.python.ex4 import *\n",
    "print('Setup complete.')"
   ]
  },
  {
   "cell_type": "markdown",
   "id": "e3735f44",
   "metadata": {
    "papermill": {
     "duration": 0.004015,
     "end_time": "2025-05-23T15:07:13.162804",
     "exception": false,
     "start_time": "2025-05-23T15:07:13.158789",
     "status": "completed"
    },
    "tags": []
   },
   "source": [
    "# 1.\n",
    "\n",
    "Complete the function below according to its docstring."
   ]
  },
  {
   "cell_type": "code",
   "execution_count": 2,
   "id": "cced569e",
   "metadata": {
    "execution": {
     "iopub.execute_input": "2025-05-23T15:07:13.173984Z",
     "iopub.status.busy": "2025-05-23T15:07:13.173486Z",
     "iopub.status.idle": "2025-05-23T15:07:13.186786Z",
     "shell.execute_reply": "2025-05-23T15:07:13.185408Z"
    },
    "papermill": {
     "duration": 0.021836,
     "end_time": "2025-05-23T15:07:13.188871",
     "exception": false,
     "start_time": "2025-05-23T15:07:13.167035",
     "status": "completed"
    },
    "tags": []
   },
   "outputs": [
    {
     "data": {
      "application/javascript": [
       "parent.postMessage({\"jupyterEvent\": \"custom.exercise_interaction\", \"data\": {\"outcomeType\": 1, \"valueTowardsCompletion\": 0.2, \"interactionType\": 1, \"questionType\": 2, \"questionId\": \"1_SelectSecondItem\", \"learnToolsVersion\": \"0.3.5\", \"failureMessage\": \"\", \"exceptionClass\": \"\", \"trace\": \"\"}}, \"*\")"
      ],
      "text/plain": [
       "<IPython.core.display.Javascript object>"
      ]
     },
     "metadata": {},
     "output_type": "display_data"
    },
    {
     "data": {
      "text/markdown": [
       "<span style=\"color:#33cc33\">Correct</span>"
      ],
      "text/plain": [
       "Correct"
      ]
     },
     "metadata": {},
     "output_type": "display_data"
    }
   ],
   "source": [
    "def select_second(L):\n",
    "    \"\"\"Return the second element of the given list. If the list has no second\n",
    "    element, return None.\n",
    "    \"\"\"\n",
    "    return L[1] if len(L) > 1 else None\n",
    "\n",
    "# Check your answer\n",
    "q1.check()"
   ]
  },
  {
   "cell_type": "code",
   "execution_count": 3,
   "id": "19fce308",
   "metadata": {
    "execution": {
     "iopub.execute_input": "2025-05-23T15:07:13.200064Z",
     "iopub.status.busy": "2025-05-23T15:07:13.199649Z",
     "iopub.status.idle": "2025-05-23T15:07:13.205806Z",
     "shell.execute_reply": "2025-05-23T15:07:13.204642Z"
    },
    "papermill": {
     "duration": 0.014644,
     "end_time": "2025-05-23T15:07:13.208306",
     "exception": false,
     "start_time": "2025-05-23T15:07:13.193662",
     "status": "completed"
    },
    "tags": []
   },
   "outputs": [],
   "source": [
    "#q1.hint()\n",
    "#q1.solution()"
   ]
  },
  {
   "cell_type": "markdown",
   "id": "58e9d9df",
   "metadata": {
    "papermill": {
     "duration": 0.004295,
     "end_time": "2025-05-23T15:07:13.217332",
     "exception": false,
     "start_time": "2025-05-23T15:07:13.213037",
     "status": "completed"
    },
    "tags": []
   },
   "source": [
    "# 2.\n",
    "\n",
    "You are analyzing sports teams.  Members of each team are stored in a list. The Coach is the first name in the list, the captain is the second name in the list, and other players are listed after that. \n",
    "These lists are stored in another list, which starts with the best team and proceeds through the list to the worst team last.  Complete the function below to select the **captain** of the worst team."
   ]
  },
  {
   "cell_type": "code",
   "execution_count": 4,
   "id": "8f5db574",
   "metadata": {
    "execution": {
     "iopub.execute_input": "2025-05-23T15:07:13.228157Z",
     "iopub.status.busy": "2025-05-23T15:07:13.227717Z",
     "iopub.status.idle": "2025-05-23T15:07:13.240335Z",
     "shell.execute_reply": "2025-05-23T15:07:13.238566Z"
    },
    "papermill": {
     "duration": 0.02065,
     "end_time": "2025-05-23T15:07:13.242435",
     "exception": false,
     "start_time": "2025-05-23T15:07:13.221785",
     "status": "completed"
    },
    "tags": []
   },
   "outputs": [
    {
     "data": {
      "application/javascript": [
       "parent.postMessage({\"jupyterEvent\": \"custom.exercise_interaction\", \"data\": {\"outcomeType\": 1, \"valueTowardsCompletion\": 0.2, \"interactionType\": 1, \"questionType\": 2, \"questionId\": \"2_LosingTeamCaptain\", \"learnToolsVersion\": \"0.3.5\", \"failureMessage\": \"\", \"exceptionClass\": \"\", \"trace\": \"\"}}, \"*\")"
      ],
      "text/plain": [
       "<IPython.core.display.Javascript object>"
      ]
     },
     "metadata": {},
     "output_type": "display_data"
    },
    {
     "data": {
      "text/markdown": [
       "<span style=\"color:#33cc33\">Correct</span>"
      ],
      "text/plain": [
       "Correct"
      ]
     },
     "metadata": {},
     "output_type": "display_data"
    }
   ],
   "source": [
    "def losing_team_captain(teams):\n",
    "    \"\"\"Given a list of teams, where each team is a list of names, return the 2nd player (captain)\n",
    "    from the last listed team\n",
    "    \"\"\"\n",
    "    return teams[-1][1]\n",
    "\n",
    "# Check your answer\n",
    "q2.check()"
   ]
  },
  {
   "cell_type": "code",
   "execution_count": 5,
   "id": "bf68595b",
   "metadata": {
    "execution": {
     "iopub.execute_input": "2025-05-23T15:07:13.254031Z",
     "iopub.status.busy": "2025-05-23T15:07:13.253694Z",
     "iopub.status.idle": "2025-05-23T15:07:13.259258Z",
     "shell.execute_reply": "2025-05-23T15:07:13.257888Z"
    },
    "papermill": {
     "duration": 0.013761,
     "end_time": "2025-05-23T15:07:13.261276",
     "exception": false,
     "start_time": "2025-05-23T15:07:13.247515",
     "status": "completed"
    },
    "tags": []
   },
   "outputs": [],
   "source": [
    "#q2.hint()\n",
    "#q2.solution()"
   ]
  },
  {
   "cell_type": "markdown",
   "id": "ff85b7c3",
   "metadata": {
    "papermill": {
     "duration": 0.004542,
     "end_time": "2025-05-23T15:07:13.271466",
     "exception": false,
     "start_time": "2025-05-23T15:07:13.266924",
     "status": "completed"
    },
    "tags": []
   },
   "source": [
    "# 3.\n",
    "\n",
    "The next iteration of Mario Kart will feature an extra-infuriating new item, the *Purple Shell*. When used, it warps the last place racer into first place and the first place racer into last place. Complete the function below to implement the Purple Shell's effect."
   ]
  },
  {
   "cell_type": "code",
   "execution_count": 6,
   "id": "fb5bf5ac",
   "metadata": {
    "execution": {
     "iopub.execute_input": "2025-05-23T15:07:13.282116Z",
     "iopub.status.busy": "2025-05-23T15:07:13.281783Z",
     "iopub.status.idle": "2025-05-23T15:07:13.291574Z",
     "shell.execute_reply": "2025-05-23T15:07:13.289936Z"
    },
    "papermill": {
     "duration": 0.0179,
     "end_time": "2025-05-23T15:07:13.293829",
     "exception": false,
     "start_time": "2025-05-23T15:07:13.275929",
     "status": "completed"
    },
    "tags": []
   },
   "outputs": [
    {
     "data": {
      "application/javascript": [
       "parent.postMessage({\"jupyterEvent\": \"custom.exercise_interaction\", \"data\": {\"outcomeType\": 1, \"valueTowardsCompletion\": 0.2, \"interactionType\": 1, \"questionType\": 2, \"questionId\": \"3_PurpleShell\", \"learnToolsVersion\": \"0.3.5\", \"failureMessage\": \"\", \"exceptionClass\": \"\", \"trace\": \"\"}}, \"*\")"
      ],
      "text/plain": [
       "<IPython.core.display.Javascript object>"
      ]
     },
     "metadata": {},
     "output_type": "display_data"
    },
    {
     "data": {
      "text/markdown": [
       "<span style=\"color:#33cc33\">Correct</span>"
      ],
      "text/plain": [
       "Correct"
      ]
     },
     "metadata": {},
     "output_type": "display_data"
    }
   ],
   "source": [
    "def purple_shell(racers):\n",
    "    \"\"\"Given a list of racers, set the first place racer (at the front of the list) to last\n",
    "    place and vice versa.\n",
    "    \n",
    "    >>> r = [\"Mario\", \"Bowser\", \"Luigi\"]\n",
    "    >>> purple_shell(r)\n",
    "    >>> r\n",
    "    [\"Luigi\", \"Bowser\", \"Mario\"]\n",
    "    \"\"\"\n",
    "    # Only swap if there are at least two racers\n",
    "    if len(racers) >= 2:\n",
    "        racers[0], racers[-1] = racers[-1], racers[0]\n",
    "\n",
    "# Check your answer\n",
    "q3.check()"
   ]
  },
  {
   "cell_type": "code",
   "execution_count": 7,
   "id": "8432df07",
   "metadata": {
    "execution": {
     "iopub.execute_input": "2025-05-23T15:07:13.306450Z",
     "iopub.status.busy": "2025-05-23T15:07:13.305059Z",
     "iopub.status.idle": "2025-05-23T15:07:13.311018Z",
     "shell.execute_reply": "2025-05-23T15:07:13.309761Z"
    },
    "papermill": {
     "duration": 0.014188,
     "end_time": "2025-05-23T15:07:13.313133",
     "exception": false,
     "start_time": "2025-05-23T15:07:13.298945",
     "status": "completed"
    },
    "tags": []
   },
   "outputs": [],
   "source": [
    "#q3.hint()\n",
    "#q3.solution()"
   ]
  },
  {
   "cell_type": "markdown",
   "id": "4e99d47d",
   "metadata": {
    "papermill": {
     "duration": 0.004582,
     "end_time": "2025-05-23T15:07:13.323145",
     "exception": false,
     "start_time": "2025-05-23T15:07:13.318563",
     "status": "completed"
    },
    "tags": []
   },
   "source": [
    "# 4.\n",
    "\n",
    "What are the lengths of the following lists? Fill in the variable `lengths` with your predictions. (Try to make a prediction for each list *without* just calling `len()` on it.)"
   ]
  },
  {
   "cell_type": "code",
   "execution_count": 8,
   "id": "be18fa8a",
   "metadata": {
    "execution": {
     "iopub.execute_input": "2025-05-23T15:07:13.334575Z",
     "iopub.status.busy": "2025-05-23T15:07:13.334207Z",
     "iopub.status.idle": "2025-05-23T15:07:13.346390Z",
     "shell.execute_reply": "2025-05-23T15:07:13.344579Z"
    },
    "papermill": {
     "duration": 0.020104,
     "end_time": "2025-05-23T15:07:13.348316",
     "exception": false,
     "start_time": "2025-05-23T15:07:13.328212",
     "status": "completed"
    },
    "tags": []
   },
   "outputs": [
    {
     "data": {
      "application/javascript": [
       "parent.postMessage({\"jupyterEvent\": \"custom.exercise_interaction\", \"data\": {\"outcomeType\": 1, \"valueTowardsCompletion\": 0.2, \"interactionType\": 1, \"questionType\": 1, \"questionId\": \"4_UnderstandLen\", \"learnToolsVersion\": \"0.3.5\", \"failureMessage\": \"\", \"exceptionClass\": \"\", \"trace\": \"\"}}, \"*\")"
      ],
      "text/plain": [
       "<IPython.core.display.Javascript object>"
      ]
     },
     "metadata": {},
     "output_type": "display_data"
    },
    {
     "data": {
      "text/markdown": [
       "<span style=\"color:#33cc33\">Correct:</span> \n",
       "\n",
       "\n",
       "- a: There are three items in this list. Nothing tricky yet.\n",
       "- b: The list `[2, 3]` counts as a single item. It has one item before it. So we have 2 items in the list\n",
       "- c: The empty list has 0 items\n",
       "- d: The expression is the same as the list `[2, 3]`, which has length 2."
      ],
      "text/plain": [
       "Correct: \n",
       "\n",
       "\n",
       "- a: There are three items in this list. Nothing tricky yet.\n",
       "- b: The list `[2, 3]` counts as a single item. It has one item before it. So we have 2 items in the list\n",
       "- c: The empty list has 0 items\n",
       "- d: The expression is the same as the list `[2, 3]`, which has length 2."
      ]
     },
     "metadata": {},
     "output_type": "display_data"
    }
   ],
   "source": [
    "a = [1, 2, 3]\n",
    "b = [1, [2, 3]]\n",
    "c = []\n",
    "d = [1, 2, 3][1:]\n",
    "\n",
    "# Put your predictions in the list below. Lengths should contain 4 numbers, the\n",
    "# first being the length of a, the second being the length of b and so on.\n",
    "lengths = [3, 2, 0, 2]\n",
    "\n",
    "# Check your answer\n",
    "q4.check()"
   ]
  },
  {
   "cell_type": "code",
   "execution_count": 9,
   "id": "de56f163",
   "metadata": {
    "execution": {
     "iopub.execute_input": "2025-05-23T15:07:13.360440Z",
     "iopub.status.busy": "2025-05-23T15:07:13.360042Z",
     "iopub.status.idle": "2025-05-23T15:07:13.365420Z",
     "shell.execute_reply": "2025-05-23T15:07:13.364022Z"
    },
    "papermill": {
     "duration": 0.013653,
     "end_time": "2025-05-23T15:07:13.367403",
     "exception": false,
     "start_time": "2025-05-23T15:07:13.353750",
     "status": "completed"
    },
    "tags": []
   },
   "outputs": [],
   "source": [
    "# line below provides some explanation\n",
    "#q4.solution()"
   ]
  },
  {
   "cell_type": "markdown",
   "id": "beacd512",
   "metadata": {
    "papermill": {
     "duration": 0.005056,
     "end_time": "2025-05-23T15:07:13.378526",
     "exception": false,
     "start_time": "2025-05-23T15:07:13.373470",
     "status": "completed"
    },
    "tags": []
   },
   "source": [
    "# 5. <span title=\"A bit spicy\" style=\"color: darkgreen \">🌶️</span>\n",
    "\n",
    "We're using lists to record people who attended our party and what order they arrived in. For example, the following list represents a party with 7 guests, in which Adela showed up first and Ford was the last to arrive:\n",
    "\n",
    "    party_attendees = ['Adela', 'Fleda', 'Owen', 'May', 'Mona', 'Gilbert', 'Ford']\n",
    "\n",
    "A guest is considered 'fashionably late' if they arrived after at least half of the party's guests. However, they must not be the very last guest (that's taking it too far). In the above example, Mona and Gilbert are the only guests who were fashionably late.\n",
    "\n",
    "Complete the function below which takes a list of party attendees as well as a person, and tells us whether that person is fashionably late."
   ]
  },
  {
   "cell_type": "code",
   "execution_count": 10,
   "id": "7819491a",
   "metadata": {
    "execution": {
     "iopub.execute_input": "2025-05-23T15:07:13.390639Z",
     "iopub.status.busy": "2025-05-23T15:07:13.390250Z",
     "iopub.status.idle": "2025-05-23T15:07:13.402381Z",
     "shell.execute_reply": "2025-05-23T15:07:13.401033Z"
    },
    "papermill": {
     "duration": 0.020727,
     "end_time": "2025-05-23T15:07:13.404379",
     "exception": false,
     "start_time": "2025-05-23T15:07:13.383652",
     "status": "completed"
    },
    "tags": []
   },
   "outputs": [
    {
     "data": {
      "application/javascript": [
       "parent.postMessage({\"jupyterEvent\": \"custom.exercise_interaction\", \"data\": {\"outcomeType\": 1, \"valueTowardsCompletion\": 0.2, \"interactionType\": 1, \"questionType\": 2, \"questionId\": \"5_FashionablyLate\", \"learnToolsVersion\": \"0.3.5\", \"failureMessage\": \"\", \"exceptionClass\": \"\", \"trace\": \"\"}}, \"*\")"
      ],
      "text/plain": [
       "<IPython.core.display.Javascript object>"
      ]
     },
     "metadata": {},
     "output_type": "display_data"
    },
    {
     "data": {
      "text/markdown": [
       "<span style=\"color:#33cc33\">Correct</span>"
      ],
      "text/plain": [
       "Correct"
      ]
     },
     "metadata": {},
     "output_type": "display_data"
    }
   ],
   "source": [
    "def fashionably_late(arrivals, name):\n",
    "    \"\"\"Given an ordered list of arrivals to the party and a name, return whether the guest with that\n",
    "    name was fashionably late.\n",
    "    \"\"\"\n",
    "    idx = arrivals.index(name)\n",
    "    return idx >= len(arrivals) / 2 and idx != len(arrivals) - 1\n",
    "\n",
    "# Check your answer\n",
    "q5.check()"
   ]
  },
  {
   "cell_type": "code",
   "execution_count": 11,
   "id": "52a36433",
   "metadata": {
    "execution": {
     "iopub.execute_input": "2025-05-23T15:07:13.417128Z",
     "iopub.status.busy": "2025-05-23T15:07:13.416787Z",
     "iopub.status.idle": "2025-05-23T15:07:13.423286Z",
     "shell.execute_reply": "2025-05-23T15:07:13.421298Z"
    },
    "papermill": {
     "duration": 0.015601,
     "end_time": "2025-05-23T15:07:13.425593",
     "exception": false,
     "start_time": "2025-05-23T15:07:13.409992",
     "status": "completed"
    },
    "tags": []
   },
   "outputs": [],
   "source": [
    "#q5.hint()\n",
    "#q5.solution()"
   ]
  },
  {
   "cell_type": "markdown",
   "id": "cbff4ed8",
   "metadata": {
    "papermill": {
     "duration": 0.005041,
     "end_time": "2025-05-23T15:07:13.437063",
     "exception": false,
     "start_time": "2025-05-23T15:07:13.432022",
     "status": "completed"
    },
    "tags": []
   },
   "source": [
    "# Keep Going\n",
    "\n",
    "That's it for lists and tuples! Now you have the baseline knowledge to **[learn about loops](https://www.kaggle.com/colinmorris/loops-and-list-comprehensions)**, which is where lists and tuples get really interesting. "
   ]
  },
  {
   "cell_type": "markdown",
   "id": "52583d15",
   "metadata": {
    "papermill": {
     "duration": 0.004892,
     "end_time": "2025-05-23T15:07:13.447283",
     "exception": false,
     "start_time": "2025-05-23T15:07:13.442391",
     "status": "completed"
    },
    "tags": []
   },
   "source": [
    "---\n",
    "\n",
    "\n",
    "\n",
    "\n",
    "*Have questions or comments? Visit the [course discussion forum](https://www.kaggle.com/learn/python/discussion) to chat with other learners.*"
   ]
  }
 ],
 "metadata": {
  "kaggle": {
   "accelerator": "none",
   "dataSources": [],
   "isGpuEnabled": false,
   "isInternetEnabled": false,
   "language": "python",
   "sourceType": "notebook"
  },
  "kernelspec": {
   "display_name": "Python 3",
   "language": "python",
   "name": "python3"
  },
  "language_info": {
   "codemirror_mode": {
    "name": "ipython",
    "version": 3
   },
   "file_extension": ".py",
   "mimetype": "text/x-python",
   "name": "python",
   "nbconvert_exporter": "python",
   "pygments_lexer": "ipython3",
   "version": "3.11.11"
  },
  "learntools_metadata": {
   "lesson_index": 3,
   "type": "exercise"
  },
  "papermill": {
   "default_parameters": {},
   "duration": 10.004249,
   "end_time": "2025-05-23T15:07:14.076230",
   "environment_variables": {},
   "exception": null,
   "input_path": "__notebook__.ipynb",
   "output_path": "__notebook__.ipynb",
   "parameters": {},
   "start_time": "2025-05-23T15:07:04.071981",
   "version": "2.6.0"
  }
 },
 "nbformat": 4,
 "nbformat_minor": 5
}

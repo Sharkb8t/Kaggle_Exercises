{
 "cells": [
  {
   "cell_type": "markdown",
   "id": "f4c6bc24",
   "metadata": {
    "papermill": {
     "duration": 0.005319,
     "end_time": "2025-05-22T18:54:21.988047",
     "exception": false,
     "start_time": "2025-05-22T18:54:21.982728",
     "status": "completed"
    },
    "tags": []
   },
   "source": [
    "**This notebook is an exercise in the [Python](https://www.kaggle.com/learn/python) course.  You can reference the tutorial at [this link](https://www.kaggle.com/colinmorris/hello-python).**\n",
    "\n",
    "---\n"
   ]
  },
  {
   "cell_type": "markdown",
   "id": "338d74be",
   "metadata": {
    "papermill": {
     "duration": 0.004207,
     "end_time": "2025-05-22T18:54:21.996840",
     "exception": false,
     "start_time": "2025-05-22T18:54:21.992633",
     "status": "completed"
    },
    "tags": []
   },
   "source": [
    "Welcome to your first set of Python coding problems.  If this is your first time using Kaggle Notebooks, welcome! \n",
    "\n",
    "Notebooks are composed of blocks (called \"cells\") of text and code. Each of these is editable, though you'll mainly be editing the code cells to answer some questions.\n",
    "\n",
    "To get started, try running the code cell below (by pressing the ► button, or clicking on the cell and pressing ctrl+enter on your keyboard)."
   ]
  },
  {
   "cell_type": "code",
   "execution_count": 1,
   "id": "fd2a76f6",
   "metadata": {
    "execution": {
     "iopub.execute_input": "2025-05-22T18:54:22.006777Z",
     "iopub.status.busy": "2025-05-22T18:54:22.006473Z",
     "iopub.status.idle": "2025-05-22T18:54:22.014582Z",
     "shell.execute_reply": "2025-05-22T18:54:22.013664Z"
    },
    "papermill": {
     "duration": 0.014804,
     "end_time": "2025-05-22T18:54:22.015951",
     "exception": false,
     "start_time": "2025-05-22T18:54:22.001147",
     "status": "completed"
    },
    "tags": []
   },
   "outputs": [
    {
     "name": "stdout",
     "output_type": "stream",
     "text": [
      "You've successfully run some Python code\n",
      "Congratulations!\n"
     ]
    }
   ],
   "source": [
    "print(\"You've successfully run some Python code\")\n",
    "print(\"Congratulations!\")"
   ]
  },
  {
   "cell_type": "markdown",
   "id": "21a9e615",
   "metadata": {
    "papermill": {
     "duration": 0.004183,
     "end_time": "2025-05-22T18:54:22.024888",
     "exception": false,
     "start_time": "2025-05-22T18:54:22.020705",
     "status": "completed"
    },
    "tags": []
   },
   "source": [
    "Try adding another line of code in the cell above and re-running it. \n",
    "\n",
    "Now let's get a little fancier:  Add a new code cell by clicking on an existing code cell, hitting the escape key, and then hitting the `a` or `b` key.  The `a` key will add a cell above the current cell, and `b` adds a cell below.\n",
    "\n",
    "Great! Now you know how to use Notebooks.\n",
    "\n",
    "Each hands-on exercise starts by setting up our feedback and code checking mechanism. Run the code cell below to do that. Then you'll be ready to move on to question 0."
   ]
  },
  {
   "cell_type": "code",
   "execution_count": 2,
   "id": "1100436b",
   "metadata": {
    "_kg_hide-input": true,
    "_kg_hide-output": true,
    "execution": {
     "iopub.execute_input": "2025-05-22T18:54:22.034973Z",
     "iopub.status.busy": "2025-05-22T18:54:22.034666Z",
     "iopub.status.idle": "2025-05-22T18:54:23.865819Z",
     "shell.execute_reply": "2025-05-22T18:54:23.864726Z"
    },
    "papermill": {
     "duration": 1.837918,
     "end_time": "2025-05-22T18:54:23.867182",
     "exception": false,
     "start_time": "2025-05-22T18:54:22.029264",
     "status": "completed"
    },
    "tags": []
   },
   "outputs": [
    {
     "name": "stdout",
     "output_type": "stream",
     "text": [
      "Setup complete! You're ready to start question 0.\n"
     ]
    }
   ],
   "source": [
    "from learntools.core import binder; binder.bind(globals())\n",
    "from learntools.python.ex1 import *\n",
    "print(\"Setup complete! You're ready to start question 0.\")"
   ]
  },
  {
   "cell_type": "markdown",
   "id": "14ed5200",
   "metadata": {
    "papermill": {
     "duration": 0.004455,
     "end_time": "2025-05-22T18:54:23.876330",
     "exception": false,
     "start_time": "2025-05-22T18:54:23.871875",
     "status": "completed"
    },
    "tags": []
   },
   "source": [
    "# 0.\n",
    "\n",
    "*This is a silly question intended as an introduction to the format we use for hands-on exercises throughout all Kaggle courses.*\n",
    "\n",
    "**What is your favorite color? **\n",
    "\n",
    "To complete this question, create a variable called `color` in the cell below with an appropriate value. The function call `q0.check()` (which we've already provided in the cell below) will check your answer."
   ]
  },
  {
   "cell_type": "code",
   "execution_count": 3,
   "id": "8c6b7942",
   "metadata": {
    "execution": {
     "iopub.execute_input": "2025-05-22T18:54:23.887442Z",
     "iopub.status.busy": "2025-05-22T18:54:23.886407Z",
     "iopub.status.idle": "2025-05-22T18:54:23.894039Z",
     "shell.execute_reply": "2025-05-22T18:54:23.893424Z"
    },
    "papermill": {
     "duration": 0.014499,
     "end_time": "2025-05-22T18:54:23.895337",
     "exception": false,
     "start_time": "2025-05-22T18:54:23.880838",
     "status": "completed"
    },
    "tags": []
   },
   "outputs": [
    {
     "data": {
      "application/javascript": [
       "parent.postMessage({\"jupyterEvent\": \"custom.exercise_interaction\", \"data\": {\"outcomeType\": 1, \"valueTowardsCompletion\": 0.25, \"interactionType\": 1, \"questionType\": 2, \"questionId\": \"0_ExerciseFormatTutorial\", \"learnToolsVersion\": \"0.3.5\", \"failureMessage\": \"\", \"exceptionClass\": \"\", \"trace\": \"\"}}, \"*\")"
      ],
      "text/plain": [
       "<IPython.core.display.Javascript object>"
      ]
     },
     "metadata": {},
     "output_type": "display_data"
    },
    {
     "data": {
      "text/markdown": [
       "<span style=\"color:#33cc33\">Correct:</span> What?! You got it right without needing a hint or anything? Drats. Well hey, you should still continue to the next step to get some practice asking for a hint and checking solutions. (Even though you obviously don't need any help here.)"
      ],
      "text/plain": [
       "Correct: What?! You got it right without needing a hint or anything? Drats. Well hey, you should still continue to the next step to get some practice asking for a hint and checking solutions. (Even though you obviously don't need any help here.)"
      ]
     },
     "metadata": {},
     "output_type": "display_data"
    }
   ],
   "source": [
    "# create a variable called color with an appropriate value on the line below\n",
    "# (Remember, strings in Python must be enclosed in 'single' or \"double\" quotes)\n",
    "color = \"blue\"\n",
    "\n",
    "# Check your answer\n",
    "q0.check()"
   ]
  },
  {
   "cell_type": "markdown",
   "id": "015a13e4",
   "metadata": {
    "papermill": {
     "duration": 0.00442,
     "end_time": "2025-05-22T18:54:23.904651",
     "exception": false,
     "start_time": "2025-05-22T18:54:23.900231",
     "status": "completed"
    },
    "tags": []
   },
   "source": [
    "Didn't get the right answer? How do you not even know your own favorite color?!\n",
    "\n",
    "Delete the `#` in the line below to make one of the lines run. You can choose between getting a hint or the full answer by choosing which line to remove the `#` from. \n",
    "\n",
    "Removing the `#` is called uncommenting, because it changes that line from a \"comment\" which Python doesn't run to code, which Python does run."
   ]
  },
  {
   "cell_type": "code",
   "execution_count": 4,
   "id": "15fad3b9",
   "metadata": {
    "execution": {
     "iopub.execute_input": "2025-05-22T18:54:23.915298Z",
     "iopub.status.busy": "2025-05-22T18:54:23.914596Z",
     "iopub.status.idle": "2025-05-22T18:54:23.918363Z",
     "shell.execute_reply": "2025-05-22T18:54:23.917671Z"
    },
    "papermill": {
     "duration": 0.010543,
     "end_time": "2025-05-22T18:54:23.919723",
     "exception": false,
     "start_time": "2025-05-22T18:54:23.909180",
     "status": "completed"
    },
    "tags": []
   },
   "outputs": [],
   "source": [
    "#q0.hint()\n",
    "#q0.solution()"
   ]
  },
  {
   "cell_type": "markdown",
   "id": "536f60bf",
   "metadata": {
    "papermill": {
     "duration": 0.005162,
     "end_time": "2025-05-22T18:54:23.929740",
     "exception": false,
     "start_time": "2025-05-22T18:54:23.924578",
     "status": "completed"
    },
    "tags": []
   },
   "source": [
    "The upcoming questions work the same way. The only thing that will change are the question numbers. For the next question, you'll call `q1.check()`, `q1.hint()`, `q1.solution()`, for question 2, you'll call `q2.check()`, and so on."
   ]
  },
  {
   "cell_type": "markdown",
   "id": "e4230e21",
   "metadata": {
    "papermill": {
     "duration": 0.004429,
     "end_time": "2025-05-22T18:54:23.938864",
     "exception": false,
     "start_time": "2025-05-22T18:54:23.934435",
     "status": "completed"
    },
    "tags": []
   },
   "source": [
    "<hr/>\n",
    "\n",
    "# 1.\n",
    "\n",
    "Complete the code below. In case it's helpful, here is the table of available arithmetic operations:\n",
    "\n",
    "\n",
    "\n",
    "| Operator     | Name           | Description                                            |\n",
    "|--------------|----------------|--------------------------------------------------------|\n",
    "| ``a + b``    | Addition       | Sum of ``a`` and ``b``                                 |\n",
    "| ``a - b``    | Subtraction    | Difference of ``a`` and ``b``                          |\n",
    "| ``a * b``    | Multiplication | Product of ``a`` and ``b``                             |\n",
    "| ``a / b``    | True division  | Quotient of ``a`` and ``b``                            |\n",
    "| ``a // b``   | Floor division | Quotient of ``a`` and ``b``, removing fractional parts |\n",
    "| ``a % b``    | Modulus        | Integer remainder after division of ``a`` by ``b``     |\n",
    "| ``a ** b``   | Exponentiation | ``a`` raised to the power of ``b``                     |\n",
    "| ``-a``       | Negation       | The negative of ``a``                                  |\n",
    "\n",
    "<span style=\"display:none\"></span>\n"
   ]
  },
  {
   "cell_type": "code",
   "execution_count": 5,
   "id": "7b410deb",
   "metadata": {
    "execution": {
     "iopub.execute_input": "2025-05-22T18:54:23.950558Z",
     "iopub.status.busy": "2025-05-22T18:54:23.949807Z",
     "iopub.status.idle": "2025-05-22T18:54:23.957079Z",
     "shell.execute_reply": "2025-05-22T18:54:23.956414Z"
    },
    "papermill": {
     "duration": 0.014705,
     "end_time": "2025-05-22T18:54:23.958230",
     "exception": false,
     "start_time": "2025-05-22T18:54:23.943525",
     "status": "completed"
    },
    "tags": []
   },
   "outputs": [
    {
     "data": {
      "application/javascript": [
       "parent.postMessage({\"jupyterEvent\": \"custom.exercise_interaction\", \"data\": {\"outcomeType\": 1, \"valueTowardsCompletion\": 0.25, \"interactionType\": 1, \"questionType\": 1, \"questionId\": \"1_CircleArea\", \"learnToolsVersion\": \"0.3.5\", \"failureMessage\": \"\", \"exceptionClass\": \"\", \"trace\": \"\"}}, \"*\")"
      ],
      "text/plain": [
       "<IPython.core.display.Javascript object>"
      ]
     },
     "metadata": {},
     "output_type": "display_data"
    },
    {
     "data": {
      "text/markdown": [
       "<span style=\"color:#33cc33\">Correct</span>"
      ],
      "text/plain": [
       "Correct"
      ]
     },
     "metadata": {},
     "output_type": "display_data"
    }
   ],
   "source": [
    "pi = 3.14159 # approximate\n",
    "diameter = 3\n",
    "\n",
    "# Create a variable called 'radius' equal to half the diameter\n",
    "radius = diameter/2\n",
    "\n",
    "# Create a variable called 'area', using the formula for the area of a circle: pi times the radius squared\n",
    "area = pi * (radius * radius)\n",
    "\n",
    "# Check your answer\n",
    "q1.check()"
   ]
  },
  {
   "cell_type": "code",
   "execution_count": 6,
   "id": "d0801b1d",
   "metadata": {
    "execution": {
     "iopub.execute_input": "2025-05-22T18:54:23.969644Z",
     "iopub.status.busy": "2025-05-22T18:54:23.969031Z",
     "iopub.status.idle": "2025-05-22T18:54:23.972688Z",
     "shell.execute_reply": "2025-05-22T18:54:23.971990Z"
    },
    "papermill": {
     "duration": 0.010731,
     "end_time": "2025-05-22T18:54:23.974002",
     "exception": false,
     "start_time": "2025-05-22T18:54:23.963271",
     "status": "completed"
    },
    "tags": []
   },
   "outputs": [],
   "source": [
    "# Uncomment and run the lines below if you need help.\n",
    "#q1.hint()\n",
    "#q1.solution()"
   ]
  },
  {
   "cell_type": "markdown",
   "id": "c98c7753",
   "metadata": {
    "papermill": {
     "duration": 0.004793,
     "end_time": "2025-05-22T18:54:23.984064",
     "exception": false,
     "start_time": "2025-05-22T18:54:23.979271",
     "status": "completed"
    },
    "tags": []
   },
   "source": [
    "<hr/>\n",
    "\n",
    "# 2.\n",
    "\n",
    "Add code to the following cell to swap variables `a` and `b` (so that `a` refers to the object previously referred to by `b` and vice versa)."
   ]
  },
  {
   "cell_type": "code",
   "execution_count": 7,
   "id": "967b1b3e",
   "metadata": {
    "execution": {
     "iopub.execute_input": "2025-05-22T18:54:23.995641Z",
     "iopub.status.busy": "2025-05-22T18:54:23.994979Z",
     "iopub.status.idle": "2025-05-22T18:54:24.002752Z",
     "shell.execute_reply": "2025-05-22T18:54:24.001941Z"
    },
    "papermill": {
     "duration": 0.015075,
     "end_time": "2025-05-22T18:54:24.004054",
     "exception": false,
     "start_time": "2025-05-22T18:54:23.988979",
     "status": "completed"
    },
    "tags": []
   },
   "outputs": [
    {
     "data": {
      "application/javascript": [
       "parent.postMessage({\"jupyterEvent\": \"custom.exercise_interaction\", \"data\": {\"outcomeType\": 1, \"valueTowardsCompletion\": 0.25, \"interactionType\": 1, \"questionType\": 2, \"questionId\": \"2_VariableSwap\", \"learnToolsVersion\": \"0.3.5\", \"failureMessage\": \"\", \"exceptionClass\": \"\", \"trace\": \"\"}}, \"*\")"
      ],
      "text/plain": [
       "<IPython.core.display.Javascript object>"
      ]
     },
     "metadata": {},
     "output_type": "display_data"
    },
    {
     "data": {
      "text/markdown": [
       "<span style=\"color:#33cc33\">Correct:</span> \n",
       "\n",
       "The most straightforward solution is to use a third variable to temporarily store one of the old values. e.g.:\n",
       "\n",
       "    tmp = a\n",
       "    a = b\n",
       "    b = tmp\n",
       "\n",
       "If you've read lots of Python code, you might have seen the following trick to swap two variables in one line:\n",
       "\n",
       "    a, b = b, a\n",
       "\n",
       "We'll demystify this bit of Python magic later when we talk about *tuples*."
      ],
      "text/plain": [
       "Correct: \n",
       "\n",
       "The most straightforward solution is to use a third variable to temporarily store one of the old values. e.g.:\n",
       "\n",
       "    tmp = a\n",
       "    a = b\n",
       "    b = tmp\n",
       "\n",
       "If you've read lots of Python code, you might have seen the following trick to swap two variables in one line:\n",
       "\n",
       "    a, b = b, a\n",
       "\n",
       "We'll demystify this bit of Python magic later when we talk about *tuples*."
      ]
     },
     "metadata": {},
     "output_type": "display_data"
    }
   ],
   "source": [
    "########### Setup code - don't touch this part ######################\n",
    "# If you're curious, these are examples of lists. We'll talk about \n",
    "# them in depth a few lessons from now. For now, just know that they're\n",
    "# yet another type of Python object, like int or float.\n",
    "a = [1, 2, 3]\n",
    "b = [3, 2, 1]\n",
    "q2.store_original_ids()\n",
    "######################################################################\n",
    "\n",
    "# Your code goes here. Swap the values to which a and b refer.\n",
    "# If you get stuck, you can always uncomment one or both of the lines in\n",
    "# the next cell for a hint, or to peek at the solution.\n",
    "tmp = a\n",
    "a = b\n",
    "b = tmp\n",
    "######################################################################\n",
    "\n",
    "# Check your answer\n",
    "q2.check()"
   ]
  },
  {
   "cell_type": "code",
   "execution_count": 8,
   "id": "a4eb9f8b",
   "metadata": {
    "execution": {
     "iopub.execute_input": "2025-05-22T18:54:24.015823Z",
     "iopub.status.busy": "2025-05-22T18:54:24.015523Z",
     "iopub.status.idle": "2025-05-22T18:54:24.022799Z",
     "shell.execute_reply": "2025-05-22T18:54:24.021675Z"
    },
    "papermill": {
     "duration": 0.014713,
     "end_time": "2025-05-22T18:54:24.024218",
     "exception": false,
     "start_time": "2025-05-22T18:54:24.009505",
     "status": "completed"
    },
    "tags": []
   },
   "outputs": [
    {
     "data": {
      "application/javascript": [
       "parent.postMessage({\"jupyterEvent\": \"custom.exercise_interaction\", \"data\": {\"interactionType\": 2, \"questionType\": 2, \"questionId\": \"2_VariableSwap\", \"learnToolsVersion\": \"0.3.5\", \"valueTowardsCompletion\": 0.0, \"failureMessage\": \"\", \"exceptionClass\": \"\", \"trace\": \"\", \"outcomeType\": 4}}, \"*\")"
      ],
      "text/plain": [
       "<IPython.core.display.Javascript object>"
      ]
     },
     "metadata": {},
     "output_type": "display_data"
    },
    {
     "data": {
      "text/markdown": [
       "<span style=\"color:#3366cc\">Hint:</span> Try using a third variable."
      ],
      "text/plain": [
       "Hint: Try using a third variable."
      ]
     },
     "metadata": {},
     "output_type": "display_data"
    }
   ],
   "source": [
    "q2.hint()"
   ]
  },
  {
   "cell_type": "code",
   "execution_count": 9,
   "id": "c83decb5",
   "metadata": {
    "execution": {
     "iopub.execute_input": "2025-05-22T18:54:24.036806Z",
     "iopub.status.busy": "2025-05-22T18:54:24.036086Z",
     "iopub.status.idle": "2025-05-22T18:54:24.043122Z",
     "shell.execute_reply": "2025-05-22T18:54:24.042284Z"
    },
    "papermill": {
     "duration": 0.014951,
     "end_time": "2025-05-22T18:54:24.044732",
     "exception": false,
     "start_time": "2025-05-22T18:54:24.029781",
     "status": "completed"
    },
    "tags": []
   },
   "outputs": [
    {
     "data": {
      "application/javascript": [
       "parent.postMessage({\"jupyterEvent\": \"custom.exercise_interaction\", \"data\": {\"interactionType\": 3, \"questionType\": 2, \"questionId\": \"2_VariableSwap\", \"learnToolsVersion\": \"0.3.5\", \"valueTowardsCompletion\": 0.0, \"failureMessage\": \"\", \"exceptionClass\": \"\", \"trace\": \"\", \"outcomeType\": 4}}, \"*\")"
      ],
      "text/plain": [
       "<IPython.core.display.Javascript object>"
      ]
     },
     "metadata": {},
     "output_type": "display_data"
    },
    {
     "data": {
      "text/markdown": [
       "<span style=\"color:#33cc99\">Solution:</span> The most straightforward solution is to use a third variable to temporarily store one of the old values. e.g.:\n",
       "\n",
       "    tmp = a\n",
       "    a = b\n",
       "    b = tmp\n",
       "\n",
       "If you've read lots of Python code, you might have seen the following trick to swap two variables in one line:\n",
       "\n",
       "    a, b = b, a\n",
       "\n",
       "We'll demystify this bit of Python magic later when we talk about *tuples*."
      ],
      "text/plain": [
       "Solution: The most straightforward solution is to use a third variable to temporarily store one of the old values. e.g.:\n",
       "\n",
       "    tmp = a\n",
       "    a = b\n",
       "    b = tmp\n",
       "\n",
       "If you've read lots of Python code, you might have seen the following trick to swap two variables in one line:\n",
       "\n",
       "    a, b = b, a\n",
       "\n",
       "We'll demystify this bit of Python magic later when we talk about *tuples*."
      ]
     },
     "metadata": {},
     "output_type": "display_data"
    }
   ],
   "source": [
    "q2.solution()"
   ]
  },
  {
   "cell_type": "markdown",
   "id": "41c09778",
   "metadata": {
    "papermill": {
     "duration": 0.005502,
     "end_time": "2025-05-22T18:54:24.055847",
     "exception": false,
     "start_time": "2025-05-22T18:54:24.050345",
     "status": "completed"
    },
    "tags": []
   },
   "source": [
    "<hr/>\n",
    "\n",
    "# 3a.\n",
    "\n",
    "Add parentheses to the following expression so that it evaluates to 1."
   ]
  },
  {
   "cell_type": "code",
   "execution_count": 10,
   "id": "6c36cd62",
   "metadata": {
    "execution": {
     "iopub.execute_input": "2025-05-22T18:54:24.068526Z",
     "iopub.status.busy": "2025-05-22T18:54:24.067894Z",
     "iopub.status.idle": "2025-05-22T18:54:24.073702Z",
     "shell.execute_reply": "2025-05-22T18:54:24.072682Z"
    },
    "papermill": {
     "duration": 0.013579,
     "end_time": "2025-05-22T18:54:24.075033",
     "exception": false,
     "start_time": "2025-05-22T18:54:24.061454",
     "status": "completed"
    },
    "tags": []
   },
   "outputs": [
    {
     "data": {
      "text/plain": [
       "1"
      ]
     },
     "execution_count": 10,
     "metadata": {},
     "output_type": "execute_result"
    }
   ],
   "source": [
    "(5 - 3) // 2"
   ]
  },
  {
   "cell_type": "code",
   "execution_count": 11,
   "id": "fe387e83",
   "metadata": {
    "execution": {
     "iopub.execute_input": "2025-05-22T18:54:24.087719Z",
     "iopub.status.busy": "2025-05-22T18:54:24.087369Z",
     "iopub.status.idle": "2025-05-22T18:54:24.091222Z",
     "shell.execute_reply": "2025-05-22T18:54:24.090434Z"
    },
    "papermill": {
     "duration": 0.01163,
     "end_time": "2025-05-22T18:54:24.092485",
     "exception": false,
     "start_time": "2025-05-22T18:54:24.080855",
     "status": "completed"
    },
    "tags": []
   },
   "outputs": [],
   "source": [
    "#q3.a.hint()"
   ]
  },
  {
   "cell_type": "code",
   "execution_count": 12,
   "id": "8e97b443",
   "metadata": {
    "execution": {
     "iopub.execute_input": "2025-05-22T18:54:24.105050Z",
     "iopub.status.busy": "2025-05-22T18:54:24.104782Z",
     "iopub.status.idle": "2025-05-22T18:54:24.111972Z",
     "shell.execute_reply": "2025-05-22T18:54:24.111286Z"
    },
    "papermill": {
     "duration": 0.015084,
     "end_time": "2025-05-22T18:54:24.113318",
     "exception": false,
     "start_time": "2025-05-22T18:54:24.098234",
     "status": "completed"
    },
    "tags": []
   },
   "outputs": [
    {
     "data": {
      "application/javascript": [
       "parent.postMessage({\"jupyterEvent\": \"custom.exercise_interaction\", \"data\": {\"interactionType\": 3, \"questionType\": 4, \"questionId\": \"3.1_ArithmeticParensEasy\", \"learnToolsVersion\": \"0.3.5\", \"valueTowardsCompletion\": 0.0, \"failureMessage\": \"\", \"exceptionClass\": \"\", \"trace\": \"\", \"outcomeType\": 4}}, \"*\")"
      ],
      "text/plain": [
       "<IPython.core.display.Javascript object>"
      ]
     },
     "metadata": {},
     "output_type": "display_data"
    },
    {
     "data": {
      "text/markdown": [
       "<span style=\"color:#33cc99\">Solution:</span> \n",
       "```python\n",
       "(5 - 3) // 2\n",
       "```"
      ],
      "text/plain": [
       "Solution: \n",
       "```python\n",
       "(5 - 3) // 2\n",
       "```"
      ]
     },
     "metadata": {},
     "output_type": "display_data"
    }
   ],
   "source": [
    "# Check your answer (Run this code cell to receive credit!)\n",
    "q3.a.solution()"
   ]
  },
  {
   "cell_type": "markdown",
   "id": "e79a9729",
   "metadata": {
    "papermill": {
     "duration": 0.00549,
     "end_time": "2025-05-22T18:54:24.124751",
     "exception": false,
     "start_time": "2025-05-22T18:54:24.119261",
     "status": "completed"
    },
    "tags": []
   },
   "source": [
    "# 3b.  <span title=\"A bit spicy\" style=\"color: darkgreen \">🌶️</span>\n",
    "\n",
    "<small>Questions, like this one, marked a spicy pepper are a bit harder.</small>\n",
    "\n",
    "Add parentheses to the following expression so that it evaluates to 0."
   ]
  },
  {
   "cell_type": "code",
   "execution_count": 13,
   "id": "3ba432a6",
   "metadata": {
    "execution": {
     "iopub.execute_input": "2025-05-22T18:54:24.137517Z",
     "iopub.status.busy": "2025-05-22T18:54:24.136969Z",
     "iopub.status.idle": "2025-05-22T18:54:24.142025Z",
     "shell.execute_reply": "2025-05-22T18:54:24.141256Z"
    },
    "papermill": {
     "duration": 0.012859,
     "end_time": "2025-05-22T18:54:24.143261",
     "exception": false,
     "start_time": "2025-05-22T18:54:24.130402",
     "status": "completed"
    },
    "tags": []
   },
   "outputs": [
    {
     "data": {
      "text/plain": [
       "0"
      ]
     },
     "execution_count": 13,
     "metadata": {},
     "output_type": "execute_result"
    }
   ],
   "source": [
    "(8 - 3 * 2) - (1 + 1)"
   ]
  },
  {
   "cell_type": "code",
   "execution_count": 14,
   "id": "815e559b",
   "metadata": {
    "execution": {
     "iopub.execute_input": "2025-05-22T18:54:24.156769Z",
     "iopub.status.busy": "2025-05-22T18:54:24.155950Z",
     "iopub.status.idle": "2025-05-22T18:54:24.159912Z",
     "shell.execute_reply": "2025-05-22T18:54:24.159243Z"
    },
    "papermill": {
     "duration": 0.012044,
     "end_time": "2025-05-22T18:54:24.161301",
     "exception": false,
     "start_time": "2025-05-22T18:54:24.149257",
     "status": "completed"
    },
    "tags": []
   },
   "outputs": [],
   "source": [
    "#q3.b.hint()"
   ]
  },
  {
   "cell_type": "code",
   "execution_count": 15,
   "id": "b727215d",
   "metadata": {
    "execution": {
     "iopub.execute_input": "2025-05-22T18:54:24.175223Z",
     "iopub.status.busy": "2025-05-22T18:54:24.174937Z",
     "iopub.status.idle": "2025-05-22T18:54:24.181190Z",
     "shell.execute_reply": "2025-05-22T18:54:24.180548Z"
    },
    "papermill": {
     "duration": 0.014893,
     "end_time": "2025-05-22T18:54:24.182378",
     "exception": false,
     "start_time": "2025-05-22T18:54:24.167485",
     "status": "completed"
    },
    "tags": []
   },
   "outputs": [
    {
     "data": {
      "application/javascript": [
       "parent.postMessage({\"jupyterEvent\": \"custom.exercise_interaction\", \"data\": {\"interactionType\": 3, \"questionType\": 4, \"questionId\": \"3.2_ArithmeticParensHard\", \"learnToolsVersion\": \"0.3.5\", \"valueTowardsCompletion\": 0.0, \"failureMessage\": \"\", \"exceptionClass\": \"\", \"trace\": \"\", \"outcomeType\": 4}}, \"*\")"
      ],
      "text/plain": [
       "<IPython.core.display.Javascript object>"
      ]
     },
     "metadata": {},
     "output_type": "display_data"
    },
    {
     "data": {
      "text/markdown": [
       "<span style=\"color:#33cc99\">Solution:</span> `(8 - 3) * (2 - (1 + 1))` is one solution. There may be others."
      ],
      "text/plain": [
       "Solution: `(8 - 3) * (2 - (1 + 1))` is one solution. There may be others."
      ]
     },
     "metadata": {},
     "output_type": "display_data"
    }
   ],
   "source": [
    "# Check your answer (Run this code cell to receive credit!)\n",
    "q3.b.solution()"
   ]
  },
  {
   "cell_type": "markdown",
   "id": "dafc8a88",
   "metadata": {
    "papermill": {
     "duration": 0.005634,
     "end_time": "2025-05-22T18:54:24.194212",
     "exception": false,
     "start_time": "2025-05-22T18:54:24.188578",
     "status": "completed"
    },
    "tags": []
   },
   "source": [
    "<hr/>\n",
    "\n",
    "# 4. \n",
    "Alice, Bob and Carol have agreed to pool their Halloween candy and split it evenly among themselves.\n",
    "For the sake of their friendship, any candies left over will be smashed. For example, if they collectively\n",
    "bring home 91 candies, they'll take 30 each and smash 1.\n",
    "\n",
    "Write an arithmetic expression below to calculate how many candies they must smash for a given haul."
   ]
  },
  {
   "cell_type": "code",
   "execution_count": 16,
   "id": "0d518de7",
   "metadata": {
    "execution": {
     "iopub.execute_input": "2025-05-22T18:54:24.207297Z",
     "iopub.status.busy": "2025-05-22T18:54:24.207029Z",
     "iopub.status.idle": "2025-05-22T18:54:24.215057Z",
     "shell.execute_reply": "2025-05-22T18:54:24.214238Z"
    },
    "papermill": {
     "duration": 0.01918,
     "end_time": "2025-05-22T18:54:24.219284",
     "exception": false,
     "start_time": "2025-05-22T18:54:24.200104",
     "status": "completed"
    },
    "tags": []
   },
   "outputs": [
    {
     "data": {
      "application/javascript": [
       "parent.postMessage({\"jupyterEvent\": \"custom.exercise_interaction\", \"data\": {\"outcomeType\": 1, \"valueTowardsCompletion\": 0.25, \"interactionType\": 1, \"questionType\": 1, \"questionId\": \"4_CandySplitting\", \"learnToolsVersion\": \"0.3.5\", \"failureMessage\": \"\", \"exceptionClass\": \"\", \"trace\": \"\"}}, \"*\")"
      ],
      "text/plain": [
       "<IPython.core.display.Javascript object>"
      ]
     },
     "metadata": {},
     "output_type": "display_data"
    },
    {
     "data": {
      "text/markdown": [
       "<span style=\"color:#33cc33\">Correct</span>"
      ],
      "text/plain": [
       "Correct"
      ]
     },
     "metadata": {},
     "output_type": "display_data"
    }
   ],
   "source": [
    "# Variables representing the number of candies collected by alice, bob, and carol\n",
    "alice_candies = 121\n",
    "bob_candies = 77\n",
    "carol_candies = 109\n",
    "\n",
    "# Your code goes here! Replace the right-hand side of this assignment with an expression\n",
    "# involving alice_candies, bob_candies, and carol_candies\n",
    "pooled_candies = alice_candies + bob_candies + carol_candies\n",
    "to_smash = (pooled_candies % 3)\n",
    "\n",
    "# Check your answer\n",
    "q4.check()"
   ]
  },
  {
   "cell_type": "code",
   "execution_count": 17,
   "id": "f1dee880",
   "metadata": {
    "execution": {
     "iopub.execute_input": "2025-05-22T18:54:24.235136Z",
     "iopub.status.busy": "2025-05-22T18:54:24.234816Z",
     "iopub.status.idle": "2025-05-22T18:54:24.244665Z",
     "shell.execute_reply": "2025-05-22T18:54:24.243823Z"
    },
    "papermill": {
     "duration": 0.019202,
     "end_time": "2025-05-22T18:54:24.245971",
     "exception": false,
     "start_time": "2025-05-22T18:54:24.226769",
     "status": "completed"
    },
    "tags": []
   },
   "outputs": [
    {
     "data": {
      "application/javascript": [
       "parent.postMessage({\"jupyterEvent\": \"custom.exercise_interaction\", \"data\": {\"interactionType\": 2, \"questionType\": 1, \"questionId\": \"4_CandySplitting\", \"learnToolsVersion\": \"0.3.5\", \"valueTowardsCompletion\": 0.0, \"failureMessage\": \"\", \"exceptionClass\": \"\", \"trace\": \"\", \"outcomeType\": 4}}, \"*\")"
      ],
      "text/plain": [
       "<IPython.core.display.Javascript object>"
      ]
     },
     "metadata": {},
     "output_type": "display_data"
    },
    {
     "data": {
      "text/markdown": [
       "<span style=\"color:#3366cc\">Hint 1:</span> You'll probably want to use the modulo operator, `%`.\n",
       "(For another hint, call `.hint(2)`)"
      ],
      "text/plain": [
       "Hint 1: You'll probably want to use the modulo operator, `%`.\n",
       "(For another hint, call `.hint(2)`)"
      ]
     },
     "metadata": {},
     "output_type": "display_data"
    },
    {
     "data": {
      "application/javascript": [
       "parent.postMessage({\"jupyterEvent\": \"custom.exercise_interaction\", \"data\": {\"interactionType\": 3, \"questionType\": 1, \"questionId\": \"4_CandySplitting\", \"learnToolsVersion\": \"0.3.5\", \"valueTowardsCompletion\": 0.0, \"failureMessage\": \"\", \"exceptionClass\": \"\", \"trace\": \"\", \"outcomeType\": 4}}, \"*\")"
      ],
      "text/plain": [
       "<IPython.core.display.Javascript object>"
      ]
     },
     "metadata": {},
     "output_type": "display_data"
    },
    {
     "data": {
      "text/markdown": [
       "<span style=\"color:#33cc99\">Solution:</span> \n",
       "```python\n",
       "(alice_candies + bob_candies + carol_candies) % 3\n",
       "```"
      ],
      "text/plain": [
       "Solution: \n",
       "```python\n",
       "(alice_candies + bob_candies + carol_candies) % 3\n",
       "```"
      ]
     },
     "metadata": {},
     "output_type": "display_data"
    }
   ],
   "source": [
    "q4.hint()\n",
    "q4.solution()"
   ]
  },
  {
   "cell_type": "markdown",
   "id": "8be46816",
   "metadata": {
    "papermill": {
     "duration": 0.006461,
     "end_time": "2025-05-22T18:54:24.259099",
     "exception": false,
     "start_time": "2025-05-22T18:54:24.252638",
     "status": "completed"
    },
    "tags": []
   },
   "source": [
    "# Keep Going\n",
    "\n",
    "Next up, you'll **[learn to write new functions and understand functions others write](https://www.kaggle.com/colinmorris/functions-and-getting-help)**. This will make you at least 10 times more productive as a Python programmer. "
   ]
  },
  {
   "cell_type": "markdown",
   "id": "86974e98",
   "metadata": {
    "papermill": {
     "duration": 0.006565,
     "end_time": "2025-05-22T18:54:24.272104",
     "exception": false,
     "start_time": "2025-05-22T18:54:24.265539",
     "status": "completed"
    },
    "tags": []
   },
   "source": [
    "---\n",
    "\n",
    "\n",
    "\n",
    "\n",
    "*Have questions or comments? Visit the [course discussion forum](https://www.kaggle.com/learn/python/discussion) to chat with other learners.*"
   ]
  }
 ],
 "metadata": {
  "kaggle": {
   "accelerator": "none",
   "dataSources": [],
   "isGpuEnabled": false,
   "isInternetEnabled": false,
   "language": "python",
   "sourceType": "notebook"
  },
  "kernelspec": {
   "display_name": "Python 3",
   "language": "python",
   "name": "python3"
  },
  "language_info": {
   "codemirror_mode": {
    "name": "ipython",
    "version": 3
   },
   "file_extension": ".py",
   "mimetype": "text/x-python",
   "name": "python",
   "nbconvert_exporter": "python",
   "pygments_lexer": "ipython3",
   "version": "3.11.11"
  },
  "learntools_metadata": {
   "lesson_index": 0,
   "type": "exercise"
  },
  "papermill": {
   "default_parameters": {},
   "duration": 7.51716,
   "end_time": "2025-05-22T18:54:24.798294",
   "environment_variables": {},
   "exception": null,
   "input_path": "__notebook__.ipynb",
   "output_path": "__notebook__.ipynb",
   "parameters": {},
   "start_time": "2025-05-22T18:54:17.281134",
   "version": "2.6.0"
  }
 },
 "nbformat": 4,
 "nbformat_minor": 5
}

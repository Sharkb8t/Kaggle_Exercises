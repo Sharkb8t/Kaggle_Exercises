{
 "cells": [
  {
   "cell_type": "markdown",
   "id": "4bba2973",
   "metadata": {
    "papermill": {
     "duration": 0.00772,
     "end_time": "2025-05-23T15:05:33.594946",
     "exception": false,
     "start_time": "2025-05-23T15:05:33.587226",
     "status": "completed"
    },
    "tags": []
   },
   "source": [
    "**This notebook is an exercise in the [Python](https://www.kaggle.com/learn/python) course.  You can reference the tutorial at [this link](https://www.kaggle.com/colinmorris/booleans-and-conditionals).**\n",
    "\n",
    "---\n"
   ]
  },
  {
   "cell_type": "markdown",
   "id": "1ff17b93",
   "metadata": {
    "papermill": {
     "duration": 0.005982,
     "end_time": "2025-05-23T15:05:33.607205",
     "exception": false,
     "start_time": "2025-05-23T15:05:33.601223",
     "status": "completed"
    },
    "tags": []
   },
   "source": [
    "In this exercise, you'll put to work what you have learned about booleans and conditionals.\n",
    "\n",
    "To get started, **run the setup code below** before writing your own code (and if you leave this notebook and come back later, don't forget to run the setup code again)."
   ]
  },
  {
   "cell_type": "code",
   "execution_count": 1,
   "id": "b13cca31",
   "metadata": {
    "execution": {
     "iopub.execute_input": "2025-05-23T15:05:33.620497Z",
     "iopub.status.busy": "2025-05-23T15:05:33.620145Z",
     "iopub.status.idle": "2025-05-23T15:05:35.623411Z",
     "shell.execute_reply": "2025-05-23T15:05:35.622398Z"
    },
    "papermill": {
     "duration": 2.011642,
     "end_time": "2025-05-23T15:05:35.624968",
     "exception": false,
     "start_time": "2025-05-23T15:05:33.613326",
     "status": "completed"
    },
    "tags": []
   },
   "outputs": [
    {
     "name": "stdout",
     "output_type": "stream",
     "text": [
      "Setup complete.\n"
     ]
    }
   ],
   "source": [
    "from learntools.core import binder; binder.bind(globals())\n",
    "from learntools.python.ex3 import *\n",
    "print('Setup complete.')"
   ]
  },
  {
   "cell_type": "markdown",
   "id": "62d99550",
   "metadata": {
    "papermill": {
     "duration": 0.005796,
     "end_time": "2025-05-23T15:05:35.637344",
     "exception": false,
     "start_time": "2025-05-23T15:05:35.631548",
     "status": "completed"
    },
    "tags": []
   },
   "source": [
    "# 1.\n",
    "\n",
    "Many programming languages have [`sign`](https://en.wikipedia.org/wiki/Sign_function) available as a built-in function. Python doesn't, but we can define our own!\n",
    "\n",
    "In the cell below, define a function called `sign` which takes a numerical argument and returns -1 if it's negative, 1 if it's positive, and 0 if it's 0."
   ]
  },
  {
   "cell_type": "code",
   "execution_count": 2,
   "id": "f72cdcba",
   "metadata": {
    "execution": {
     "iopub.execute_input": "2025-05-23T15:05:35.651288Z",
     "iopub.status.busy": "2025-05-23T15:05:35.650790Z",
     "iopub.status.idle": "2025-05-23T15:05:35.661397Z",
     "shell.execute_reply": "2025-05-23T15:05:35.660299Z"
    },
    "papermill": {
     "duration": 0.019399,
     "end_time": "2025-05-23T15:05:35.662883",
     "exception": false,
     "start_time": "2025-05-23T15:05:35.643484",
     "status": "completed"
    },
    "tags": []
   },
   "outputs": [
    {
     "name": "stdout",
     "output_type": "stream",
     "text": [
      "-1\n"
     ]
    },
    {
     "data": {
      "application/javascript": [
       "parent.postMessage({\"jupyterEvent\": \"custom.exercise_interaction\", \"data\": {\"outcomeType\": 1, \"valueTowardsCompletion\": 0.2, \"interactionType\": 1, \"questionType\": 2, \"questionId\": \"1_SignFunctionProblem\", \"learnToolsVersion\": \"0.3.5\", \"failureMessage\": \"\", \"exceptionClass\": \"\", \"trace\": \"\"}}, \"*\")"
      ],
      "text/plain": [
       "<IPython.core.display.Javascript object>"
      ]
     },
     "metadata": {},
     "output_type": "display_data"
    },
    {
     "data": {
      "text/markdown": [
       "<span style=\"color:#33cc33\">Correct</span>"
      ],
      "text/plain": [
       "Correct"
      ]
     },
     "metadata": {},
     "output_type": "display_data"
    }
   ],
   "source": [
    "# Your code goes here. Define a function called 'sign'\n",
    "# Define function name and argument.\n",
    "def sign(num):\n",
    "    if num > 0:\n",
    "        return 1\n",
    "    elif num < 0:\n",
    "        return -1\n",
    "    else:\n",
    "        return 0\n",
    "\n",
    "print(sign(-2))\n",
    "\n",
    "# Check your answer\n",
    "q1.check()"
   ]
  },
  {
   "cell_type": "code",
   "execution_count": 3,
   "id": "34864a84",
   "metadata": {
    "execution": {
     "iopub.execute_input": "2025-05-23T15:05:35.679310Z",
     "iopub.status.busy": "2025-05-23T15:05:35.678759Z",
     "iopub.status.idle": "2025-05-23T15:05:35.682811Z",
     "shell.execute_reply": "2025-05-23T15:05:35.681950Z"
    },
    "papermill": {
     "duration": 0.01421,
     "end_time": "2025-05-23T15:05:35.684309",
     "exception": false,
     "start_time": "2025-05-23T15:05:35.670099",
     "status": "completed"
    },
    "tags": []
   },
   "outputs": [],
   "source": [
    "#q1.solution()"
   ]
  },
  {
   "cell_type": "markdown",
   "id": "41007653",
   "metadata": {
    "papermill": {
     "duration": 0.00614,
     "end_time": "2025-05-23T15:05:35.697417",
     "exception": false,
     "start_time": "2025-05-23T15:05:35.691277",
     "status": "completed"
    },
    "tags": []
   },
   "source": [
    "# 2.\n",
    "\n",
    "We've decided to add \"logging\" to our `to_smash` function from the previous exercise."
   ]
  },
  {
   "cell_type": "code",
   "execution_count": 4,
   "id": "50b00662",
   "metadata": {
    "execution": {
     "iopub.execute_input": "2025-05-23T15:05:35.711487Z",
     "iopub.status.busy": "2025-05-23T15:05:35.711194Z",
     "iopub.status.idle": "2025-05-23T15:05:35.718330Z",
     "shell.execute_reply": "2025-05-23T15:05:35.717383Z"
    },
    "papermill": {
     "duration": 0.015932,
     "end_time": "2025-05-23T15:05:35.719731",
     "exception": false,
     "start_time": "2025-05-23T15:05:35.703799",
     "status": "completed"
    },
    "tags": []
   },
   "outputs": [
    {
     "name": "stdout",
     "output_type": "stream",
     "text": [
      "Splitting 91 candies\n"
     ]
    },
    {
     "data": {
      "text/plain": [
       "1"
      ]
     },
     "execution_count": 4,
     "metadata": {},
     "output_type": "execute_result"
    }
   ],
   "source": [
    "def to_smash(total_candies):\n",
    "    \"\"\"Return the number of leftover candies that must be smashed after distributing\n",
    "    the given number of candies evenly between 3 friends.\n",
    "    \n",
    "    >>> to_smash(91)\n",
    "    1\n",
    "    \"\"\"\n",
    "    print(\"Splitting\", total_candies, \"candies\")\n",
    "    return total_candies % 3\n",
    "\n",
    "to_smash(91)"
   ]
  },
  {
   "cell_type": "markdown",
   "id": "4d203dc6",
   "metadata": {
    "papermill": {
     "duration": 0.006289,
     "end_time": "2025-05-23T15:05:35.733766",
     "exception": false,
     "start_time": "2025-05-23T15:05:35.727477",
     "status": "completed"
    },
    "tags": []
   },
   "source": [
    "What happens if we call it with `total_candies = 1`?"
   ]
  },
  {
   "cell_type": "code",
   "execution_count": 5,
   "id": "69460d35",
   "metadata": {
    "execution": {
     "iopub.execute_input": "2025-05-23T15:05:35.748608Z",
     "iopub.status.busy": "2025-05-23T15:05:35.748281Z",
     "iopub.status.idle": "2025-05-23T15:05:35.754863Z",
     "shell.execute_reply": "2025-05-23T15:05:35.753904Z"
    },
    "papermill": {
     "duration": 0.015974,
     "end_time": "2025-05-23T15:05:35.756317",
     "exception": false,
     "start_time": "2025-05-23T15:05:35.740343",
     "status": "completed"
    },
    "tags": []
   },
   "outputs": [
    {
     "name": "stdout",
     "output_type": "stream",
     "text": [
      "Splitting 1 candies\n"
     ]
    },
    {
     "data": {
      "text/plain": [
       "1"
      ]
     },
     "execution_count": 5,
     "metadata": {},
     "output_type": "execute_result"
    }
   ],
   "source": [
    "to_smash(1)"
   ]
  },
  {
   "cell_type": "markdown",
   "id": "be0544ee",
   "metadata": {
    "papermill": {
     "duration": 0.006419,
     "end_time": "2025-05-23T15:05:35.769561",
     "exception": false,
     "start_time": "2025-05-23T15:05:35.763142",
     "status": "completed"
    },
    "tags": []
   },
   "source": [
    "That isn't great grammar!\n",
    "\n",
    "Modify the definition in the cell below to correct the grammar of our print statement. (If there's only one candy, we should use the singular \"candy\" instead of the plural \"candies\")"
   ]
  },
  {
   "cell_type": "code",
   "execution_count": 6,
   "id": "1bc5b013",
   "metadata": {
    "execution": {
     "iopub.execute_input": "2025-05-23T15:05:35.784409Z",
     "iopub.status.busy": "2025-05-23T15:05:35.783759Z",
     "iopub.status.idle": "2025-05-23T15:05:35.791332Z",
     "shell.execute_reply": "2025-05-23T15:05:35.790461Z"
    },
    "papermill": {
     "duration": 0.016255,
     "end_time": "2025-05-23T15:05:35.792617",
     "exception": false,
     "start_time": "2025-05-23T15:05:35.776362",
     "status": "completed"
    },
    "tags": []
   },
   "outputs": [
    {
     "name": "stdout",
     "output_type": "stream",
     "text": [
      "Splitting 91 candies\n",
      "Splitting 1 candy\n"
     ]
    },
    {
     "data": {
      "text/plain": [
       "1"
      ]
     },
     "execution_count": 6,
     "metadata": {},
     "output_type": "execute_result"
    }
   ],
   "source": [
    "def to_smash(total_candies):\n",
    "    \"\"\"Return the number of leftover candies that must be smashed after distributing\n",
    "    the given number of candies evenly between 3 friends.\n",
    "    \n",
    "    >>> to_smash(91)\n",
    "    1\n",
    "    \"\"\"\n",
    "    if total_candies == 1:\n",
    "        print(\"Splitting\", total_candies, \"candy\")\n",
    "    else:\n",
    "        print(\"Splitting\", total_candies, \"candies\")\n",
    "    return total_candies % 3\n",
    "\n",
    "to_smash(91)\n",
    "to_smash(1)"
   ]
  },
  {
   "cell_type": "markdown",
   "id": "cfa3b44b",
   "metadata": {
    "papermill": {
     "duration": 0.006449,
     "end_time": "2025-05-23T15:05:35.805998",
     "exception": false,
     "start_time": "2025-05-23T15:05:35.799549",
     "status": "completed"
    },
    "tags": []
   },
   "source": [
    "To get credit for completing this problem, and to see the official answer, run the code cell below."
   ]
  },
  {
   "cell_type": "code",
   "execution_count": 7,
   "id": "44cfec10",
   "metadata": {
    "execution": {
     "iopub.execute_input": "2025-05-23T15:05:35.821246Z",
     "iopub.status.busy": "2025-05-23T15:05:35.820890Z",
     "iopub.status.idle": "2025-05-23T15:05:35.827984Z",
     "shell.execute_reply": "2025-05-23T15:05:35.827150Z"
    },
    "papermill": {
     "duration": 0.016291,
     "end_time": "2025-05-23T15:05:35.829527",
     "exception": false,
     "start_time": "2025-05-23T15:05:35.813236",
     "status": "completed"
    },
    "tags": []
   },
   "outputs": [
    {
     "data": {
      "application/javascript": [
       "parent.postMessage({\"jupyterEvent\": \"custom.exercise_interaction\", \"data\": {\"interactionType\": 3, \"questionType\": 4, \"questionId\": \"2_PluralizationProblem\", \"learnToolsVersion\": \"0.3.5\", \"valueTowardsCompletion\": 0.0, \"failureMessage\": \"\", \"exceptionClass\": \"\", \"trace\": \"\", \"outcomeType\": 4}}, \"*\")"
      ],
      "text/plain": [
       "<IPython.core.display.Javascript object>"
      ]
     },
     "metadata": {},
     "output_type": "display_data"
    },
    {
     "data": {
      "text/markdown": [
       "<span style=\"color:#33cc99\">Solution:</span> A straightforward (and totally fine) solution is to replace the original `print` call with:\n",
       "\n",
       "```python\n",
       "if total_candies == 1:\n",
       "    print(\"Splitting 1 candy\")\n",
       "else:\n",
       "    print(\"Splitting\", total_candies, \"candies\")\n",
       "```\n",
       "\n",
       "Here's a slightly more succinct solution using a conditional expression:\n",
       "\n",
       "```python\n",
       "print(\"Splitting\", total_candies, \"candy\" if total_candies == 1 else \"candies\")\n",
       "```"
      ],
      "text/plain": [
       "Solution: A straightforward (and totally fine) solution is to replace the original `print` call with:\n",
       "\n",
       "```python\n",
       "if total_candies == 1:\n",
       "    print(\"Splitting 1 candy\")\n",
       "else:\n",
       "    print(\"Splitting\", total_candies, \"candies\")\n",
       "```\n",
       "\n",
       "Here's a slightly more succinct solution using a conditional expression:\n",
       "\n",
       "```python\n",
       "print(\"Splitting\", total_candies, \"candy\" if total_candies == 1 else \"candies\")\n",
       "```"
      ]
     },
     "metadata": {},
     "output_type": "display_data"
    }
   ],
   "source": [
    "# Check your answer (Run this code cell to receive credit!)\n",
    "q2.solution()"
   ]
  },
  {
   "cell_type": "markdown",
   "id": "409f41aa",
   "metadata": {
    "papermill": {
     "duration": 0.006613,
     "end_time": "2025-05-23T15:05:35.843328",
     "exception": false,
     "start_time": "2025-05-23T15:05:35.836715",
     "status": "completed"
    },
    "tags": []
   },
   "source": [
    "# 3. <span title=\"A bit spicy\" style=\"color: darkgreen \">🌶️</span>\n",
    "\n",
    "In the tutorial, we talked about deciding whether we're prepared for the weather. I said that I'm safe from today's weather if...\n",
    "- I have an umbrella...\n",
    "- or if the rain isn't too heavy and I have a hood...\n",
    "- otherwise, I'm still fine unless it's raining *and* it's a workday\n",
    "\n",
    "The function below uses our first attempt at turning this logic into a Python expression. I claimed that there was a bug in that code. Can you find it?\n",
    "\n",
    "To prove that `prepared_for_weather` is buggy, come up with a set of inputs where either:\n",
    "- the function returns `False` (but should have returned `True`), or\n",
    "- the function returned `True` (but should have returned `False`).\n",
    "\n",
    "To get credit for completing this question, your code should return a <font color='#33cc33'>Correct</font> result."
   ]
  },
  {
   "cell_type": "code",
   "execution_count": 8,
   "id": "56200cd4",
   "metadata": {
    "execution": {
     "iopub.execute_input": "2025-05-23T15:05:35.858334Z",
     "iopub.status.busy": "2025-05-23T15:05:35.857998Z",
     "iopub.status.idle": "2025-05-23T15:05:35.867392Z",
     "shell.execute_reply": "2025-05-23T15:05:35.866294Z"
    },
    "papermill": {
     "duration": 0.018607,
     "end_time": "2025-05-23T15:05:35.868854",
     "exception": false,
     "start_time": "2025-05-23T15:05:35.850247",
     "status": "completed"
    },
    "tags": []
   },
   "outputs": [
    {
     "name": "stdout",
     "output_type": "stream",
     "text": [
      "False\n"
     ]
    },
    {
     "data": {
      "application/javascript": [
       "parent.postMessage({\"jupyterEvent\": \"custom.exercise_interaction\", \"data\": {\"outcomeType\": 1, \"valueTowardsCompletion\": 0.2, \"interactionType\": 1, \"questionType\": 1, \"questionId\": \"3_WeatherDebug\", \"learnToolsVersion\": \"0.3.5\", \"failureMessage\": \"\", \"exceptionClass\": \"\", \"trace\": \"\"}}, \"*\")"
      ],
      "text/plain": [
       "<IPython.core.display.Javascript object>"
      ]
     },
     "metadata": {},
     "output_type": "display_data"
    },
    {
     "data": {
      "text/markdown": [
       "<span style=\"color:#33cc33\">Correct:</span> \n",
       "\n",
       "One example of a failing test case is:\n",
       "\n",
       "```python\n",
       "have_umbrella = False\n",
       "rain_level = 0.0\n",
       "have_hood = False\n",
       "is_workday = False\n",
       "```\n",
       "\n",
       "Clearly we're prepared for the weather in this case. It's not raining. Not only that, it's not a workday, so we don't even need to leave the house! But our function will return False on these inputs.\n",
       "\n",
       "The key problem is that Python implictly parenthesizes the last part as:\n",
       "\n",
       "```python\n",
       "(not (rain_level > 0)) and is_workday\n",
       "```\n",
       "\n",
       "Whereas what we were trying to express would look more like:\n",
       "\n",
       "```python\n",
       "not (rain_level > 0 and is_workday)\n",
       "```\n"
      ],
      "text/plain": [
       "Correct: \n",
       "\n",
       "One example of a failing test case is:\n",
       "\n",
       "```python\n",
       "have_umbrella = False\n",
       "rain_level = 0.0\n",
       "have_hood = False\n",
       "is_workday = False\n",
       "```\n",
       "\n",
       "Clearly we're prepared for the weather in this case. It's not raining. Not only that, it's not a workday, so we don't even need to leave the house! But our function will return False on these inputs.\n",
       "\n",
       "The key problem is that Python implictly parenthesizes the last part as:\n",
       "\n",
       "```python\n",
       "(not (rain_level > 0)) and is_workday\n",
       "```\n",
       "\n",
       "Whereas what we were trying to express would look more like:\n",
       "\n",
       "```python\n",
       "not (rain_level > 0 and is_workday)\n",
       "```"
      ]
     },
     "metadata": {},
     "output_type": "display_data"
    }
   ],
   "source": [
    "def prepared_for_weather(have_umbrella, rain_level, have_hood, is_workday):\n",
    "    # Don't change this code. Our goal is just to find the bug, not fix it!\n",
    "    return have_umbrella or rain_level < 5 and have_hood or not rain_level > 0 and is_workday\n",
    "\n",
    "# Change the values of these inputs so they represent a case where prepared_for_weather\n",
    "# returns the wrong answer.\n",
    "have_umbrella = False\n",
    "rain_level = 6.0\n",
    "have_hood = False\n",
    "is_workday = False\n",
    "\n",
    "# Check what the function returns given the current values of the variables above\n",
    "actual = prepared_for_weather(have_umbrella, rain_level, have_hood, is_workday)\n",
    "print(actual)\n",
    "\n",
    "# Check your answer\n",
    "q3.check()"
   ]
  },
  {
   "cell_type": "code",
   "execution_count": 9,
   "id": "5cb6994e",
   "metadata": {
    "execution": {
     "iopub.execute_input": "2025-05-23T15:05:35.885834Z",
     "iopub.status.busy": "2025-05-23T15:05:35.885462Z",
     "iopub.status.idle": "2025-05-23T15:05:35.889524Z",
     "shell.execute_reply": "2025-05-23T15:05:35.888661Z"
    },
    "papermill": {
     "duration": 0.01472,
     "end_time": "2025-05-23T15:05:35.891144",
     "exception": false,
     "start_time": "2025-05-23T15:05:35.876424",
     "status": "completed"
    },
    "tags": []
   },
   "outputs": [],
   "source": [
    "#q3.hint()\n",
    "#q3.solution()"
   ]
  },
  {
   "cell_type": "markdown",
   "id": "580b1ec2",
   "metadata": {
    "papermill": {
     "duration": 0.007426,
     "end_time": "2025-05-23T15:05:35.906569",
     "exception": false,
     "start_time": "2025-05-23T15:05:35.899143",
     "status": "completed"
    },
    "tags": []
   },
   "source": [
    "# 4.\n",
    "\n",
    "The function `is_negative` below is implemented correctly - it returns True if the given number is negative and False otherwise.\n",
    "\n",
    "However, it's more verbose than it needs to be. We can actually reduce the number of lines of code in this function by *75%* while keeping the same behaviour. \n",
    "\n",
    "See if you can come up with an equivalent body that uses just **one line** of code, and put it in the function `concise_is_negative`. (HINT: you don't even need Python's ternary syntax)"
   ]
  },
  {
   "cell_type": "code",
   "execution_count": 10,
   "id": "2b082243",
   "metadata": {
    "execution": {
     "iopub.execute_input": "2025-05-23T15:05:35.923169Z",
     "iopub.status.busy": "2025-05-23T15:05:35.922826Z",
     "iopub.status.idle": "2025-05-23T15:05:35.931621Z",
     "shell.execute_reply": "2025-05-23T15:05:35.930791Z"
    },
    "papermill": {
     "duration": 0.019136,
     "end_time": "2025-05-23T15:05:35.933265",
     "exception": false,
     "start_time": "2025-05-23T15:05:35.914129",
     "status": "completed"
    },
    "tags": []
   },
   "outputs": [
    {
     "data": {
      "application/javascript": [
       "parent.postMessage({\"jupyterEvent\": \"custom.exercise_interaction\", \"data\": {\"outcomeType\": 1, \"valueTowardsCompletion\": 0.2, \"interactionType\": 1, \"questionType\": 2, \"questionId\": \"4_ConciseIsNegative\", \"learnToolsVersion\": \"0.3.5\", \"failureMessage\": \"\", \"exceptionClass\": \"\", \"trace\": \"\"}}, \"*\")"
      ],
      "text/plain": [
       "<IPython.core.display.Javascript object>"
      ]
     },
     "metadata": {},
     "output_type": "display_data"
    },
    {
     "data": {
      "text/markdown": [
       "<span style=\"color:#33cc33\">Correct</span>"
      ],
      "text/plain": [
       "Correct"
      ]
     },
     "metadata": {},
     "output_type": "display_data"
    }
   ],
   "source": [
    "def is_negative(number):\n",
    "    if number < 0:\n",
    "        return True\n",
    "    else:\n",
    "        return False\n",
    "\n",
    "def concise_is_negative(number):\n",
    "    return number < 0\n",
    "\n",
    "# Check your answer\n",
    "q4.check()"
   ]
  },
  {
   "cell_type": "code",
   "execution_count": 11,
   "id": "a3c3c3d4",
   "metadata": {
    "execution": {
     "iopub.execute_input": "2025-05-23T15:05:35.951189Z",
     "iopub.status.busy": "2025-05-23T15:05:35.950182Z",
     "iopub.status.idle": "2025-05-23T15:05:35.954883Z",
     "shell.execute_reply": "2025-05-23T15:05:35.953844Z"
    },
    "papermill": {
     "duration": 0.015856,
     "end_time": "2025-05-23T15:05:35.956832",
     "exception": false,
     "start_time": "2025-05-23T15:05:35.940976",
     "status": "completed"
    },
    "tags": []
   },
   "outputs": [],
   "source": [
    "#q4.hint()\n",
    "#q4.solution()"
   ]
  },
  {
   "cell_type": "markdown",
   "id": "552eb32a",
   "metadata": {
    "papermill": {
     "duration": 0.007846,
     "end_time": "2025-05-23T15:05:35.973022",
     "exception": false,
     "start_time": "2025-05-23T15:05:35.965176",
     "status": "completed"
    },
    "tags": []
   },
   "source": [
    "# 5a.\n",
    "\n",
    "The boolean variables `ketchup`, `mustard` and `onion` represent whether a customer wants a particular topping on their hot dog. We want to implement a number of boolean functions that correspond to some yes-or-no questions about the customer's order. For example:"
   ]
  },
  {
   "cell_type": "code",
   "execution_count": 12,
   "id": "c83c3787",
   "metadata": {
    "execution": {
     "iopub.execute_input": "2025-05-23T15:05:35.990993Z",
     "iopub.status.busy": "2025-05-23T15:05:35.989951Z",
     "iopub.status.idle": "2025-05-23T15:05:35.995114Z",
     "shell.execute_reply": "2025-05-23T15:05:35.994154Z"
    },
    "papermill": {
     "duration": 0.015257,
     "end_time": "2025-05-23T15:05:35.996534",
     "exception": false,
     "start_time": "2025-05-23T15:05:35.981277",
     "status": "completed"
    },
    "tags": []
   },
   "outputs": [],
   "source": [
    "def onionless(ketchup, mustard, onion):\n",
    "    \"\"\"Return whether the customer doesn't want onions.\n",
    "    \"\"\"\n",
    "    return not onion"
   ]
  },
  {
   "cell_type": "code",
   "execution_count": 13,
   "id": "fbf801ac",
   "metadata": {
    "execution": {
     "iopub.execute_input": "2025-05-23T15:05:36.013631Z",
     "iopub.status.busy": "2025-05-23T15:05:36.012905Z",
     "iopub.status.idle": "2025-05-23T15:05:36.020441Z",
     "shell.execute_reply": "2025-05-23T15:05:36.019686Z"
    },
    "papermill": {
     "duration": 0.017619,
     "end_time": "2025-05-23T15:05:36.021835",
     "exception": false,
     "start_time": "2025-05-23T15:05:36.004216",
     "status": "completed"
    },
    "tags": []
   },
   "outputs": [
    {
     "data": {
      "application/javascript": [
       "parent.postMessage({\"jupyterEvent\": \"custom.exercise_interaction\", \"data\": {\"outcomeType\": 1, \"valueTowardsCompletion\": 0.2, \"interactionType\": 1, \"questionType\": 2, \"questionId\": \"5.1_AllToppings\", \"learnToolsVersion\": \"0.3.5\", \"failureMessage\": \"\", \"exceptionClass\": \"\", \"trace\": \"\"}}, \"*\")"
      ],
      "text/plain": [
       "<IPython.core.display.Javascript object>"
      ]
     },
     "metadata": {},
     "output_type": "display_data"
    },
    {
     "data": {
      "text/markdown": [
       "<span style=\"color:#33cc33\">Correct</span>"
      ],
      "text/plain": [
       "Correct"
      ]
     },
     "metadata": {},
     "output_type": "display_data"
    }
   ],
   "source": [
    "def wants_all_toppings(ketchup, mustard, onion):\n",
    "    \"\"\"Return whether the customer wants \"the works\" (all 3 toppings)\n",
    "    \"\"\"\n",
    "    return ketchup and mustard and onion\n",
    "\n",
    "# Check your answer\n",
    "q5.a.check()"
   ]
  },
  {
   "cell_type": "code",
   "execution_count": 14,
   "id": "76a415b4",
   "metadata": {
    "execution": {
     "iopub.execute_input": "2025-05-23T15:05:36.045851Z",
     "iopub.status.busy": "2025-05-23T15:05:36.045520Z",
     "iopub.status.idle": "2025-05-23T15:05:36.053369Z",
     "shell.execute_reply": "2025-05-23T15:05:36.052431Z"
    },
    "papermill": {
     "duration": 0.021529,
     "end_time": "2025-05-23T15:05:36.054980",
     "exception": false,
     "start_time": "2025-05-23T15:05:36.033451",
     "status": "completed"
    },
    "tags": []
   },
   "outputs": [
    {
     "data": {
      "application/javascript": [
       "parent.postMessage({\"jupyterEvent\": \"custom.exercise_interaction\", \"data\": {\"interactionType\": 3, \"questionType\": 2, \"questionId\": \"5.1_AllToppings\", \"learnToolsVersion\": \"0.3.5\", \"valueTowardsCompletion\": 0.0, \"failureMessage\": \"\", \"exceptionClass\": \"\", \"trace\": \"\", \"outcomeType\": 4}}, \"*\")"
      ],
      "text/plain": [
       "<IPython.core.display.Javascript object>"
      ]
     },
     "metadata": {},
     "output_type": "display_data"
    },
    {
     "data": {
      "text/markdown": [
       "<span style=\"color:#33cc99\">Solution:</span> \n",
       "```python\n",
       "return ketchup and mustard and onion\n",
       "```"
      ],
      "text/plain": [
       "Solution: \n",
       "```python\n",
       "return ketchup and mustard and onion\n",
       "```"
      ]
     },
     "metadata": {},
     "output_type": "display_data"
    }
   ],
   "source": [
    "#q5.a.hint()\n",
    "q5.a.solution()"
   ]
  },
  {
   "cell_type": "markdown",
   "id": "cbad25d2",
   "metadata": {
    "papermill": {
     "duration": 0.013989,
     "end_time": "2025-05-23T15:05:36.080888",
     "exception": false,
     "start_time": "2025-05-23T15:05:36.066899",
     "status": "completed"
    },
    "tags": []
   },
   "source": [
    "# 5b.\n",
    "\n",
    "For the next function, fill in the body to match the English description in the docstring. "
   ]
  },
  {
   "cell_type": "code",
   "execution_count": 15,
   "id": "6ea3e88e",
   "metadata": {
    "execution": {
     "iopub.execute_input": "2025-05-23T15:05:36.099146Z",
     "iopub.status.busy": "2025-05-23T15:05:36.098136Z",
     "iopub.status.idle": "2025-05-23T15:05:36.107202Z",
     "shell.execute_reply": "2025-05-23T15:05:36.106273Z"
    },
    "papermill": {
     "duration": 0.019745,
     "end_time": "2025-05-23T15:05:36.108818",
     "exception": false,
     "start_time": "2025-05-23T15:05:36.089073",
     "status": "completed"
    },
    "tags": []
   },
   "outputs": [
    {
     "data": {
      "application/javascript": [
       "parent.postMessage({\"jupyterEvent\": \"custom.exercise_interaction\", \"data\": {\"outcomeType\": 1, \"valueTowardsCompletion\": 0.2, \"interactionType\": 1, \"questionType\": 2, \"questionId\": \"5.2_PlainDog\", \"learnToolsVersion\": \"0.3.5\", \"failureMessage\": \"\", \"exceptionClass\": \"\", \"trace\": \"\"}}, \"*\")"
      ],
      "text/plain": [
       "<IPython.core.display.Javascript object>"
      ]
     },
     "metadata": {},
     "output_type": "display_data"
    },
    {
     "data": {
      "text/markdown": [
       "<span style=\"color:#33cc33\">Correct:</span> \n",
       "\n",
       "One solution looks like:\n",
       "```python\n",
       "return not ketchup and not mustard and not onion\n",
       "```\n",
       "\n",
       "We can also [\"factor out\" the nots](https://en.wikipedia.org/wiki/De_Morgan%27s_laws) to get:\n",
       "\n",
       "```python\n",
       "return not (ketchup or mustard or onion)\n",
       "```"
      ],
      "text/plain": [
       "Correct: \n",
       "\n",
       "One solution looks like:\n",
       "```python\n",
       "return not ketchup and not mustard and not onion\n",
       "```\n",
       "\n",
       "We can also [\"factor out\" the nots](https://en.wikipedia.org/wiki/De_Morgan%27s_laws) to get:\n",
       "\n",
       "```python\n",
       "return not (ketchup or mustard or onion)\n",
       "```"
      ]
     },
     "metadata": {},
     "output_type": "display_data"
    }
   ],
   "source": [
    "def wants_plain_hotdog(ketchup, mustard, onion):\n",
    "    \"\"\"Return whether the customer wants a plain hot dog with no toppings.\n",
    "    \"\"\"\n",
    "    return not ketchup and not mustard and not onion\n",
    "\n",
    "# Check your answer\n",
    "q5.b.check()"
   ]
  },
  {
   "cell_type": "code",
   "execution_count": 16,
   "id": "24c3e4d4",
   "metadata": {
    "execution": {
     "iopub.execute_input": "2025-05-23T15:05:36.203430Z",
     "iopub.status.busy": "2025-05-23T15:05:36.202502Z",
     "iopub.status.idle": "2025-05-23T15:05:36.206895Z",
     "shell.execute_reply": "2025-05-23T15:05:36.206065Z"
    },
    "papermill": {
     "duration": 0.016031,
     "end_time": "2025-05-23T15:05:36.208638",
     "exception": false,
     "start_time": "2025-05-23T15:05:36.192607",
     "status": "completed"
    },
    "tags": []
   },
   "outputs": [],
   "source": [
    "#q5.b.hint()\n",
    "#q5.b.solution()"
   ]
  },
  {
   "cell_type": "markdown",
   "id": "0290c41b",
   "metadata": {
    "papermill": {
     "duration": 0.008431,
     "end_time": "2025-05-23T15:05:36.225694",
     "exception": false,
     "start_time": "2025-05-23T15:05:36.217263",
     "status": "completed"
    },
    "tags": []
   },
   "source": [
    "# 5c.\n",
    "\n",
    "You know what to do: for the next function, fill in the body to match the English description in the docstring."
   ]
  },
  {
   "cell_type": "code",
   "execution_count": 17,
   "id": "b05dedbf",
   "metadata": {
    "execution": {
     "iopub.execute_input": "2025-05-23T15:05:36.244535Z",
     "iopub.status.busy": "2025-05-23T15:05:36.244139Z",
     "iopub.status.idle": "2025-05-23T15:05:36.253455Z",
     "shell.execute_reply": "2025-05-23T15:05:36.252577Z"
    },
    "papermill": {
     "duration": 0.020591,
     "end_time": "2025-05-23T15:05:36.255061",
     "exception": false,
     "start_time": "2025-05-23T15:05:36.234470",
     "status": "completed"
    },
    "tags": []
   },
   "outputs": [
    {
     "data": {
      "application/javascript": [
       "parent.postMessage({\"jupyterEvent\": \"custom.exercise_interaction\", \"data\": {\"outcomeType\": 1, \"valueTowardsCompletion\": 0.2, \"interactionType\": 1, \"questionType\": 2, \"questionId\": \"5.3_OneSauce\", \"learnToolsVersion\": \"0.3.5\", \"failureMessage\": \"\", \"exceptionClass\": \"\", \"trace\": \"\"}}, \"*\")"
      ],
      "text/plain": [
       "<IPython.core.display.Javascript object>"
      ]
     },
     "metadata": {},
     "output_type": "display_data"
    },
    {
     "data": {
      "text/markdown": [
       "<span style=\"color:#33cc33\">Correct</span>"
      ],
      "text/plain": [
       "Correct"
      ]
     },
     "metadata": {},
     "output_type": "display_data"
    }
   ],
   "source": [
    "def exactly_one_sauce(ketchup, mustard, onion):\n",
    "    \"\"\"Return whether the customer wants either ketchup or mustard, but not both.\n",
    "    (You may be familiar with this operation under the name \"exclusive or\")\n",
    "    \"\"\"\n",
    "    return (ketchup and not mustard) or (mustard and not ketchup)\n",
    "\n",
    "# Check your answer\n",
    "q5.c.check()"
   ]
  },
  {
   "cell_type": "code",
   "execution_count": 18,
   "id": "0b475b17",
   "metadata": {
    "execution": {
     "iopub.execute_input": "2025-05-23T15:05:36.279661Z",
     "iopub.status.busy": "2025-05-23T15:05:36.279360Z",
     "iopub.status.idle": "2025-05-23T15:05:36.283421Z",
     "shell.execute_reply": "2025-05-23T15:05:36.282284Z"
    },
    "papermill": {
     "duration": 0.021024,
     "end_time": "2025-05-23T15:05:36.285475",
     "exception": false,
     "start_time": "2025-05-23T15:05:36.264451",
     "status": "completed"
    },
    "tags": []
   },
   "outputs": [],
   "source": [
    "#q5.c.hint()\n",
    "#q5.c.solution()"
   ]
  },
  {
   "cell_type": "markdown",
   "id": "04034b15",
   "metadata": {
    "papermill": {
     "duration": 0.008655,
     "end_time": "2025-05-23T15:05:36.308335",
     "exception": false,
     "start_time": "2025-05-23T15:05:36.299680",
     "status": "completed"
    },
    "tags": []
   },
   "source": [
    "# 6. <span title=\"A bit spicy\" style=\"color: darkgreen \">🌶️</span>\n",
    "\n",
    "We’ve seen that calling `bool()` on an integer returns `False` if it’s equal to 0 and `True` otherwise. What happens if we call `int()` on a bool? Try it out in the notebook cell below.\n",
    "\n",
    "Can you take advantage of this to write a succinct function that corresponds to the English sentence \"does the customer want exactly one topping?\"?"
   ]
  },
  {
   "cell_type": "code",
   "execution_count": 19,
   "id": "3f01162f",
   "metadata": {
    "execution": {
     "iopub.execute_input": "2025-05-23T15:05:36.327717Z",
     "iopub.status.busy": "2025-05-23T15:05:36.326930Z",
     "iopub.status.idle": "2025-05-23T15:05:36.334574Z",
     "shell.execute_reply": "2025-05-23T15:05:36.333714Z"
    },
    "papermill": {
     "duration": 0.018677,
     "end_time": "2025-05-23T15:05:36.336252",
     "exception": false,
     "start_time": "2025-05-23T15:05:36.317575",
     "status": "completed"
    },
    "tags": []
   },
   "outputs": [
    {
     "data": {
      "application/javascript": [
       "parent.postMessage({\"jupyterEvent\": \"custom.exercise_interaction\", \"data\": {\"outcomeType\": 1, \"valueTowardsCompletion\": 0.2, \"interactionType\": 1, \"questionType\": 2, \"questionId\": \"6_OneTopping\", \"learnToolsVersion\": \"0.3.5\", \"failureMessage\": \"\", \"exceptionClass\": \"\", \"trace\": \"\"}}, \"*\")"
      ],
      "text/plain": [
       "<IPython.core.display.Javascript object>"
      ]
     },
     "metadata": {},
     "output_type": "display_data"
    },
    {
     "data": {
      "text/markdown": [
       "<span style=\"color:#33cc33\">Correct:</span> \n",
       "\n",
       "This condition would be pretty complicated to express using just `and`, `or` and `not`, but using boolean-to-integer conversion gives us this short solution:\n",
       "```python\n",
       "return (int(ketchup) + int(mustard) + int(onion)) == 1\n",
       "```\n",
       "\n",
       "Fun fact: we don't technically need to call `int` on the arguments. Just by doing addition with booleans, Python implicitly does the integer conversion. So we could also write...\n",
       "\n",
       "```python\n",
       "return (ketchup + mustard + onion) == 1\n",
       "```"
      ],
      "text/plain": [
       "Correct: \n",
       "\n",
       "This condition would be pretty complicated to express using just `and`, `or` and `not`, but using boolean-to-integer conversion gives us this short solution:\n",
       "```python\n",
       "return (int(ketchup) + int(mustard) + int(onion)) == 1\n",
       "```\n",
       "\n",
       "Fun fact: we don't technically need to call `int` on the arguments. Just by doing addition with booleans, Python implicitly does the integer conversion. So we could also write...\n",
       "\n",
       "```python\n",
       "return (ketchup + mustard + onion) == 1\n",
       "```"
      ]
     },
     "metadata": {},
     "output_type": "display_data"
    }
   ],
   "source": [
    "def exactly_one_topping(ketchup, mustard, onion):\n",
    "    \"\"\"Return whether the customer wants exactly one of the three available toppings\n",
    "    on their hot dog.\n",
    "    \"\"\"\n",
    "    return (ketchup + mustard + onion) == 1\n",
    "\n",
    "# Check your answer\n",
    "q6.check()"
   ]
  },
  {
   "cell_type": "code",
   "execution_count": 20,
   "id": "85353a1a",
   "metadata": {
    "execution": {
     "iopub.execute_input": "2025-05-23T15:05:36.361695Z",
     "iopub.status.busy": "2025-05-23T15:05:36.360887Z",
     "iopub.status.idle": "2025-05-23T15:05:36.365990Z",
     "shell.execute_reply": "2025-05-23T15:05:36.365009Z"
    },
    "papermill": {
     "duration": 0.016507,
     "end_time": "2025-05-23T15:05:36.367681",
     "exception": false,
     "start_time": "2025-05-23T15:05:36.351174",
     "status": "completed"
    },
    "tags": []
   },
   "outputs": [],
   "source": [
    "#q6.hint()\n",
    "#q6.solution()"
   ]
  },
  {
   "cell_type": "markdown",
   "id": "20513304",
   "metadata": {
    "papermill": {
     "duration": 0.008406,
     "end_time": "2025-05-23T15:05:36.385434",
     "exception": false,
     "start_time": "2025-05-23T15:05:36.377028",
     "status": "completed"
    },
    "tags": []
   },
   "source": [
    "# 7. <span title=\"A bit spicy\" style=\"color: darkgreen \">🌶️</span> (Optional)\n",
    "\n",
    "In this problem we'll be working with a simplified version of [blackjack](https://en.wikipedia.org/wiki/Blackjack) (aka twenty-one). In this version there is one player (who you'll control) and a dealer. Play proceeds as follows:\n",
    "\n",
    "- The player is dealt two face-up cards. The dealer is dealt one face-up card.\n",
    "- The player may ask to be dealt another card ('hit') as many times as they wish. If the sum of their cards exceeds 21, they lose the round immediately.\n",
    "- The dealer then deals additional cards to himself until either:\n",
    "    - the sum of the dealer's cards exceeds 21, in which case the player wins the round\n",
    "    - the sum of the dealer's cards is greater than or equal to 17. If the player's total is greater than the dealer's, the player wins. Otherwise, the dealer wins (even in case of a tie).\n",
    "    \n",
    "When calculating the sum of cards, Jack, Queen, and King count for 10. Aces can count as 1 or 11 (when referring to a player's \"total\" above, we mean the largest total that can be made without exceeding 21. So e.g. A+8 = 19, A+8+8 = 17)\n",
    "\n",
    "For this problem, you'll write a function representing the player's decision-making strategy in this game. We've provided a very unintelligent implementation below:"
   ]
  },
  {
   "cell_type": "code",
   "execution_count": 21,
   "id": "55719915",
   "metadata": {
    "execution": {
     "iopub.execute_input": "2025-05-23T15:05:36.404796Z",
     "iopub.status.busy": "2025-05-23T15:05:36.404387Z",
     "iopub.status.idle": "2025-05-23T15:05:36.410891Z",
     "shell.execute_reply": "2025-05-23T15:05:36.409947Z"
    },
    "papermill": {
     "duration": 0.018225,
     "end_time": "2025-05-23T15:05:36.412825",
     "exception": false,
     "start_time": "2025-05-23T15:05:36.394600",
     "status": "completed"
    },
    "tags": []
   },
   "outputs": [],
   "source": [
    "def should_hit(dealer_total, player_total, player_low_aces, player_high_aces):\n",
    "    \"\"\"Return True if the player should hit (request another card) given the current game\n",
    "    state, or False if the player should stay.\n",
    "    When calculating a hand's total value, we count aces as \"high\" (with value 11) if doing so\n",
    "    doesn't bring the total above 21, otherwise we count them as low (with value 1). \n",
    "    For example, if the player's hand is {A, A, A, 7}, we will count it as 11 + 1 + 1 + 7,\n",
    "    and therefore set player_total=20, player_low_aces=2, player_high_aces=1.\n",
    "    \"\"\"\n",
    "    soft = player_high_aces > 0\n",
    "    if soft:\n",
    "        return player_total <= 17\n",
    "    else:\n",
    "        if player_total <= 11:\n",
    "            return True\n",
    "        if player_total >= 17:\n",
    "            return False\n",
    "        return dealer_total >= 7"
   ]
  },
  {
   "cell_type": "markdown",
   "id": "c922b9fe",
   "metadata": {
    "papermill": {
     "duration": 0.00907,
     "end_time": "2025-05-23T15:05:36.436579",
     "exception": false,
     "start_time": "2025-05-23T15:05:36.427509",
     "status": "completed"
    },
    "tags": []
   },
   "source": [
    "This very conservative agent *always* sticks with the hand of two cards that they're dealt.\n",
    "\n",
    "We'll be simulating games between your player agent and our own dealer agent by calling your function.\n",
    "\n",
    "Try running the function below to see an example of a simulated game:"
   ]
  },
  {
   "cell_type": "code",
   "execution_count": 22,
   "id": "36dd6670",
   "metadata": {
    "execution": {
     "iopub.execute_input": "2025-05-23T15:05:36.455489Z",
     "iopub.status.busy": "2025-05-23T15:05:36.455189Z",
     "iopub.status.idle": "2025-05-23T15:05:36.460920Z",
     "shell.execute_reply": "2025-05-23T15:05:36.459513Z"
    },
    "papermill": {
     "duration": 0.017343,
     "end_time": "2025-05-23T15:05:36.462525",
     "exception": false,
     "start_time": "2025-05-23T15:05:36.445182",
     "status": "completed"
    },
    "tags": []
   },
   "outputs": [
    {
     "name": "stdout",
     "output_type": "stream",
     "text": [
      "Player starts with 2 and Q (total = 12)\n",
      "Dealer starts with 7\n",
      "\n",
      "__Player's turn__\n",
      "Player hits and receives 6. (total = 18)\n",
      "Player stays\n",
      "\n",
      "__Dealer's turn__\n",
      "Dealer hits and receives 9. (total = 16)\n",
      "Dealer hits and receives 4. (total = 20)\n",
      "Dealer stands.\n",
      "Dealer wins. 20 >= 18\n"
     ]
    }
   ],
   "source": [
    "q7.simulate_one_game()"
   ]
  },
  {
   "cell_type": "markdown",
   "id": "0a45ab3a",
   "metadata": {
    "papermill": {
     "duration": 0.008524,
     "end_time": "2025-05-23T15:05:36.480620",
     "exception": false,
     "start_time": "2025-05-23T15:05:36.472096",
     "status": "completed"
    },
    "tags": []
   },
   "source": [
    "The real test of your agent's mettle is their average win rate over many games. Try calling the function below to simulate 50000 games of blackjack (it may take a couple seconds):"
   ]
  },
  {
   "cell_type": "code",
   "execution_count": 23,
   "id": "b26009e8",
   "metadata": {
    "execution": {
     "iopub.execute_input": "2025-05-23T15:05:36.507025Z",
     "iopub.status.busy": "2025-05-23T15:05:36.506721Z",
     "iopub.status.idle": "2025-05-23T15:05:37.632694Z",
     "shell.execute_reply": "2025-05-23T15:05:37.631632Z"
    },
    "papermill": {
     "duration": 1.140397,
     "end_time": "2025-05-23T15:05:37.634793",
     "exception": false,
     "start_time": "2025-05-23T15:05:36.494396",
     "status": "completed"
    },
    "tags": []
   },
   "outputs": [
    {
     "name": "stdout",
     "output_type": "stream",
     "text": [
      "Player won 21551 out of 50000 games (win rate = 43.1%)\n"
     ]
    }
   ],
   "source": [
    "q7.simulate(n_games=50000)"
   ]
  },
  {
   "cell_type": "markdown",
   "id": "140dd9f8",
   "metadata": {
    "papermill": {
     "duration": 0.009207,
     "end_time": "2025-05-23T15:05:37.652919",
     "exception": false,
     "start_time": "2025-05-23T15:05:37.643712",
     "status": "completed"
    },
    "tags": []
   },
   "source": [
    "Our dumb agent that completely ignores the game state still manages to win shockingly often!\n",
    "\n",
    "Try adding some more smarts to the `should_hit` function and see how it affects the results."
   ]
  },
  {
   "cell_type": "code",
   "execution_count": 24,
   "id": "2607f843",
   "metadata": {
    "execution": {
     "iopub.execute_input": "2025-05-23T15:05:37.675198Z",
     "iopub.status.busy": "2025-05-23T15:05:37.674790Z",
     "iopub.status.idle": "2025-05-23T15:05:38.654863Z",
     "shell.execute_reply": "2025-05-23T15:05:38.653902Z"
    },
    "papermill": {
     "duration": 0.993572,
     "end_time": "2025-05-23T15:05:38.656324",
     "exception": false,
     "start_time": "2025-05-23T15:05:37.662752",
     "status": "completed"
    },
    "tags": []
   },
   "outputs": [
    {
     "name": "stdout",
     "output_type": "stream",
     "text": [
      "Player won 21490 out of 50000 games (win rate = 43.0%)\n"
     ]
    }
   ],
   "source": [
    "def should_hit(dealer_total, player_total, player_low_aces, player_high_aces):\n",
    "    \"\"\"Return True if the player should hit (request another card) given the current game\n",
    "    state, or False if the player should stay.\n",
    "    When calculating a hand's total value, we count aces as \"high\" (with value 11) if doing so\n",
    "    doesn't bring the total above 21, otherwise we count them as low (with value 1). \n",
    "    For example, if the player's hand is {A, A, A, 7}, we will count it as 11 + 1 + 1 + 7,\n",
    "    and therefore set player_total=20, player_low_aces=2, player_high_aces=1.\n",
    "    \"\"\"\n",
    "    soft = player_high_aces > 0\n",
    "\n",
    "    if soft:\n",
    "        if player_total <= 17:\n",
    "            return True\n",
    "        if player_total == 18:\n",
    "            return dealer_total >= 9\n",
    "        return False\n",
    "    else:\n",
    "        if player_total <= 11:\n",
    "            return True\n",
    "        if player_total >= 17:\n",
    "            return False\n",
    "        if player_total == 12:\n",
    "            return not (4 <= dealer_total <= 6)\n",
    "        if 13 <= player_total <= 16:\n",
    "            return dealer_total >= 7\n",
    "\n",
    "q7.simulate(n_games=50000)"
   ]
  },
  {
   "cell_type": "markdown",
   "id": "0fb5090a",
   "metadata": {
    "papermill": {
     "duration": 0.008584,
     "end_time": "2025-05-23T15:05:38.674021",
     "exception": false,
     "start_time": "2025-05-23T15:05:38.665437",
     "status": "completed"
    },
    "tags": []
   },
   "source": [
    "# Keep Going\n",
    "\n",
    "Learn about **[lists and tuples](https://www.kaggle.com/colinmorris/lists)** to handle multiple items of data in a systematic way."
   ]
  },
  {
   "cell_type": "markdown",
   "id": "66286610",
   "metadata": {
    "papermill": {
     "duration": 0.008678,
     "end_time": "2025-05-23T15:05:38.692895",
     "exception": false,
     "start_time": "2025-05-23T15:05:38.684217",
     "status": "completed"
    },
    "tags": []
   },
   "source": [
    "---\n",
    "\n",
    "\n",
    "\n",
    "\n",
    "*Have questions or comments? Visit the [course discussion forum](https://www.kaggle.com/learn/python/discussion) to chat with other learners.*"
   ]
  }
 ],
 "metadata": {
  "kaggle": {
   "accelerator": "none",
   "dataSources": [],
   "isGpuEnabled": false,
   "isInternetEnabled": false,
   "language": "python",
   "sourceType": "notebook"
  },
  "kernelspec": {
   "display_name": "Python 3",
   "language": "python",
   "name": "python3"
  },
  "language_info": {
   "codemirror_mode": {
    "name": "ipython",
    "version": 3
   },
   "file_extension": ".py",
   "mimetype": "text/x-python",
   "name": "python",
   "nbconvert_exporter": "python",
   "pygments_lexer": "ipython3",
   "version": "3.11.11"
  },
  "learntools_metadata": {
   "lesson_index": 2,
   "type": "exercise"
  },
  "papermill": {
   "default_parameters": {},
   "duration": 10.617808,
   "end_time": "2025-05-23T15:05:39.221503",
   "environment_variables": {},
   "exception": null,
   "input_path": "__notebook__.ipynb",
   "output_path": "__notebook__.ipynb",
   "parameters": {},
   "start_time": "2025-05-23T15:05:28.603695",
   "version": "2.6.0"
  }
 },
 "nbformat": 4,
 "nbformat_minor": 5
}

{
 "cells": [
  {
   "cell_type": "markdown",
   "id": "42d2a277",
   "metadata": {
    "papermill": {
     "duration": 0.004321,
     "end_time": "2025-05-22T18:55:40.298486",
     "exception": false,
     "start_time": "2025-05-22T18:55:40.294165",
     "status": "completed"
    },
    "tags": []
   },
   "source": [
    "**This notebook is an exercise in the [Python](https://www.kaggle.com/learn/python) course.  You can reference the tutorial at [this link](https://www.kaggle.com/colinmorris/functions-and-getting-help).**\n",
    "\n",
    "---\n"
   ]
  },
  {
   "cell_type": "markdown",
   "id": "bb43bdbe",
   "metadata": {
    "papermill": {
     "duration": 0.003129,
     "end_time": "2025-05-22T18:55:40.305240",
     "exception": false,
     "start_time": "2025-05-22T18:55:40.302111",
     "status": "completed"
    },
    "tags": []
   },
   "source": [
    "Functions are powerful. Try writing some yourself.\n",
    "\n",
    "As before, don't forget to run the setup code below before jumping into question 1."
   ]
  },
  {
   "cell_type": "code",
   "execution_count": 1,
   "id": "4f5006b2",
   "metadata": {
    "_kg_hide-input": true,
    "_kg_hide-output": true,
    "execution": {
     "iopub.execute_input": "2025-05-22T18:55:40.313474Z",
     "iopub.status.busy": "2025-05-22T18:55:40.313112Z",
     "iopub.status.idle": "2025-05-22T18:55:42.596716Z",
     "shell.execute_reply": "2025-05-22T18:55:42.595615Z"
    },
    "papermill": {
     "duration": 2.289913,
     "end_time": "2025-05-22T18:55:42.598576",
     "exception": false,
     "start_time": "2025-05-22T18:55:40.308663",
     "status": "completed"
    },
    "tags": []
   },
   "outputs": [
    {
     "name": "stdout",
     "output_type": "stream",
     "text": [
      "Setup complete.\n"
     ]
    }
   ],
   "source": [
    "# SETUP. You don't need to worry for now about what this code does or how it works.\n",
    "from learntools.core import binder; binder.bind(globals())\n",
    "from learntools.python.ex2 import *\n",
    "print('Setup complete.')"
   ]
  },
  {
   "cell_type": "markdown",
   "id": "ebf25b17",
   "metadata": {
    "papermill": {
     "duration": 0.003367,
     "end_time": "2025-05-22T18:55:42.605652",
     "exception": false,
     "start_time": "2025-05-22T18:55:42.602285",
     "status": "completed"
    },
    "tags": []
   },
   "source": [
    "# 1.\n",
    "\n",
    "Complete the body of the following function according to its docstring.\n",
    "\n",
    "HINT: Python has a built-in function `round`."
   ]
  },
  {
   "cell_type": "code",
   "execution_count": 2,
   "id": "e51d85ac",
   "metadata": {
    "execution": {
     "iopub.execute_input": "2025-05-22T18:55:42.614224Z",
     "iopub.status.busy": "2025-05-22T18:55:42.613733Z",
     "iopub.status.idle": "2025-05-22T18:55:42.623435Z",
     "shell.execute_reply": "2025-05-22T18:55:42.622486Z"
    },
    "papermill": {
     "duration": 0.015778,
     "end_time": "2025-05-22T18:55:42.624899",
     "exception": false,
     "start_time": "2025-05-22T18:55:42.609121",
     "status": "completed"
    },
    "tags": []
   },
   "outputs": [
    {
     "data": {
      "application/javascript": [
       "parent.postMessage({\"jupyterEvent\": \"custom.exercise_interaction\", \"data\": {\"outcomeType\": 1, \"valueTowardsCompletion\": 0.16666666666666666, \"interactionType\": 1, \"questionType\": 2, \"questionId\": \"1_RoundFunctionProblem\", \"learnToolsVersion\": \"0.3.5\", \"failureMessage\": \"\", \"exceptionClass\": \"\", \"trace\": \"\"}}, \"*\")"
      ],
      "text/plain": [
       "<IPython.core.display.Javascript object>"
      ]
     },
     "metadata": {},
     "output_type": "display_data"
    },
    {
     "data": {
      "text/markdown": [
       "<span style=\"color:#33cc33\">Correct</span>"
      ],
      "text/plain": [
       "Correct"
      ]
     },
     "metadata": {},
     "output_type": "display_data"
    }
   ],
   "source": [
    "def round_to_two_places(num):\n",
    "    \"\"\"Return the given number rounded to two decimal places. \n",
    "    \n",
    "    >>> round_to_two_places(3.14159)\n",
    "    3.14\n",
    "    \"\"\"\n",
    "    return round(num, 2)\n",
    "\n",
    "# Check your answer\n",
    "q1.check()"
   ]
  },
  {
   "cell_type": "code",
   "execution_count": 3,
   "id": "7e77074a",
   "metadata": {
    "execution": {
     "iopub.execute_input": "2025-05-22T18:55:42.634597Z",
     "iopub.status.busy": "2025-05-22T18:55:42.634244Z",
     "iopub.status.idle": "2025-05-22T18:55:42.639318Z",
     "shell.execute_reply": "2025-05-22T18:55:42.638312Z"
    },
    "papermill": {
     "duration": 0.011685,
     "end_time": "2025-05-22T18:55:42.640852",
     "exception": false,
     "start_time": "2025-05-22T18:55:42.629167",
     "status": "completed"
    },
    "tags": []
   },
   "outputs": [],
   "source": [
    "# Uncomment the following for a hint\n",
    "#q1.hint()\n",
    "# Or uncomment the following to peek at the solution\n",
    "#q1.solution()"
   ]
  },
  {
   "cell_type": "markdown",
   "id": "9a082071",
   "metadata": {
    "papermill": {
     "duration": 0.00347,
     "end_time": "2025-05-22T18:55:42.648340",
     "exception": false,
     "start_time": "2025-05-22T18:55:42.644870",
     "status": "completed"
    },
    "tags": []
   },
   "source": [
    "# 2.\n",
    "The help for `round` says that `ndigits` (the second argument) may be negative.\n",
    "What do you think will happen when it is? Try some examples in the following cell."
   ]
  },
  {
   "cell_type": "code",
   "execution_count": 4,
   "id": "489bf7ef",
   "metadata": {
    "execution": {
     "iopub.execute_input": "2025-05-22T18:55:42.657075Z",
     "iopub.status.busy": "2025-05-22T18:55:42.656753Z",
     "iopub.status.idle": "2025-05-22T18:55:42.662604Z",
     "shell.execute_reply": "2025-05-22T18:55:42.661748Z"
    },
    "papermill": {
     "duration": 0.012012,
     "end_time": "2025-05-22T18:55:42.664081",
     "exception": false,
     "start_time": "2025-05-22T18:55:42.652069",
     "status": "completed"
    },
    "tags": []
   },
   "outputs": [
    {
     "data": {
      "text/plain": [
       "600000000"
      ]
     },
     "execution_count": 4,
     "metadata": {},
     "output_type": "execute_result"
    }
   ],
   "source": [
    "# Put your test code here\n",
    "round(578198374, -8)"
   ]
  },
  {
   "cell_type": "markdown",
   "id": "50324ed5",
   "metadata": {
    "papermill": {
     "duration": 0.003549,
     "end_time": "2025-05-22T18:55:42.671635",
     "exception": false,
     "start_time": "2025-05-22T18:55:42.668086",
     "status": "completed"
    },
    "tags": []
   },
   "source": [
    "Can you think of a case where this would be useful?  Once you're ready, run the code cell below to see the answer and to receive credit for completing the problem."
   ]
  },
  {
   "cell_type": "code",
   "execution_count": 5,
   "id": "442b4998",
   "metadata": {
    "execution": {
     "iopub.execute_input": "2025-05-22T18:55:42.680666Z",
     "iopub.status.busy": "2025-05-22T18:55:42.680380Z",
     "iopub.status.idle": "2025-05-22T18:55:42.688617Z",
     "shell.execute_reply": "2025-05-22T18:55:42.687558Z"
    },
    "papermill": {
     "duration": 0.014763,
     "end_time": "2025-05-22T18:55:42.690270",
     "exception": false,
     "start_time": "2025-05-22T18:55:42.675507",
     "status": "completed"
    },
    "tags": []
   },
   "outputs": [
    {
     "data": {
      "application/javascript": [
       "parent.postMessage({\"jupyterEvent\": \"custom.exercise_interaction\", \"data\": {\"interactionType\": 3, \"questionType\": 4, \"questionId\": \"2_RoundNdigitsProblem\", \"learnToolsVersion\": \"0.3.5\", \"valueTowardsCompletion\": 0.0, \"failureMessage\": \"\", \"exceptionClass\": \"\", \"trace\": \"\", \"outcomeType\": 4}}, \"*\")"
      ],
      "text/plain": [
       "<IPython.core.display.Javascript object>"
      ]
     },
     "metadata": {},
     "output_type": "display_data"
    },
    {
     "data": {
      "text/markdown": [
       "<span style=\"color:#33cc99\">Solution:</span> As you've seen, `ndigits=-1` rounds to the nearest 10, `ndigits=-2` rounds to the nearest 100 and so on. Where might this be useful? Suppose we're dealing with large numbers:\n",
       "\n",
       "> The area of Finland is 338,424 km²  \n",
       "> The area of Greenland is 2,166,086 km²\n",
       "\n",
       "We probably don't care whether it's really 338,424, or 338,425, or 338,177. All those digits of accuracy are just distracting. We can chop them off by calling `round()` with `ndigits=-3`:\n",
       "\n",
       "> The area of Finland is 338,000 km²  \n",
       "> The area of Greenland is 2,166,000 km²\n",
       "\n",
       "(We'll talk about how we would get the commas later when we talk about string formatting :))\n"
      ],
      "text/plain": [
       "Solution: As you've seen, `ndigits=-1` rounds to the nearest 10, `ndigits=-2` rounds to the nearest 100 and so on. Where might this be useful? Suppose we're dealing with large numbers:\n",
       "\n",
       "> The area of Finland is 338,424 km²  \n",
       "> The area of Greenland is 2,166,086 km²\n",
       "\n",
       "We probably don't care whether it's really 338,424, or 338,425, or 338,177. All those digits of accuracy are just distracting. We can chop them off by calling `round()` with `ndigits=-3`:\n",
       "\n",
       "> The area of Finland is 338,000 km²  \n",
       "> The area of Greenland is 2,166,000 km²\n",
       "\n",
       "(We'll talk about how we would get the commas later when we talk about string formatting :))"
      ]
     },
     "metadata": {},
     "output_type": "display_data"
    }
   ],
   "source": [
    "# Check your answer (Run this code cell to receive credit!)\n",
    "q2.solution()"
   ]
  },
  {
   "cell_type": "markdown",
   "id": "9eea03d5",
   "metadata": {
    "papermill": {
     "duration": 0.003893,
     "end_time": "2025-05-22T18:55:42.698321",
     "exception": false,
     "start_time": "2025-05-22T18:55:42.694428",
     "status": "completed"
    },
    "tags": []
   },
   "source": [
    "# 3.\n",
    "\n",
    "In the previous exercise, the candy-sharing friends Alice, Bob and Carol tried to split candies evenly. For the sake of their friendship, any candies left over would be smashed. For example, if they collectively bring home 91 candies, they'll take 30 each and smash 1.\n",
    "\n",
    "Below is a simple function that will calculate the number of candies to smash for *any* number of total candies.\n",
    "\n",
    "Modify it so that it optionally takes a second argument representing the number of friends the candies are being split between. If no second argument is provided, it should assume 3 friends, as before.\n",
    "\n",
    "Update the docstring to reflect this new behaviour."
   ]
  },
  {
   "cell_type": "code",
   "execution_count": 6,
   "id": "23f357e1",
   "metadata": {
    "execution": {
     "iopub.execute_input": "2025-05-22T18:55:42.707681Z",
     "iopub.status.busy": "2025-05-22T18:55:42.707362Z",
     "iopub.status.idle": "2025-05-22T18:55:42.715908Z",
     "shell.execute_reply": "2025-05-22T18:55:42.714864Z"
    },
    "papermill": {
     "duration": 0.015261,
     "end_time": "2025-05-22T18:55:42.717541",
     "exception": false,
     "start_time": "2025-05-22T18:55:42.702280",
     "status": "completed"
    },
    "tags": []
   },
   "outputs": [
    {
     "data": {
      "application/javascript": [
       "parent.postMessage({\"jupyterEvent\": \"custom.exercise_interaction\", \"data\": {\"outcomeType\": 1, \"valueTowardsCompletion\": 0.16666666666666666, \"interactionType\": 1, \"questionType\": 2, \"questionId\": \"3_CandySmashingFunctionProblem\", \"learnToolsVersion\": \"0.3.5\", \"failureMessage\": \"\", \"exceptionClass\": \"\", \"trace\": \"\"}}, \"*\")"
      ],
      "text/plain": [
       "<IPython.core.display.Javascript object>"
      ]
     },
     "metadata": {},
     "output_type": "display_data"
    },
    {
     "data": {
      "text/markdown": [
       "<span style=\"color:#33cc33\">Correct</span>"
      ],
      "text/plain": [
       "Correct"
      ]
     },
     "metadata": {},
     "output_type": "display_data"
    }
   ],
   "source": [
    "def to_smash(total_candies, n_friends=3):\n",
    "    \"\"\"Return the number of leftover candies that must be smashed after distributing\n",
    "    the given number of candies evenly between 3 friends.\n",
    "    \n",
    "    >>> to_smash(91)\n",
    "    1\n",
    "    \"\"\"\n",
    "    \n",
    "    return total_candies % n_friends\n",
    "\n",
    "# Check your answer\n",
    "q3.check()"
   ]
  },
  {
   "cell_type": "code",
   "execution_count": 7,
   "id": "9879a9fc",
   "metadata": {
    "execution": {
     "iopub.execute_input": "2025-05-22T18:55:42.727464Z",
     "iopub.status.busy": "2025-05-22T18:55:42.727182Z",
     "iopub.status.idle": "2025-05-22T18:55:42.731452Z",
     "shell.execute_reply": "2025-05-22T18:55:42.730554Z"
    },
    "papermill": {
     "duration": 0.0111,
     "end_time": "2025-05-22T18:55:42.732962",
     "exception": false,
     "start_time": "2025-05-22T18:55:42.721862",
     "status": "completed"
    },
    "tags": []
   },
   "outputs": [],
   "source": [
    "#q3.hint()"
   ]
  },
  {
   "cell_type": "code",
   "execution_count": 8,
   "id": "ccc815d6",
   "metadata": {
    "execution": {
     "iopub.execute_input": "2025-05-22T18:55:42.743388Z",
     "iopub.status.busy": "2025-05-22T18:55:42.742745Z",
     "iopub.status.idle": "2025-05-22T18:55:42.747126Z",
     "shell.execute_reply": "2025-05-22T18:55:42.746134Z"
    },
    "papermill": {
     "duration": 0.011215,
     "end_time": "2025-05-22T18:55:42.748610",
     "exception": false,
     "start_time": "2025-05-22T18:55:42.737395",
     "status": "completed"
    },
    "tags": []
   },
   "outputs": [],
   "source": [
    "#q3.solution()"
   ]
  },
  {
   "cell_type": "markdown",
   "id": "4482c569",
   "metadata": {
    "papermill": {
     "duration": 0.004069,
     "end_time": "2025-05-22T18:55:42.757390",
     "exception": false,
     "start_time": "2025-05-22T18:55:42.753321",
     "status": "completed"
    },
    "tags": []
   },
   "source": [
    "# 4. (Optional)\n",
    "\n",
    "It may not be fun, but reading and understanding error messages will be an important part of your Python career.\n",
    "\n",
    "Each code cell below contains some commented buggy code. For each cell...\n",
    "\n",
    "1. Read the code and predict what you think will happen when it's run.\n",
    "2. Then uncomment the code and run it to see what happens. (**Tip**: In the kernel editor, you can highlight several lines and press `ctrl`+`/` to toggle commenting.)\n",
    "3. Fix the code (so that it accomplishes its intended purpose without throwing an exception)\n",
    "\n",
    "<!-- TODO: should this be autochecked? Delta is probably pretty small. -->"
   ]
  },
  {
   "cell_type": "code",
   "execution_count": 9,
   "id": "f39af2bd",
   "metadata": {
    "execution": {
     "iopub.execute_input": "2025-05-22T18:55:42.767696Z",
     "iopub.status.busy": "2025-05-22T18:55:42.767377Z",
     "iopub.status.idle": "2025-05-22T18:55:42.773097Z",
     "shell.execute_reply": "2025-05-22T18:55:42.772199Z"
    },
    "papermill": {
     "duration": 0.01347,
     "end_time": "2025-05-22T18:55:42.774989",
     "exception": false,
     "start_time": "2025-05-22T18:55:42.761519",
     "status": "completed"
    },
    "tags": []
   },
   "outputs": [
    {
     "data": {
      "text/plain": [
       "10.0"
      ]
     },
     "execution_count": 9,
     "metadata": {},
     "output_type": "execute_result"
    }
   ],
   "source": [
    "round_to_two_places(round(9.9999, 2))"
   ]
  },
  {
   "cell_type": "code",
   "execution_count": 10,
   "id": "c41f7392",
   "metadata": {
    "execution": {
     "iopub.execute_input": "2025-05-22T18:55:42.785176Z",
     "iopub.status.busy": "2025-05-22T18:55:42.784776Z",
     "iopub.status.idle": "2025-05-22T18:55:42.792249Z",
     "shell.execute_reply": "2025-05-22T18:55:42.791097Z"
    },
    "papermill": {
     "duration": 0.014415,
     "end_time": "2025-05-22T18:55:42.793800",
     "exception": false,
     "start_time": "2025-05-22T18:55:42.779385",
     "status": "completed"
    },
    "tags": []
   },
   "outputs": [
    {
     "name": "stdout",
     "output_type": "stream",
     "text": [
      "5\n"
     ]
    }
   ],
   "source": [
    "x = -10\n",
    "y = 5\n",
    "# Which of the two variables above has the smallest absolute value?\n",
    "smallest_abs = min(abs(x), abs(y))\n",
    "print(smallest_abs)"
   ]
  },
  {
   "cell_type": "code",
   "execution_count": 11,
   "id": "8f921c24",
   "metadata": {
    "execution": {
     "iopub.execute_input": "2025-05-22T18:55:42.804407Z",
     "iopub.status.busy": "2025-05-22T18:55:42.804106Z",
     "iopub.status.idle": "2025-05-22T18:55:42.809339Z",
     "shell.execute_reply": "2025-05-22T18:55:42.808326Z"
    },
    "papermill": {
     "duration": 0.012374,
     "end_time": "2025-05-22T18:55:42.811064",
     "exception": false,
     "start_time": "2025-05-22T18:55:42.798690",
     "status": "completed"
    },
    "tags": []
   },
   "outputs": [
    {
     "name": "stdout",
     "output_type": "stream",
     "text": [
      "5\n"
     ]
    }
   ],
   "source": [
    "def f(x):\n",
    "    y = abs(x)\n",
    "    return y\n",
    "\n",
    "print(f(-5))"
   ]
  },
  {
   "cell_type": "markdown",
   "id": "ea793665",
   "metadata": {
    "papermill": {
     "duration": 0.00422,
     "end_time": "2025-05-22T18:55:42.820063",
     "exception": false,
     "start_time": "2025-05-22T18:55:42.815843",
     "status": "completed"
    },
    "tags": []
   },
   "source": [
    "# Keep Going\n",
    "\n",
    "Nice job with the code. Next up, you'll learn about *conditionals*, which you'll need to **[write interesting programs](https://www.kaggle.com/colinmorris/booleans-and-conditionals)**. "
   ]
  },
  {
   "cell_type": "markdown",
   "id": "b88e06bc",
   "metadata": {
    "papermill": {
     "duration": 0.005202,
     "end_time": "2025-05-22T18:55:42.830122",
     "exception": false,
     "start_time": "2025-05-22T18:55:42.824920",
     "status": "completed"
    },
    "tags": []
   },
   "source": [
    "---\n",
    "\n",
    "\n",
    "\n",
    "\n",
    "*Have questions or comments? Visit the [course discussion forum](https://www.kaggle.com/learn/python/discussion) to chat with other learners.*"
   ]
  }
 ],
 "metadata": {
  "kaggle": {
   "accelerator": "none",
   "dataSources": [],
   "isGpuEnabled": false,
   "isInternetEnabled": false,
   "language": "python",
   "sourceType": "notebook"
  },
  "kernelspec": {
   "display_name": "Python 3",
   "language": "python",
   "name": "python3"
  },
  "language_info": {
   "codemirror_mode": {
    "name": "ipython",
    "version": 3
   },
   "file_extension": ".py",
   "mimetype": "text/x-python",
   "name": "python",
   "nbconvert_exporter": "python",
   "pygments_lexer": "ipython3",
   "version": "3.11.11"
  },
  "learntools_metadata": {
   "lesson_index": 1,
   "type": "exercise"
  },
  "papermill": {
   "default_parameters": {},
   "duration": 8.559404,
   "end_time": "2025-05-22T18:55:43.457435",
   "environment_variables": {},
   "exception": null,
   "input_path": "__notebook__.ipynb",
   "output_path": "__notebook__.ipynb",
   "parameters": {},
   "start_time": "2025-05-22T18:55:34.898031",
   "version": "2.6.0"
  }
 },
 "nbformat": 4,
 "nbformat_minor": 5
}

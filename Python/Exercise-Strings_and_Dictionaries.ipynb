{
 "cells": [
  {
   "cell_type": "markdown",
   "id": "10011e63",
   "metadata": {
    "papermill": {
     "duration": 0.005052,
     "end_time": "2025-04-24T18:12:25.202387",
     "exception": false,
     "start_time": "2025-04-24T18:12:25.197335",
     "status": "completed"
    },
    "tags": []
   },
   "source": [
    "**This notebook is an exercise in the [Python](https://www.kaggle.com/learn/python) course.  You can reference the tutorial at [this link](https://www.kaggle.com/colinmorris/strings-and-dictionaries).**\n",
    "\n",
    "---\n"
   ]
  },
  {
   "cell_type": "markdown",
   "id": "ff6e8271",
   "metadata": {
    "papermill": {
     "duration": 0.003748,
     "end_time": "2025-04-24T18:12:25.210607",
     "exception": false,
     "start_time": "2025-04-24T18:12:25.206859",
     "status": "completed"
    },
    "tags": []
   },
   "source": [
    "You are almost done with the course. Nice job!\n",
    "\n",
    "We have a couple more interesting problems for you before you go. \n",
    "\n",
    "As always, run the setup code below before working on the questions."
   ]
  },
  {
   "cell_type": "code",
   "execution_count": 1,
   "id": "7cf34687",
   "metadata": {
    "execution": {
     "iopub.execute_input": "2025-04-24T18:12:25.220470Z",
     "iopub.status.busy": "2025-04-24T18:12:25.220011Z",
     "iopub.status.idle": "2025-04-24T18:12:27.202489Z",
     "shell.execute_reply": "2025-04-24T18:12:27.201176Z"
    },
    "papermill": {
     "duration": 1.989799,
     "end_time": "2025-04-24T18:12:27.204493",
     "exception": false,
     "start_time": "2025-04-24T18:12:25.214694",
     "status": "completed"
    },
    "tags": []
   },
   "outputs": [
    {
     "name": "stdout",
     "output_type": "stream",
     "text": [
      "Setup complete.\n"
     ]
    }
   ],
   "source": [
    "from learntools.core import binder; binder.bind(globals())\n",
    "from learntools.python.ex6 import *\n",
    "print('Setup complete.')"
   ]
  },
  {
   "cell_type": "markdown",
   "id": "bbbe1737",
   "metadata": {
    "papermill": {
     "duration": 0.004001,
     "end_time": "2025-04-24T18:12:27.212960",
     "exception": false,
     "start_time": "2025-04-24T18:12:27.208959",
     "status": "completed"
    },
    "tags": []
   },
   "source": [
    "Let's start with a string lightning round to warm up. What are the lengths of the strings below?\n",
    "\n",
    "For each of the five strings below, predict what `len()` would return when passed that string. Use the variable `length` to record your answer, then run the cell to check whether you were right.  \n",
    "\n",
    "# 0a."
   ]
  },
  {
   "cell_type": "code",
   "execution_count": 2,
   "id": "565854ff",
   "metadata": {
    "execution": {
     "iopub.execute_input": "2025-04-24T18:12:27.222610Z",
     "iopub.status.busy": "2025-04-24T18:12:27.222139Z",
     "iopub.status.idle": "2025-04-24T18:12:27.231164Z",
     "shell.execute_reply": "2025-04-24T18:12:27.230242Z"
    },
    "papermill": {
     "duration": 0.015681,
     "end_time": "2025-04-24T18:12:27.232669",
     "exception": false,
     "start_time": "2025-04-24T18:12:27.216988",
     "status": "completed"
    },
    "tags": []
   },
   "outputs": [
    {
     "data": {
      "application/javascript": [
       "parent.postMessage({\"jupyterEvent\": \"custom.exercise_interaction\", \"data\": {\"outcomeType\": 1, \"valueTowardsCompletion\": 0.3333333333333333, \"interactionType\": 1, \"questionType\": 1, \"questionId\": \"0.1_ZA\", \"learnToolsVersion\": \"0.3.5\", \"failureMessage\": \"\", \"exceptionClass\": \"\", \"trace\": \"\"}}, \"*\")"
      ],
      "text/plain": [
       "<IPython.core.display.Javascript object>"
      ]
     },
     "metadata": {},
     "output_type": "display_data"
    },
    {
     "data": {
      "text/markdown": [
       "<span style=\"color:#33cc33\">Correct:</span> \n",
       "\n",
       "The empty string has length zero. Note that the empty string is also the only string that Python considers as False when converting to boolean."
      ],
      "text/plain": [
       "Correct: \n",
       "\n",
       "The empty string has length zero. Note that the empty string is also the only string that Python considers as False when converting to boolean."
      ]
     },
     "metadata": {},
     "output_type": "display_data"
    }
   ],
   "source": [
    "a = \"\"\n",
    "length = 0\n",
    "q0.a.check()"
   ]
  },
  {
   "cell_type": "markdown",
   "id": "c19b2bac",
   "metadata": {
    "papermill": {
     "duration": 0.003871,
     "end_time": "2025-04-24T18:12:27.241014",
     "exception": false,
     "start_time": "2025-04-24T18:12:27.237143",
     "status": "completed"
    },
    "tags": []
   },
   "source": [
    "# 0b."
   ]
  },
  {
   "cell_type": "code",
   "execution_count": 3,
   "id": "3cc0f92d",
   "metadata": {
    "execution": {
     "iopub.execute_input": "2025-04-24T18:12:27.250983Z",
     "iopub.status.busy": "2025-04-24T18:12:27.250273Z",
     "iopub.status.idle": "2025-04-24T18:12:27.258057Z",
     "shell.execute_reply": "2025-04-24T18:12:27.257086Z"
    },
    "papermill": {
     "duration": 0.01446,
     "end_time": "2025-04-24T18:12:27.259494",
     "exception": false,
     "start_time": "2025-04-24T18:12:27.245034",
     "status": "completed"
    },
    "tags": []
   },
   "outputs": [
    {
     "data": {
      "application/javascript": [
       "parent.postMessage({\"jupyterEvent\": \"custom.exercise_interaction\", \"data\": {\"outcomeType\": 1, \"valueTowardsCompletion\": 0.3333333333333333, \"interactionType\": 1, \"questionType\": 1, \"questionId\": \"0.2_ZB\", \"learnToolsVersion\": \"0.3.5\", \"failureMessage\": \"\", \"exceptionClass\": \"\", \"trace\": \"\"}}, \"*\")"
      ],
      "text/plain": [
       "<IPython.core.display.Javascript object>"
      ]
     },
     "metadata": {},
     "output_type": "display_data"
    },
    {
     "data": {
      "text/markdown": [
       "<span style=\"color:#33cc33\">Correct:</span> \n",
       "\n",
       "Keep in mind Python includes spaces (and punctuation) when counting string length."
      ],
      "text/plain": [
       "Correct: \n",
       "\n",
       "Keep in mind Python includes spaces (and punctuation) when counting string length."
      ]
     },
     "metadata": {},
     "output_type": "display_data"
    }
   ],
   "source": [
    "b = \"it's ok\"\n",
    "length = 7\n",
    "q0.b.check()"
   ]
  },
  {
   "cell_type": "markdown",
   "id": "7ee89139",
   "metadata": {
    "papermill": {
     "duration": 0.004071,
     "end_time": "2025-04-24T18:12:27.268001",
     "exception": false,
     "start_time": "2025-04-24T18:12:27.263930",
     "status": "completed"
    },
    "tags": []
   },
   "source": [
    "# 0c."
   ]
  },
  {
   "cell_type": "code",
   "execution_count": 4,
   "id": "b328e8db",
   "metadata": {
    "execution": {
     "iopub.execute_input": "2025-04-24T18:12:27.278615Z",
     "iopub.status.busy": "2025-04-24T18:12:27.277497Z",
     "iopub.status.idle": "2025-04-24T18:12:27.285540Z",
     "shell.execute_reply": "2025-04-24T18:12:27.284521Z"
    },
    "papermill": {
     "duration": 0.015125,
     "end_time": "2025-04-24T18:12:27.287374",
     "exception": false,
     "start_time": "2025-04-24T18:12:27.272249",
     "status": "completed"
    },
    "tags": []
   },
   "outputs": [
    {
     "data": {
      "application/javascript": [
       "parent.postMessage({\"jupyterEvent\": \"custom.exercise_interaction\", \"data\": {\"outcomeType\": 1, \"valueTowardsCompletion\": 0.3333333333333333, \"interactionType\": 1, \"questionType\": 1, \"questionId\": \"0.3_ZC\", \"learnToolsVersion\": \"0.3.5\", \"failureMessage\": \"\", \"exceptionClass\": \"\", \"trace\": \"\"}}, \"*\")"
      ],
      "text/plain": [
       "<IPython.core.display.Javascript object>"
      ]
     },
     "metadata": {},
     "output_type": "display_data"
    },
    {
     "data": {
      "text/markdown": [
       "<span style=\"color:#33cc33\">Correct:</span> \n",
       "\n",
       "Even though we use different syntax to create it, the string `c` is identical to `b`. In particular, note that the backslash is not part of the string, so it doesn't contribute to its length."
      ],
      "text/plain": [
       "Correct: \n",
       "\n",
       "Even though we use different syntax to create it, the string `c` is identical to `b`. In particular, note that the backslash is not part of the string, so it doesn't contribute to its length."
      ]
     },
     "metadata": {},
     "output_type": "display_data"
    }
   ],
   "source": [
    "c = 'it\\'s ok'\n",
    "length = 7\n",
    "q0.c.check()"
   ]
  },
  {
   "cell_type": "markdown",
   "id": "50acf289",
   "metadata": {
    "papermill": {
     "duration": 0.004704,
     "end_time": "2025-04-24T18:12:27.296891",
     "exception": false,
     "start_time": "2025-04-24T18:12:27.292187",
     "status": "completed"
    },
    "tags": []
   },
   "source": [
    "# 0d."
   ]
  },
  {
   "cell_type": "code",
   "execution_count": 5,
   "id": "21e95755",
   "metadata": {
    "execution": {
     "iopub.execute_input": "2025-04-24T18:12:27.307023Z",
     "iopub.status.busy": "2025-04-24T18:12:27.306637Z",
     "iopub.status.idle": "2025-04-24T18:12:27.314979Z",
     "shell.execute_reply": "2025-04-24T18:12:27.314091Z"
    },
    "papermill": {
     "duration": 0.015115,
     "end_time": "2025-04-24T18:12:27.316342",
     "exception": false,
     "start_time": "2025-04-24T18:12:27.301227",
     "status": "completed"
    },
    "tags": []
   },
   "outputs": [
    {
     "data": {
      "application/javascript": [
       "parent.postMessage({\"jupyterEvent\": \"custom.exercise_interaction\", \"data\": {\"outcomeType\": 1, \"valueTowardsCompletion\": 0.3333333333333333, \"interactionType\": 1, \"questionType\": 1, \"questionId\": \"0.4_ZD\", \"learnToolsVersion\": \"0.3.5\", \"failureMessage\": \"\", \"exceptionClass\": \"\", \"trace\": \"\"}}, \"*\")"
      ],
      "text/plain": [
       "<IPython.core.display.Javascript object>"
      ]
     },
     "metadata": {},
     "output_type": "display_data"
    },
    {
     "data": {
      "text/markdown": [
       "<span style=\"color:#33cc33\">Correct:</span> \n",
       "\n",
       "The fact that this string was created using triple-quote syntax doesn't make any difference in terms of its content or length. This string is exactly the same as `'hey'`."
      ],
      "text/plain": [
       "Correct: \n",
       "\n",
       "The fact that this string was created using triple-quote syntax doesn't make any difference in terms of its content or length. This string is exactly the same as `'hey'`."
      ]
     },
     "metadata": {},
     "output_type": "display_data"
    }
   ],
   "source": [
    "d = \"\"\"hey\"\"\"\n",
    "length = 3\n",
    "q0.d.check()"
   ]
  },
  {
   "cell_type": "markdown",
   "id": "c35e1a6c",
   "metadata": {
    "papermill": {
     "duration": 0.004319,
     "end_time": "2025-04-24T18:12:27.325224",
     "exception": false,
     "start_time": "2025-04-24T18:12:27.320905",
     "status": "completed"
    },
    "tags": []
   },
   "source": [
    "# 0e."
   ]
  },
  {
   "cell_type": "code",
   "execution_count": 6,
   "id": "ca82c76e",
   "metadata": {
    "execution": {
     "iopub.execute_input": "2025-04-24T18:12:27.335662Z",
     "iopub.status.busy": "2025-04-24T18:12:27.335321Z",
     "iopub.status.idle": "2025-04-24T18:12:27.343300Z",
     "shell.execute_reply": "2025-04-24T18:12:27.342464Z"
    },
    "papermill": {
     "duration": 0.014933,
     "end_time": "2025-04-24T18:12:27.344698",
     "exception": false,
     "start_time": "2025-04-24T18:12:27.329765",
     "status": "completed"
    },
    "tags": []
   },
   "outputs": [
    {
     "data": {
      "application/javascript": [
       "parent.postMessage({\"jupyterEvent\": \"custom.exercise_interaction\", \"data\": {\"outcomeType\": 1, \"valueTowardsCompletion\": 0.3333333333333333, \"interactionType\": 1, \"questionType\": 1, \"questionId\": \"0.5_ZE\", \"learnToolsVersion\": \"0.3.5\", \"failureMessage\": \"\", \"exceptionClass\": \"\", \"trace\": \"\"}}, \"*\")"
      ],
      "text/plain": [
       "<IPython.core.display.Javascript object>"
      ]
     },
     "metadata": {},
     "output_type": "display_data"
    },
    {
     "data": {
      "text/markdown": [
       "<span style=\"color:#33cc33\">Correct:</span> \n",
       "\n",
       "The newline character is just a single character! (Even though we represent it to Python using a combination of two characters.)"
      ],
      "text/plain": [
       "Correct: \n",
       "\n",
       "The newline character is just a single character! (Even though we represent it to Python using a combination of two characters.)"
      ]
     },
     "metadata": {},
     "output_type": "display_data"
    }
   ],
   "source": [
    "e = '\\n'\n",
    "length = 1\n",
    "q0.e.check()"
   ]
  },
  {
   "cell_type": "markdown",
   "id": "63dc9e36",
   "metadata": {
    "papermill": {
     "duration": 0.005177,
     "end_time": "2025-04-24T18:12:27.354890",
     "exception": false,
     "start_time": "2025-04-24T18:12:27.349713",
     "status": "completed"
    },
    "tags": []
   },
   "source": [
    "# 1.\n",
    "\n",
    "There is a saying that \"Data scientists spend 80% of their time cleaning data, and 20% of their time complaining about cleaning data.\" Let's see if you can write a function to help clean US zip code data. Given a string, it should return whether or not that string represents a valid zip code. For our purposes, a valid zip code is any string consisting of exactly 5 digits.\n",
    "\n",
    "HINT: `str` has a method that will be useful here. Use `help(str)` to review a list of string methods."
   ]
  },
  {
   "cell_type": "code",
   "execution_count": 7,
   "id": "2da164e3",
   "metadata": {
    "execution": {
     "iopub.execute_input": "2025-04-24T18:12:27.366465Z",
     "iopub.status.busy": "2025-04-24T18:12:27.366178Z",
     "iopub.status.idle": "2025-04-24T18:12:27.374214Z",
     "shell.execute_reply": "2025-04-24T18:12:27.373419Z"
    },
    "papermill": {
     "duration": 0.0164,
     "end_time": "2025-04-24T18:12:27.376251",
     "exception": false,
     "start_time": "2025-04-24T18:12:27.359851",
     "status": "completed"
    },
    "tags": []
   },
   "outputs": [
    {
     "data": {
      "application/javascript": [
       "parent.postMessage({\"jupyterEvent\": \"custom.exercise_interaction\", \"data\": {\"outcomeType\": 1, \"valueTowardsCompletion\": 0.3333333333333333, \"interactionType\": 1, \"questionType\": 2, \"questionId\": \"1_ZipValidator\", \"learnToolsVersion\": \"0.3.5\", \"failureMessage\": \"\", \"exceptionClass\": \"\", \"trace\": \"\"}}, \"*\")"
      ],
      "text/plain": [
       "<IPython.core.display.Javascript object>"
      ]
     },
     "metadata": {},
     "output_type": "display_data"
    },
    {
     "data": {
      "text/markdown": [
       "<span style=\"color:#33cc33\">Correct</span>"
      ],
      "text/plain": [
       "Correct"
      ]
     },
     "metadata": {},
     "output_type": "display_data"
    }
   ],
   "source": [
    "def is_valid_zip(zip_code):\n",
    "    \"\"\"Returns whether the input string is a valid (5 digit) zip code\n",
    "    \"\"\"\n",
    "    return zip_code.isdigit() and len(zip_code) == 5\n",
    "\n",
    "# Check your answer\n",
    "q1.check()"
   ]
  },
  {
   "cell_type": "code",
   "execution_count": 8,
   "id": "fbe251fd",
   "metadata": {
    "execution": {
     "iopub.execute_input": "2025-04-24T18:12:27.392061Z",
     "iopub.status.busy": "2025-04-24T18:12:27.391184Z",
     "iopub.status.idle": "2025-04-24T18:12:27.396327Z",
     "shell.execute_reply": "2025-04-24T18:12:27.395119Z"
    },
    "papermill": {
     "duration": 0.014811,
     "end_time": "2025-04-24T18:12:27.397879",
     "exception": false,
     "start_time": "2025-04-24T18:12:27.383068",
     "status": "completed"
    },
    "tags": []
   },
   "outputs": [],
   "source": [
    "#q1.hint()\n",
    "#q1.solution()"
   ]
  },
  {
   "cell_type": "markdown",
   "id": "166a5226",
   "metadata": {
    "papermill": {
     "duration": 0.005297,
     "end_time": "2025-04-24T18:12:27.408928",
     "exception": false,
     "start_time": "2025-04-24T18:12:27.403631",
     "status": "completed"
    },
    "tags": []
   },
   "source": [
    "# 2.\n",
    "\n",
    "A researcher has gathered thousands of news articles. But she wants to focus her attention on articles including a specific word. Complete the function below to help her filter her list of articles.\n",
    "\n",
    "Your function should meet the following criteria:\n",
    "\n",
    "- Do not include documents where the keyword string shows up only as a part of a larger word. For example, if she were looking for the keyword “closed”, you would not include the string “enclosed.” \n",
    "- She does not want you to distinguish upper case from lower case letters. So the phrase “Closed the case.” would be included when the keyword is “closed”\n",
    "- Do not let periods or commas affect what is matched. “It is closed.” would be included when the keyword is “closed”. But you can assume there are no other types of punctuation."
   ]
  },
  {
   "cell_type": "code",
   "execution_count": 9,
   "id": "00b69fe8",
   "metadata": {
    "execution": {
     "iopub.execute_input": "2025-04-24T18:12:27.423199Z",
     "iopub.status.busy": "2025-04-24T18:12:27.422763Z",
     "iopub.status.idle": "2025-04-24T18:12:27.432588Z",
     "shell.execute_reply": "2025-04-24T18:12:27.431703Z"
    },
    "papermill": {
     "duration": 0.020045,
     "end_time": "2025-04-24T18:12:27.434266",
     "exception": false,
     "start_time": "2025-04-24T18:12:27.414221",
     "status": "completed"
    },
    "tags": []
   },
   "outputs": [
    {
     "data": {
      "application/javascript": [
       "parent.postMessage({\"jupyterEvent\": \"custom.exercise_interaction\", \"data\": {\"outcomeType\": 1, \"valueTowardsCompletion\": 0.3333333333333333, \"interactionType\": 1, \"questionType\": 2, \"questionId\": \"2_WordSearch\", \"learnToolsVersion\": \"0.3.5\", \"failureMessage\": \"\", \"exceptionClass\": \"\", \"trace\": \"\"}}, \"*\")"
      ],
      "text/plain": [
       "<IPython.core.display.Javascript object>"
      ]
     },
     "metadata": {},
     "output_type": "display_data"
    },
    {
     "data": {
      "text/markdown": [
       "<span style=\"color:#33cc33\">Correct</span>"
      ],
      "text/plain": [
       "Correct"
      ]
     },
     "metadata": {},
     "output_type": "display_data"
    }
   ],
   "source": [
    "def word_search(doc_list, keyword):\n",
    "    \"\"\"\n",
    "    Takes a list of documents (each document is a string) and a keyword. \n",
    "    Returns list of the index values into the original list for all documents \n",
    "    containing the keyword.\n",
    "\n",
    "    Example:\n",
    "    doc_list = [\"The Learn Python Challenge Casino.\", \"They bought a car\", \"Casinoville\"]\n",
    "    >>> word_search(doc_list, 'casino')\n",
    "    >>> [0]\n",
    "    \"\"\"\n",
    "    keyword = keyword.lower()\n",
    "    result = []\n",
    "\n",
    "    for i, doc in enumerate(doc_list):\n",
    "     # Lowercase the document\n",
    "        doc = doc.lower()\n",
    "        # Replace punctuation with space (only basic ones we've probably learned)\n",
    "        for p in [\".\", \",\", \"?\", \"!\", \";\", \":\", \"'\", '\"']:\n",
    "            doc = doc.replace(p, \" \")\n",
    "        # Split into words\n",
    "        words = doc.split()\n",
    "        # Check for keyword match\n",
    "        if keyword in words:\n",
    "            result.append(i)\n",
    "    return result\n",
    "\n",
    "# Check your answer\n",
    "q2.check()"
   ]
  },
  {
   "cell_type": "code",
   "execution_count": 10,
   "id": "f089578b",
   "metadata": {
    "execution": {
     "iopub.execute_input": "2025-04-24T18:12:27.446634Z",
     "iopub.status.busy": "2025-04-24T18:12:27.446343Z",
     "iopub.status.idle": "2025-04-24T18:12:27.453565Z",
     "shell.execute_reply": "2025-04-24T18:12:27.452816Z"
    },
    "papermill": {
     "duration": 0.014828,
     "end_time": "2025-04-24T18:12:27.454997",
     "exception": false,
     "start_time": "2025-04-24T18:12:27.440169",
     "status": "completed"
    },
    "tags": []
   },
   "outputs": [
    {
     "data": {
      "application/javascript": [
       "parent.postMessage({\"jupyterEvent\": \"custom.exercise_interaction\", \"data\": {\"interactionType\": 3, \"questionType\": 2, \"questionId\": \"2_WordSearch\", \"learnToolsVersion\": \"0.3.5\", \"valueTowardsCompletion\": 0.0, \"failureMessage\": \"\", \"exceptionClass\": \"\", \"trace\": \"\", \"outcomeType\": 4}}, \"*\")"
      ],
      "text/plain": [
       "<IPython.core.display.Javascript object>"
      ]
     },
     "metadata": {},
     "output_type": "display_data"
    },
    {
     "data": {
      "text/markdown": [
       "<span style=\"color:#33cc99\">Solution:</span> \n",
       "```python\n",
       "def word_search(doc_list, keyword):\n",
       "    # list to hold the indices of matching documents\n",
       "    indices = [] \n",
       "    # Iterate through the indices (i) and elements (doc) of documents\n",
       "    for i, doc in enumerate(doc_list):\n",
       "        # Split the string doc into a list of words (according to whitespace)\n",
       "        tokens = doc.split()\n",
       "        # Make a transformed list where we 'normalize' each word to facilitate matching.\n",
       "        # Periods and commas are removed from the end of each word, and it's set to all lowercase.\n",
       "        normalized = [token.rstrip('.,').lower() for token in tokens]\n",
       "        # Is there a match? If so, update the list of matching indices.\n",
       "        if keyword.lower() in normalized:\n",
       "            indices.append(i)\n",
       "    return indices\n",
       "```"
      ],
      "text/plain": [
       "Solution: \n",
       "```python\n",
       "def word_search(doc_list, keyword):\n",
       "    # list to hold the indices of matching documents\n",
       "    indices = [] \n",
       "    # Iterate through the indices (i) and elements (doc) of documents\n",
       "    for i, doc in enumerate(doc_list):\n",
       "        # Split the string doc into a list of words (according to whitespace)\n",
       "        tokens = doc.split()\n",
       "        # Make a transformed list where we 'normalize' each word to facilitate matching.\n",
       "        # Periods and commas are removed from the end of each word, and it's set to all lowercase.\n",
       "        normalized = [token.rstrip('.,').lower() for token in tokens]\n",
       "        # Is there a match? If so, update the list of matching indices.\n",
       "        if keyword.lower() in normalized:\n",
       "            indices.append(i)\n",
       "    return indices\n",
       "```"
      ]
     },
     "metadata": {},
     "output_type": "display_data"
    }
   ],
   "source": [
    "#q2.hint()\n",
    "q2.solution()"
   ]
  },
  {
   "cell_type": "markdown",
   "id": "6d55c9ec",
   "metadata": {
    "papermill": {
     "duration": 0.005155,
     "end_time": "2025-04-24T18:12:27.465885",
     "exception": false,
     "start_time": "2025-04-24T18:12:27.460730",
     "status": "completed"
    },
    "tags": []
   },
   "source": [
    "# 3.\n",
    "\n",
    "Now the researcher wants to supply multiple keywords to search for. Complete the function below to help her.\n",
    "\n",
    "(You're encouraged to use the `word_search` function you just wrote when implementing this function. Reusing code in this way makes your programs more robust and readable - and it saves typing!)"
   ]
  },
  {
   "cell_type": "code",
   "execution_count": 11,
   "id": "ff646ce3",
   "metadata": {
    "execution": {
     "iopub.execute_input": "2025-04-24T18:12:27.477803Z",
     "iopub.status.busy": "2025-04-24T18:12:27.477494Z",
     "iopub.status.idle": "2025-04-24T18:12:27.485722Z",
     "shell.execute_reply": "2025-04-24T18:12:27.484831Z"
    },
    "papermill": {
     "duration": 0.016366,
     "end_time": "2025-04-24T18:12:27.487474",
     "exception": false,
     "start_time": "2025-04-24T18:12:27.471108",
     "status": "completed"
    },
    "tags": []
   },
   "outputs": [
    {
     "data": {
      "application/javascript": [
       "parent.postMessage({\"jupyterEvent\": \"custom.exercise_interaction\", \"data\": {\"outcomeType\": 1, \"valueTowardsCompletion\": 0.3333333333333333, \"interactionType\": 1, \"questionType\": 2, \"questionId\": \"3_MultiWordSearch\", \"learnToolsVersion\": \"0.3.5\", \"failureMessage\": \"\", \"exceptionClass\": \"\", \"trace\": \"\"}}, \"*\")"
      ],
      "text/plain": [
       "<IPython.core.display.Javascript object>"
      ]
     },
     "metadata": {},
     "output_type": "display_data"
    },
    {
     "data": {
      "text/markdown": [
       "<span style=\"color:#33cc33\">Correct</span>"
      ],
      "text/plain": [
       "Correct"
      ]
     },
     "metadata": {},
     "output_type": "display_data"
    }
   ],
   "source": [
    "def multi_word_search(doc_list, keywords):\n",
    "    \"\"\"\n",
    "    Takes list of documents (each document is a string) and a list of keywords.  \n",
    "    Returns a dictionary where each key is a keyword, and the value is a list of indices\n",
    "    (from doc_list) of the documents containing that keyword\n",
    "\n",
    "    >>> doc_list = [\"The Learn Python Challenge Casino.\", \"They bought a car and a casino\", \"Casinoville\"]\n",
    "    >>> keywords = ['casino', 'they']\n",
    "    >>> multi_word_search(doc_list, keywords)\n",
    "    {'casino': [0, 1], 'they': [1]}\n",
    "    \"\"\"\n",
    "    result = {}\n",
    "    for keyword in keywords:\n",
    "        result[keyword] = word_search(doc_list, keyword)\n",
    "    return result\n",
    "\n",
    "# Check your answer\n",
    "q3.check()"
   ]
  },
  {
   "cell_type": "code",
   "execution_count": 12,
   "id": "34304e6b",
   "metadata": {
    "execution": {
     "iopub.execute_input": "2025-04-24T18:12:27.506692Z",
     "iopub.status.busy": "2025-04-24T18:12:27.505845Z",
     "iopub.status.idle": "2025-04-24T18:12:27.511183Z",
     "shell.execute_reply": "2025-04-24T18:12:27.510146Z"
    },
    "papermill": {
     "duration": 0.016681,
     "end_time": "2025-04-24T18:12:27.512747",
     "exception": false,
     "start_time": "2025-04-24T18:12:27.496066",
     "status": "completed"
    },
    "tags": []
   },
   "outputs": [],
   "source": [
    "#q3.solution()"
   ]
  },
  {
   "cell_type": "markdown",
   "id": "574158e8",
   "metadata": {
    "papermill": {
     "duration": 0.005708,
     "end_time": "2025-04-24T18:12:27.524933",
     "exception": false,
     "start_time": "2025-04-24T18:12:27.519225",
     "status": "completed"
    },
    "tags": []
   },
   "source": [
    "# Keep Going\n",
    "\n",
    "You've learned a lot. But even the best programmers rely heavily on \"libraries\" of code from other programmers. You'll learn about that in **[the last lesson](https://www.kaggle.com/colinmorris/working-with-external-libraries)**.\n"
   ]
  },
  {
   "cell_type": "markdown",
   "id": "9c0a4744",
   "metadata": {
    "papermill": {
     "duration": 0.005971,
     "end_time": "2025-04-24T18:12:27.538551",
     "exception": false,
     "start_time": "2025-04-24T18:12:27.532580",
     "status": "completed"
    },
    "tags": []
   },
   "source": [
    "---\n",
    "\n",
    "\n",
    "\n",
    "\n",
    "*Have questions or comments? Visit the [course discussion forum](https://www.kaggle.com/learn/python/discussion) to chat with other learners.*"
   ]
  }
 ],
 "metadata": {
  "kaggle": {
   "accelerator": "none",
   "dataSources": [],
   "isGpuEnabled": false,
   "isInternetEnabled": false,
   "language": "python",
   "sourceType": "notebook"
  },
  "kernelspec": {
   "display_name": "Python 3",
   "language": "python",
   "name": "python3"
  },
  "language_info": {
   "codemirror_mode": {
    "name": "ipython",
    "version": 3
   },
   "file_extension": ".py",
   "mimetype": "text/x-python",
   "name": "python",
   "nbconvert_exporter": "python",
   "pygments_lexer": "ipython3",
   "version": "3.11.11"
  },
  "learntools_metadata": {
   "lesson_index": 5,
   "type": "exercise"
  },
  "papermill": {
   "default_parameters": {},
   "duration": 8.18907,
   "end_time": "2025-04-24T18:12:28.272397",
   "environment_variables": {},
   "exception": null,
   "input_path": "__notebook__.ipynb",
   "output_path": "__notebook__.ipynb",
   "parameters": {},
   "start_time": "2025-04-24T18:12:20.083327",
   "version": "2.6.0"
  }
 },
 "nbformat": 4,
 "nbformat_minor": 5
}

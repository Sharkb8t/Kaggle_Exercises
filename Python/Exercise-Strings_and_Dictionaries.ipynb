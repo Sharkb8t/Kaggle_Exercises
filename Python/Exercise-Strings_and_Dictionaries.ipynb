{
 "cells": [
  {
   "cell_type": "markdown",
   "id": "132b23a3",
   "metadata": {
    "papermill": {
     "duration": 0.003845,
     "end_time": "2025-05-22T18:48:29.457107",
     "exception": false,
     "start_time": "2025-05-22T18:48:29.453262",
     "status": "completed"
    },
    "tags": []
   },
   "source": [
    "**This notebook is an exercise in the [Python](https://www.kaggle.com/learn/python) course.  You can reference the tutorial at [this link](https://www.kaggle.com/colinmorris/strings-and-dictionaries).**\n",
    "\n",
    "---\n"
   ]
  },
  {
   "cell_type": "markdown",
   "id": "1ffd596a",
   "metadata": {
    "papermill": {
     "duration": 0.002672,
     "end_time": "2025-05-22T18:48:29.463489",
     "exception": false,
     "start_time": "2025-05-22T18:48:29.460817",
     "status": "completed"
    },
    "tags": []
   },
   "source": [
    "You are almost done with the course. Nice job!\n",
    "\n",
    "We have a couple more interesting problems for you before you go. \n",
    "\n",
    "As always, run the setup code below before working on the questions."
   ]
  },
  {
   "cell_type": "code",
   "execution_count": 1,
   "id": "593b0712",
   "metadata": {
    "execution": {
     "iopub.execute_input": "2025-05-22T18:48:29.470330Z",
     "iopub.status.busy": "2025-05-22T18:48:29.470006Z",
     "iopub.status.idle": "2025-05-22T18:48:31.492309Z",
     "shell.execute_reply": "2025-05-22T18:48:31.491276Z"
    },
    "papermill": {
     "duration": 2.027713,
     "end_time": "2025-05-22T18:48:31.494067",
     "exception": false,
     "start_time": "2025-05-22T18:48:29.466354",
     "status": "completed"
    },
    "tags": []
   },
   "outputs": [
    {
     "name": "stdout",
     "output_type": "stream",
     "text": [
      "Setup complete.\n"
     ]
    }
   ],
   "source": [
    "from learntools.core import binder; binder.bind(globals())\n",
    "from learntools.python.ex6 import *\n",
    "print('Setup complete.')"
   ]
  },
  {
   "cell_type": "markdown",
   "id": "f9d9a26e",
   "metadata": {
    "papermill": {
     "duration": 0.002842,
     "end_time": "2025-05-22T18:48:31.500327",
     "exception": false,
     "start_time": "2025-05-22T18:48:31.497485",
     "status": "completed"
    },
    "tags": []
   },
   "source": [
    "Let's start with a string lightning round to warm up. What are the lengths of the strings below?\n",
    "\n",
    "For each of the five strings below, predict what `len()` would return when passed that string. Use the variable `length` to record your answer, then run the cell to check whether you were right.  \n",
    "\n",
    "# 0a."
   ]
  },
  {
   "cell_type": "code",
   "execution_count": 2,
   "id": "7ef88b48",
   "metadata": {
    "execution": {
     "iopub.execute_input": "2025-05-22T18:48:31.507174Z",
     "iopub.status.busy": "2025-05-22T18:48:31.506839Z",
     "iopub.status.idle": "2025-05-22T18:48:31.515251Z",
     "shell.execute_reply": "2025-05-22T18:48:31.514154Z"
    },
    "papermill": {
     "duration": 0.013786,
     "end_time": "2025-05-22T18:48:31.516973",
     "exception": false,
     "start_time": "2025-05-22T18:48:31.503187",
     "status": "completed"
    },
    "tags": []
   },
   "outputs": [
    {
     "data": {
      "application/javascript": [
       "parent.postMessage({\"jupyterEvent\": \"custom.exercise_interaction\", \"data\": {\"outcomeType\": 1, \"valueTowardsCompletion\": 0.3333333333333333, \"interactionType\": 1, \"questionType\": 1, \"questionId\": \"0.1_ZA\", \"learnToolsVersion\": \"0.3.5\", \"failureMessage\": \"\", \"exceptionClass\": \"\", \"trace\": \"\"}}, \"*\")"
      ],
      "text/plain": [
       "<IPython.core.display.Javascript object>"
      ]
     },
     "metadata": {},
     "output_type": "display_data"
    },
    {
     "data": {
      "text/markdown": [
       "<span style=\"color:#33cc33\">Correct:</span> \n",
       "\n",
       "The empty string has length zero. Note that the empty string is also the only string that Python considers as False when converting to boolean."
      ],
      "text/plain": [
       "Correct: \n",
       "\n",
       "The empty string has length zero. Note that the empty string is also the only string that Python considers as False when converting to boolean."
      ]
     },
     "metadata": {},
     "output_type": "display_data"
    }
   ],
   "source": [
    "a = \"\"\n",
    "length = 0\n",
    "q0.a.check()"
   ]
  },
  {
   "cell_type": "markdown",
   "id": "3b126804",
   "metadata": {
    "papermill": {
     "duration": 0.002943,
     "end_time": "2025-05-22T18:48:31.523632",
     "exception": false,
     "start_time": "2025-05-22T18:48:31.520689",
     "status": "completed"
    },
    "tags": []
   },
   "source": [
    "# 0b."
   ]
  },
  {
   "cell_type": "code",
   "execution_count": 3,
   "id": "3497849d",
   "metadata": {
    "execution": {
     "iopub.execute_input": "2025-05-22T18:48:31.531124Z",
     "iopub.status.busy": "2025-05-22T18:48:31.530813Z",
     "iopub.status.idle": "2025-05-22T18:48:31.538576Z",
     "shell.execute_reply": "2025-05-22T18:48:31.537047Z"
    },
    "papermill": {
     "duration": 0.013991,
     "end_time": "2025-05-22T18:48:31.540542",
     "exception": false,
     "start_time": "2025-05-22T18:48:31.526551",
     "status": "completed"
    },
    "tags": []
   },
   "outputs": [
    {
     "data": {
      "application/javascript": [
       "parent.postMessage({\"jupyterEvent\": \"custom.exercise_interaction\", \"data\": {\"outcomeType\": 1, \"valueTowardsCompletion\": 0.3333333333333333, \"interactionType\": 1, \"questionType\": 1, \"questionId\": \"0.2_ZB\", \"learnToolsVersion\": \"0.3.5\", \"failureMessage\": \"\", \"exceptionClass\": \"\", \"trace\": \"\"}}, \"*\")"
      ],
      "text/plain": [
       "<IPython.core.display.Javascript object>"
      ]
     },
     "metadata": {},
     "output_type": "display_data"
    },
    {
     "data": {
      "text/markdown": [
       "<span style=\"color:#33cc33\">Correct:</span> \n",
       "\n",
       "Keep in mind Python includes spaces (and punctuation) when counting string length."
      ],
      "text/plain": [
       "Correct: \n",
       "\n",
       "Keep in mind Python includes spaces (and punctuation) when counting string length."
      ]
     },
     "metadata": {},
     "output_type": "display_data"
    }
   ],
   "source": [
    "b = \"it's ok\"\n",
    "length = 7\n",
    "q0.b.check()"
   ]
  },
  {
   "cell_type": "markdown",
   "id": "0d4a7a6b",
   "metadata": {
    "papermill": {
     "duration": 0.003005,
     "end_time": "2025-05-22T18:48:31.547234",
     "exception": false,
     "start_time": "2025-05-22T18:48:31.544229",
     "status": "completed"
    },
    "tags": []
   },
   "source": [
    "# 0c."
   ]
  },
  {
   "cell_type": "code",
   "execution_count": 4,
   "id": "c97c4db8",
   "metadata": {
    "execution": {
     "iopub.execute_input": "2025-05-22T18:48:31.555132Z",
     "iopub.status.busy": "2025-05-22T18:48:31.554830Z",
     "iopub.status.idle": "2025-05-22T18:48:31.562116Z",
     "shell.execute_reply": "2025-05-22T18:48:31.560867Z"
    },
    "papermill": {
     "duration": 0.013216,
     "end_time": "2025-05-22T18:48:31.563767",
     "exception": false,
     "start_time": "2025-05-22T18:48:31.550551",
     "status": "completed"
    },
    "tags": []
   },
   "outputs": [
    {
     "data": {
      "application/javascript": [
       "parent.postMessage({\"jupyterEvent\": \"custom.exercise_interaction\", \"data\": {\"outcomeType\": 1, \"valueTowardsCompletion\": 0.3333333333333333, \"interactionType\": 1, \"questionType\": 1, \"questionId\": \"0.3_ZC\", \"learnToolsVersion\": \"0.3.5\", \"failureMessage\": \"\", \"exceptionClass\": \"\", \"trace\": \"\"}}, \"*\")"
      ],
      "text/plain": [
       "<IPython.core.display.Javascript object>"
      ]
     },
     "metadata": {},
     "output_type": "display_data"
    },
    {
     "data": {
      "text/markdown": [
       "<span style=\"color:#33cc33\">Correct:</span> \n",
       "\n",
       "Even though we use different syntax to create it, the string `c` is identical to `b`. In particular, note that the backslash is not part of the string, so it doesn't contribute to its length."
      ],
      "text/plain": [
       "Correct: \n",
       "\n",
       "Even though we use different syntax to create it, the string `c` is identical to `b`. In particular, note that the backslash is not part of the string, so it doesn't contribute to its length."
      ]
     },
     "metadata": {},
     "output_type": "display_data"
    }
   ],
   "source": [
    "c = 'it\\'s ok'\n",
    "length = 7\n",
    "q0.c.check()"
   ]
  },
  {
   "cell_type": "markdown",
   "id": "9634994f",
   "metadata": {
    "papermill": {
     "duration": 0.003172,
     "end_time": "2025-05-22T18:48:31.570765",
     "exception": false,
     "start_time": "2025-05-22T18:48:31.567593",
     "status": "completed"
    },
    "tags": []
   },
   "source": [
    "# 0d."
   ]
  },
  {
   "cell_type": "code",
   "execution_count": 5,
   "id": "5fb4e26e",
   "metadata": {
    "execution": {
     "iopub.execute_input": "2025-05-22T18:48:31.579865Z",
     "iopub.status.busy": "2025-05-22T18:48:31.579591Z",
     "iopub.status.idle": "2025-05-22T18:48:31.586605Z",
     "shell.execute_reply": "2025-05-22T18:48:31.585760Z"
    },
    "papermill": {
     "duration": 0.013663,
     "end_time": "2025-05-22T18:48:31.588007",
     "exception": false,
     "start_time": "2025-05-22T18:48:31.574344",
     "status": "completed"
    },
    "tags": []
   },
   "outputs": [
    {
     "data": {
      "application/javascript": [
       "parent.postMessage({\"jupyterEvent\": \"custom.exercise_interaction\", \"data\": {\"outcomeType\": 1, \"valueTowardsCompletion\": 0.3333333333333333, \"interactionType\": 1, \"questionType\": 1, \"questionId\": \"0.4_ZD\", \"learnToolsVersion\": \"0.3.5\", \"failureMessage\": \"\", \"exceptionClass\": \"\", \"trace\": \"\"}}, \"*\")"
      ],
      "text/plain": [
       "<IPython.core.display.Javascript object>"
      ]
     },
     "metadata": {},
     "output_type": "display_data"
    },
    {
     "data": {
      "text/markdown": [
       "<span style=\"color:#33cc33\">Correct:</span> \n",
       "\n",
       "The fact that this string was created using triple-quote syntax doesn't make any difference in terms of its content or length. This string is exactly the same as `'hey'`."
      ],
      "text/plain": [
       "Correct: \n",
       "\n",
       "The fact that this string was created using triple-quote syntax doesn't make any difference in terms of its content or length. This string is exactly the same as `'hey'`."
      ]
     },
     "metadata": {},
     "output_type": "display_data"
    }
   ],
   "source": [
    "d = \"\"\"hey\"\"\"\n",
    "length = 3\n",
    "q0.d.check()"
   ]
  },
  {
   "cell_type": "markdown",
   "id": "1964a2b6",
   "metadata": {
    "papermill": {
     "duration": 0.003346,
     "end_time": "2025-05-22T18:48:31.595530",
     "exception": false,
     "start_time": "2025-05-22T18:48:31.592184",
     "status": "completed"
    },
    "tags": []
   },
   "source": [
    "# 0e."
   ]
  },
  {
   "cell_type": "code",
   "execution_count": 6,
   "id": "a7757ccd",
   "metadata": {
    "execution": {
     "iopub.execute_input": "2025-05-22T18:48:31.604091Z",
     "iopub.status.busy": "2025-05-22T18:48:31.603791Z",
     "iopub.status.idle": "2025-05-22T18:48:31.610667Z",
     "shell.execute_reply": "2025-05-22T18:48:31.609931Z"
    },
    "papermill": {
     "duration": 0.012808,
     "end_time": "2025-05-22T18:48:31.611762",
     "exception": false,
     "start_time": "2025-05-22T18:48:31.598954",
     "status": "completed"
    },
    "tags": []
   },
   "outputs": [
    {
     "data": {
      "application/javascript": [
       "parent.postMessage({\"jupyterEvent\": \"custom.exercise_interaction\", \"data\": {\"outcomeType\": 1, \"valueTowardsCompletion\": 0.3333333333333333, \"interactionType\": 1, \"questionType\": 1, \"questionId\": \"0.5_ZE\", \"learnToolsVersion\": \"0.3.5\", \"failureMessage\": \"\", \"exceptionClass\": \"\", \"trace\": \"\"}}, \"*\")"
      ],
      "text/plain": [
       "<IPython.core.display.Javascript object>"
      ]
     },
     "metadata": {},
     "output_type": "display_data"
    },
    {
     "data": {
      "text/markdown": [
       "<span style=\"color:#33cc33\">Correct:</span> \n",
       "\n",
       "The newline character is just a single character! (Even though we represent it to Python using a combination of two characters.)"
      ],
      "text/plain": [
       "Correct: \n",
       "\n",
       "The newline character is just a single character! (Even though we represent it to Python using a combination of two characters.)"
      ]
     },
     "metadata": {},
     "output_type": "display_data"
    }
   ],
   "source": [
    "e = '\\n'\n",
    "length = 1\n",
    "q0.e.check()"
   ]
  },
  {
   "cell_type": "markdown",
   "id": "ec54e49c",
   "metadata": {
    "papermill": {
     "duration": 0.004986,
     "end_time": "2025-05-22T18:48:31.620779",
     "exception": false,
     "start_time": "2025-05-22T18:48:31.615793",
     "status": "completed"
    },
    "tags": []
   },
   "source": [
    "# 1.\n",
    "\n",
    "There is a saying that \"Data scientists spend 80% of their time cleaning data, and 20% of their time complaining about cleaning data.\" Let's see if you can write a function to help clean US zip code data. Given a string, it should return whether or not that string represents a valid zip code. For our purposes, a valid zip code is any string consisting of exactly 5 digits.\n",
    "\n",
    "HINT: `str` has a method that will be useful here. Use `help(str)` to review a list of string methods."
   ]
  },
  {
   "cell_type": "code",
   "execution_count": 7,
   "id": "913a3cb8",
   "metadata": {
    "execution": {
     "iopub.execute_input": "2025-05-22T18:48:31.630000Z",
     "iopub.status.busy": "2025-05-22T18:48:31.629736Z",
     "iopub.status.idle": "2025-05-22T18:48:31.637318Z",
     "shell.execute_reply": "2025-05-22T18:48:31.636466Z"
    },
    "papermill": {
     "duration": 0.013943,
     "end_time": "2025-05-22T18:48:31.638718",
     "exception": false,
     "start_time": "2025-05-22T18:48:31.624775",
     "status": "completed"
    },
    "tags": []
   },
   "outputs": [
    {
     "data": {
      "application/javascript": [
       "parent.postMessage({\"jupyterEvent\": \"custom.exercise_interaction\", \"data\": {\"outcomeType\": 1, \"valueTowardsCompletion\": 0.3333333333333333, \"interactionType\": 1, \"questionType\": 2, \"questionId\": \"1_ZipValidator\", \"learnToolsVersion\": \"0.3.5\", \"failureMessage\": \"\", \"exceptionClass\": \"\", \"trace\": \"\"}}, \"*\")"
      ],
      "text/plain": [
       "<IPython.core.display.Javascript object>"
      ]
     },
     "metadata": {},
     "output_type": "display_data"
    },
    {
     "data": {
      "text/markdown": [
       "<span style=\"color:#33cc33\">Correct</span>"
      ],
      "text/plain": [
       "Correct"
      ]
     },
     "metadata": {},
     "output_type": "display_data"
    }
   ],
   "source": [
    "def is_valid_zip(zip_code):\n",
    "    \"\"\"Returns whether the input string is a valid (5 digit) zip code\n",
    "    \"\"\"\n",
    "    return zip_code.isdigit() and len(zip_code) == 5\n",
    "\n",
    "# Check your answer\n",
    "q1.check()"
   ]
  },
  {
   "cell_type": "code",
   "execution_count": 8,
   "id": "0ea972a7",
   "metadata": {
    "execution": {
     "iopub.execute_input": "2025-05-22T18:48:31.648266Z",
     "iopub.status.busy": "2025-05-22T18:48:31.647936Z",
     "iopub.status.idle": "2025-05-22T18:48:31.652061Z",
     "shell.execute_reply": "2025-05-22T18:48:31.651086Z"
    },
    "papermill": {
     "duration": 0.0106,
     "end_time": "2025-05-22T18:48:31.653576",
     "exception": false,
     "start_time": "2025-05-22T18:48:31.642976",
     "status": "completed"
    },
    "tags": []
   },
   "outputs": [],
   "source": [
    "#q1.hint()\n",
    "#q1.solution()"
   ]
  },
  {
   "cell_type": "markdown",
   "id": "cf54558b",
   "metadata": {
    "papermill": {
     "duration": 0.003449,
     "end_time": "2025-05-22T18:48:31.661236",
     "exception": false,
     "start_time": "2025-05-22T18:48:31.657787",
     "status": "completed"
    },
    "tags": []
   },
   "source": [
    "# 2.\n",
    "\n",
    "A researcher has gathered thousands of news articles. But she wants to focus her attention on articles including a specific word. Complete the function below to help her filter her list of articles.\n",
    "\n",
    "Your function should meet the following criteria:\n",
    "\n",
    "- Do not include documents where the keyword string shows up only as a part of a larger word. For example, if she were looking for the keyword “closed”, you would not include the string “enclosed.” \n",
    "- She does not want you to distinguish upper case from lower case letters. So the phrase “Closed the case.” would be included when the keyword is “closed”\n",
    "- Do not let periods or commas affect what is matched. “It is closed.” would be included when the keyword is “closed”. But you can assume there are no other types of punctuation."
   ]
  },
  {
   "cell_type": "code",
   "execution_count": 9,
   "id": "284ed262",
   "metadata": {
    "execution": {
     "iopub.execute_input": "2025-05-22T18:48:31.669695Z",
     "iopub.status.busy": "2025-05-22T18:48:31.669459Z",
     "iopub.status.idle": "2025-05-22T18:48:31.678079Z",
     "shell.execute_reply": "2025-05-22T18:48:31.676964Z"
    },
    "papermill": {
     "duration": 0.014924,
     "end_time": "2025-05-22T18:48:31.679783",
     "exception": false,
     "start_time": "2025-05-22T18:48:31.664859",
     "status": "completed"
    },
    "tags": []
   },
   "outputs": [
    {
     "data": {
      "application/javascript": [
       "parent.postMessage({\"jupyterEvent\": \"custom.exercise_interaction\", \"data\": {\"outcomeType\": 1, \"valueTowardsCompletion\": 0.3333333333333333, \"interactionType\": 1, \"questionType\": 2, \"questionId\": \"2_WordSearch\", \"learnToolsVersion\": \"0.3.5\", \"failureMessage\": \"\", \"exceptionClass\": \"\", \"trace\": \"\"}}, \"*\")"
      ],
      "text/plain": [
       "<IPython.core.display.Javascript object>"
      ]
     },
     "metadata": {},
     "output_type": "display_data"
    },
    {
     "data": {
      "text/markdown": [
       "<span style=\"color:#33cc33\">Correct</span>"
      ],
      "text/plain": [
       "Correct"
      ]
     },
     "metadata": {},
     "output_type": "display_data"
    }
   ],
   "source": [
    "def word_search(doc_list, keyword):\n",
    "    \"\"\"\n",
    "    Takes a list of documents (each document is a string) and a keyword. \n",
    "    Returns list of the index values into the original list for all documents \n",
    "    containing the keyword.\n",
    "\n",
    "    Example:\n",
    "    doc_list = [\"The Learn Python Challenge Casino.\", \"They bought a car\", \"Casinoville\"]\n",
    "    >>> word_search(doc_list, 'casino')\n",
    "    >>> [0]\n",
    "    \"\"\"\n",
    "    keyword = keyword.lower()\n",
    "    result = []\n",
    "\n",
    "    for i, doc in enumerate(doc_list):\n",
    "     # Lowercase the document\n",
    "        doc = doc.lower()\n",
    "        # Replace punctuation with space (only basic ones we've probably learned)\n",
    "        for p in [\".\", \",\", \"?\", \"!\", \";\", \":\", \"'\", '\"']:\n",
    "            doc = doc.replace(p, \" \")\n",
    "        # Split into words\n",
    "        words = doc.split()\n",
    "        # Check for keyword match\n",
    "        if keyword in words:\n",
    "            result.append(i)\n",
    "    return result\n",
    "\n",
    "# Check your answer\n",
    "q2.check()"
   ]
  },
  {
   "cell_type": "code",
   "execution_count": 10,
   "id": "5a5498c7",
   "metadata": {
    "execution": {
     "iopub.execute_input": "2025-05-22T18:48:31.688755Z",
     "iopub.status.busy": "2025-05-22T18:48:31.688508Z",
     "iopub.status.idle": "2025-05-22T18:48:31.696497Z",
     "shell.execute_reply": "2025-05-22T18:48:31.695281Z"
    },
    "papermill": {
     "duration": 0.013944,
     "end_time": "2025-05-22T18:48:31.697830",
     "exception": false,
     "start_time": "2025-05-22T18:48:31.683886",
     "status": "completed"
    },
    "tags": []
   },
   "outputs": [
    {
     "data": {
      "application/javascript": [
       "parent.postMessage({\"jupyterEvent\": \"custom.exercise_interaction\", \"data\": {\"interactionType\": 3, \"questionType\": 2, \"questionId\": \"2_WordSearch\", \"learnToolsVersion\": \"0.3.5\", \"valueTowardsCompletion\": 0.0, \"failureMessage\": \"\", \"exceptionClass\": \"\", \"trace\": \"\", \"outcomeType\": 4}}, \"*\")"
      ],
      "text/plain": [
       "<IPython.core.display.Javascript object>"
      ]
     },
     "metadata": {},
     "output_type": "display_data"
    },
    {
     "data": {
      "text/markdown": [
       "<span style=\"color:#33cc99\">Solution:</span> \n",
       "```python\n",
       "def word_search(doc_list, keyword):\n",
       "    # list to hold the indices of matching documents\n",
       "    indices = [] \n",
       "    # Iterate through the indices (i) and elements (doc) of documents\n",
       "    for i, doc in enumerate(doc_list):\n",
       "        # Split the string doc into a list of words (according to whitespace)\n",
       "        tokens = doc.split()\n",
       "        # Make a transformed list where we 'normalize' each word to facilitate matching.\n",
       "        # Periods and commas are removed from the end of each word, and it's set to all lowercase.\n",
       "        normalized = [token.rstrip('.,').lower() for token in tokens]\n",
       "        # Is there a match? If so, update the list of matching indices.\n",
       "        if keyword.lower() in normalized:\n",
       "            indices.append(i)\n",
       "    return indices\n",
       "```"
      ],
      "text/plain": [
       "Solution: \n",
       "```python\n",
       "def word_search(doc_list, keyword):\n",
       "    # list to hold the indices of matching documents\n",
       "    indices = [] \n",
       "    # Iterate through the indices (i) and elements (doc) of documents\n",
       "    for i, doc in enumerate(doc_list):\n",
       "        # Split the string doc into a list of words (according to whitespace)\n",
       "        tokens = doc.split()\n",
       "        # Make a transformed list where we 'normalize' each word to facilitate matching.\n",
       "        # Periods and commas are removed from the end of each word, and it's set to all lowercase.\n",
       "        normalized = [token.rstrip('.,').lower() for token in tokens]\n",
       "        # Is there a match? If so, update the list of matching indices.\n",
       "        if keyword.lower() in normalized:\n",
       "            indices.append(i)\n",
       "    return indices\n",
       "```"
      ]
     },
     "metadata": {},
     "output_type": "display_data"
    }
   ],
   "source": [
    "#q2.hint()\n",
    "q2.solution()"
   ]
  },
  {
   "cell_type": "markdown",
   "id": "c14447ad",
   "metadata": {
    "papermill": {
     "duration": 0.003625,
     "end_time": "2025-05-22T18:48:31.705837",
     "exception": false,
     "start_time": "2025-05-22T18:48:31.702212",
     "status": "completed"
    },
    "tags": []
   },
   "source": [
    "# 3.\n",
    "\n",
    "Now the researcher wants to supply multiple keywords to search for. Complete the function below to help her.\n",
    "\n",
    "(You're encouraged to use the `word_search` function you just wrote when implementing this function. Reusing code in this way makes your programs more robust and readable - and it saves typing!)"
   ]
  },
  {
   "cell_type": "code",
   "execution_count": 11,
   "id": "8f7fb870",
   "metadata": {
    "execution": {
     "iopub.execute_input": "2025-05-22T18:48:31.714790Z",
     "iopub.status.busy": "2025-05-22T18:48:31.714503Z",
     "iopub.status.idle": "2025-05-22T18:48:31.722247Z",
     "shell.execute_reply": "2025-05-22T18:48:31.721036Z"
    },
    "papermill": {
     "duration": 0.014139,
     "end_time": "2025-05-22T18:48:31.723802",
     "exception": false,
     "start_time": "2025-05-22T18:48:31.709663",
     "status": "completed"
    },
    "tags": []
   },
   "outputs": [
    {
     "data": {
      "application/javascript": [
       "parent.postMessage({\"jupyterEvent\": \"custom.exercise_interaction\", \"data\": {\"outcomeType\": 1, \"valueTowardsCompletion\": 0.3333333333333333, \"interactionType\": 1, \"questionType\": 2, \"questionId\": \"3_MultiWordSearch\", \"learnToolsVersion\": \"0.3.5\", \"failureMessage\": \"\", \"exceptionClass\": \"\", \"trace\": \"\"}}, \"*\")"
      ],
      "text/plain": [
       "<IPython.core.display.Javascript object>"
      ]
     },
     "metadata": {},
     "output_type": "display_data"
    },
    {
     "data": {
      "text/markdown": [
       "<span style=\"color:#33cc33\">Correct</span>"
      ],
      "text/plain": [
       "Correct"
      ]
     },
     "metadata": {},
     "output_type": "display_data"
    }
   ],
   "source": [
    "def multi_word_search(doc_list, keywords):\n",
    "    \"\"\"\n",
    "    Takes list of documents (each document is a string) and a list of keywords.  \n",
    "    Returns a dictionary where each key is a keyword, and the value is a list of indices\n",
    "    (from doc_list) of the documents containing that keyword\n",
    "\n",
    "    >>> doc_list = [\"The Learn Python Challenge Casino.\", \"They bought a car and a casino\", \"Casinoville\"]\n",
    "    >>> keywords = ['casino', 'they']\n",
    "    >>> multi_word_search(doc_list, keywords)\n",
    "    {'casino': [0, 1], 'they': [1]}\n",
    "    \"\"\"\n",
    "    result = {}\n",
    "    for keyword in keywords:\n",
    "        result[keyword] = word_search(doc_list, keyword)\n",
    "    return result\n",
    "\n",
    "# Check your answer\n",
    "q3.check()"
   ]
  },
  {
   "cell_type": "code",
   "execution_count": 12,
   "id": "0d593d5b",
   "metadata": {
    "execution": {
     "iopub.execute_input": "2025-05-22T18:48:31.735075Z",
     "iopub.status.busy": "2025-05-22T18:48:31.734799Z",
     "iopub.status.idle": "2025-05-22T18:48:31.739158Z",
     "shell.execute_reply": "2025-05-22T18:48:31.738053Z"
    },
    "papermill": {
     "duration": 0.011194,
     "end_time": "2025-05-22T18:48:31.740458",
     "exception": false,
     "start_time": "2025-05-22T18:48:31.729264",
     "status": "completed"
    },
    "tags": []
   },
   "outputs": [],
   "source": [
    "#q3.solution()"
   ]
  },
  {
   "cell_type": "markdown",
   "id": "7c838b52",
   "metadata": {
    "papermill": {
     "duration": 0.004024,
     "end_time": "2025-05-22T18:48:31.749343",
     "exception": false,
     "start_time": "2025-05-22T18:48:31.745319",
     "status": "completed"
    },
    "tags": []
   },
   "source": [
    "# Keep Going\n",
    "\n",
    "You've learned a lot. But even the best programmers rely heavily on \"libraries\" of code from other programmers. You'll learn about that in **[the last lesson](https://www.kaggle.com/colinmorris/working-with-external-libraries)**.\n"
   ]
  },
  {
   "cell_type": "markdown",
   "id": "ff139343",
   "metadata": {
    "papermill": {
     "duration": 0.004096,
     "end_time": "2025-05-22T18:48:31.758897",
     "exception": false,
     "start_time": "2025-05-22T18:48:31.754801",
     "status": "completed"
    },
    "tags": []
   },
   "source": [
    "---\n",
    "\n",
    "\n",
    "\n",
    "\n",
    "*Have questions or comments? Visit the [course discussion forum](https://www.kaggle.com/learn/python/discussion) to chat with other learners.*"
   ]
  }
 ],
 "metadata": {
  "kaggle": {
   "accelerator": "none",
   "dataSources": [],
   "isGpuEnabled": false,
   "isInternetEnabled": false,
   "language": "python",
   "sourceType": "notebook"
  },
  "kernelspec": {
   "display_name": "Python 3",
   "language": "python",
   "name": "python3"
  },
  "language_info": {
   "codemirror_mode": {
    "name": "ipython",
    "version": 3
   },
   "file_extension": ".py",
   "mimetype": "text/x-python",
   "name": "python",
   "nbconvert_exporter": "python",
   "pygments_lexer": "ipython3",
   "version": "3.11.11"
  },
  "learntools_metadata": {
   "lesson_index": 5,
   "type": "exercise"
  },
  "papermill": {
   "default_parameters": {},
   "duration": 7.685776,
   "end_time": "2025-05-22T18:48:32.384429",
   "environment_variables": {},
   "exception": null,
   "input_path": "__notebook__.ipynb",
   "output_path": "__notebook__.ipynb",
   "parameters": {},
   "start_time": "2025-05-22T18:48:24.698653",
   "version": "2.6.0"
  }
 },
 "nbformat": 4,
 "nbformat_minor": 5
}
